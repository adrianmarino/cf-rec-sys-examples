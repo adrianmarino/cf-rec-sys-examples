{
 "cells": [
  {
   "cell_type": "markdown",
   "metadata": {
    "tags": []
   },
   "source": [
    "# Collaborative filtering KNN based recommendation systems examples"
   ]
  },
  {
   "cell_type": "markdown",
   "metadata": {},
   "source": [
    "## Imports"
   ]
  },
  {
   "cell_type": "code",
   "execution_count": 1,
   "metadata": {},
   "outputs": [],
   "source": [
    "%matplotlib inline\n",
    "%load_ext autoreload\n",
    "%autoreload 2"
   ]
  },
  {
   "cell_type": "code",
   "execution_count": 2,
   "metadata": {},
   "outputs": [],
   "source": [
    "import sys\n",
    "sys.path.append('./src')\n",
    "\n",
    "from scipy.spatial.distance import correlation, cosine\n",
    "\n",
    "from ratings_matrix import RatingsMatrix\n",
    "from dataset import MovielensDataset\n",
    "\n",
    "from similarity import cosine_sim, \\\n",
    "                       pearson_sim, \\\n",
    "                       spearman_sim, \\\n",
    "                       adjusted_cosine_sim, \\\n",
    "                       spearman\n",
    "\n",
    "from predictor import PredictorFactory, \\\n",
    "                      predict\n",
    "\n",
    "from evaluator import Evaluator\n",
    "\n",
    "from metric import RootMeanSquaredErrorMetric, \\\n",
    "                   MeanSquaredErrorMetric, \\\n",
    "                   PrecisionKMetric, \\\n",
    "                   RecallMetric, \\\n",
    "                   AVGPrecisionMetric, \\\n",
    "                   PrecisionMetric\n",
    "\n",
    "from similarity import CommonSimilarityService, \\\n",
    "                       AdjustedCosineSimilarityService\n",
    "\n",
    "from show import show_similar_items, \\\n",
    "                 show_similar_users, \\\n",
    "                 show_prediction\n",
    "\n",
    "from util import group_by, \\\n",
    "                 most_common"
   ]
  },
  {
   "cell_type": "markdown",
   "metadata": {},
   "source": [
    "## User-Item Ratings Matrix"
   ]
  },
  {
   "cell_type": "markdown",
   "metadata": {},
   "source": [
    "* [Ratings matrix](https://github.com/adrianmarino/cf-rec-sys-examples/blob/master/src/ratings_matrix.py) is a user-item ratings matrix where ratings are integers between 1 and 10.\n",
    "* 6 users (rows) have rated 6 items (columns)."
   ]
  },
  {
   "cell_type": "code",
   "execution_count": 3,
   "metadata": {},
   "outputs": [
    {
     "data": {
      "text/plain": [
       "(6, 6)"
      ]
     },
     "execution_count": 3,
     "metadata": {},
     "output_type": "execute_result"
    }
   ],
   "source": [
    "rm = RatingsMatrix([\n",
    "    [3, 7, 4, 9,  9, 7], \n",
    "    [7, 0, 5, 3,  8, 8],\n",
    "    [7, 5, 5, 0,  8, 4],\n",
    "    [5, 6, 8, 5,  9, 8],\n",
    "    [5, 8, 8, 8, 10, 9],\n",
    "    [7, 7, 0, 4,  7, 8]\n",
    "])\n",
    "rm.shape"
   ]
  },
  {
   "cell_type": "markdown",
   "metadata": {},
   "source": [
    "User ratings / row values:"
   ]
  },
  {
   "cell_type": "code",
   "execution_count": 4,
   "metadata": {},
   "outputs": [
    {
     "data": {
      "text/plain": [
       "array([[3, 7, 4, 9, 9, 7]])"
      ]
     },
     "execution_count": 4,
     "metadata": {},
     "output_type": "execute_result"
    }
   ],
   "source": [
    "rm.row(1)"
   ]
  },
  {
   "cell_type": "markdown",
   "metadata": {},
   "source": [
    "Mean user rating / row mean:\n",
    "\n",
    "$\\overline{Row}_i = \\frac{1}{C}  \\sum_{j=0}^{C-1} Value_{i, j}$\n",
    "\n",
    "* $i$ is a row.\n",
    "* $j$ is a column.\n",
    "* $C$ is columns size."
   ]
  },
  {
   "cell_type": "code",
   "execution_count": 5,
   "metadata": {},
   "outputs": [
    {
     "data": {
      "text/plain": [
       "6.5"
      ]
     },
     "execution_count": 5,
     "metadata": {},
     "output_type": "execute_result"
    }
   ],
   "source": [
    "rm.mean_row(1)"
   ]
  },
  {
   "cell_type": "markdown",
   "metadata": {},
   "source": [
    "User rating deviance:\n",
    "\n",
    "$Deviance_{i, j} = Value_{i, j} - \\overline{Row}_i$\n",
    "\n",
    "* $i$ is a row.\n",
    "* $j$ is a column."
   ]
  },
  {
   "cell_type": "code",
   "execution_count": 6,
   "metadata": {},
   "outputs": [
    {
     "data": {
      "text/plain": [
       "-3.5"
      ]
     },
     "execution_count": 6,
     "metadata": {},
     "output_type": "execute_result"
    }
   ],
   "source": [
    "rm.row_deviation(1, 1)"
   ]
  },
  {
   "cell_type": "markdown",
   "metadata": {},
   "source": [
    "User(Row)-item(Column) rating:"
   ]
  },
  {
   "cell_type": "code",
   "execution_count": 7,
   "metadata": {},
   "outputs": [
    {
     "data": {
      "text/plain": [
       "0"
      ]
     },
     "execution_count": 7,
     "metadata": {},
     "output_type": "execute_result"
    }
   ],
   "source": [
    "rm.cell(3, 4)"
   ]
  },
  {
   "cell_type": "markdown",
   "metadata": {},
   "source": [
    "Iterate each rating:"
   ]
  },
  {
   "cell_type": "code",
   "execution_count": 8,
   "metadata": {},
   "outputs": [
    {
     "data": {
      "text/plain": [
       "['rating: 3, user_id: 1, item_id: 1',\n",
       " 'rating: 7, user_id: 1, item_id: 2',\n",
       " 'rating: 4, user_id: 1, item_id: 3',\n",
       " 'rating: 9, user_id: 1, item_id: 4',\n",
       " 'rating: 9, user_id: 1, item_id: 5']"
      ]
     },
     "execution_count": 8,
     "metadata": {},
     "output_type": "execute_result"
    }
   ],
   "source": [
    "[f'rating: {r}, user_id: {u_id}, item_id: {i_id}' for r, u_id, i_id in rm.cells][:5]"
   ]
  },
  {
   "cell_type": "code",
   "execution_count": 9,
   "metadata": {},
   "outputs": [
    {
     "data": {
      "image/png": "[encoded data removed]",
      "text/plain": [
       "<Figure size 360x360 with 2 Axes>"
      ]
     },
     "metadata": {
      "needs_background": "light"
     },
     "output_type": "display_data"
    }
   ],
   "source": [
    "rm.plot()"
   ]
  },
  {
   "cell_type": "markdown",
   "metadata": {},
   "source": [
    "## Users similarity"
   ]
  },
  {
   "cell_type": "code",
   "execution_count": 10,
   "metadata": {},
   "outputs": [
    {
     "data": {
      "text/html": [
       "<div>\n",
       "<style scoped>\n",
       "    .dataframe tbody tr th:only-of-type {\n",
       "        vertical-align: middle;\n",
       "    }\n",
       "\n",
       "    .dataframe tbody tr th {\n",
       "        vertical-align: top;\n",
       "    }\n",
       "\n",
       "    .dataframe thead th {\n",
       "        text-align: right;\n",
       "    }\n",
       "</style>\n",
       "<table border=\"1\" class=\"dataframe\">\n",
       "  <thead>\n",
       "    <tr style=\"text-align: right;\">\n",
       "      <th></th>\n",
       "      <th>0</th>\n",
       "      <th>1</th>\n",
       "      <th>2</th>\n",
       "      <th>3</th>\n",
       "      <th>4</th>\n",
       "      <th>5</th>\n",
       "    </tr>\n",
       "  </thead>\n",
       "  <tbody>\n",
       "    <tr>\n",
       "      <th>0</th>\n",
       "      <td>1.000000</td>\n",
       "      <td>0.799268</td>\n",
       "      <td>0.779227</td>\n",
       "      <td>0.934622</td>\n",
       "      <td>0.973890</td>\n",
       "      <td>0.884600</td>\n",
       "    </tr>\n",
       "    <tr>\n",
       "      <th>1</th>\n",
       "      <td>0.799268</td>\n",
       "      <td>1.000000</td>\n",
       "      <td>0.874744</td>\n",
       "      <td>0.905850</td>\n",
       "      <td>0.866146</td>\n",
       "      <td>0.827036</td>\n",
       "    </tr>\n",
       "    <tr>\n",
       "      <th>2</th>\n",
       "      <td>0.779227</td>\n",
       "      <td>0.874744</td>\n",
       "      <td>1.000000</td>\n",
       "      <td>0.909513</td>\n",
       "      <td>0.865454</td>\n",
       "      <td>0.853275</td>\n",
       "    </tr>\n",
       "    <tr>\n",
       "      <th>3</th>\n",
       "      <td>0.934622</td>\n",
       "      <td>0.905850</td>\n",
       "      <td>0.909513</td>\n",
       "      <td>1.000000</td>\n",
       "      <td>0.989344</td>\n",
       "      <td>0.865614</td>\n",
       "    </tr>\n",
       "    <tr>\n",
       "      <th>4</th>\n",
       "      <td>0.973890</td>\n",
       "      <td>0.866146</td>\n",
       "      <td>0.865454</td>\n",
       "      <td>0.989344</td>\n",
       "      <td>1.000000</td>\n",
       "      <td>0.881640</td>\n",
       "    </tr>\n",
       "    <tr>\n",
       "      <th>5</th>\n",
       "      <td>0.884600</td>\n",
       "      <td>0.827036</td>\n",
       "      <td>0.853275</td>\n",
       "      <td>0.865614</td>\n",
       "      <td>0.881640</td>\n",
       "      <td>1.000000</td>\n",
       "    </tr>\n",
       "  </tbody>\n",
       "</table>\n",
       "</div>"
      ],
      "text/plain": [
       "          0         1         2         3         4         5\n",
       "0  1.000000  0.799268  0.779227  0.934622  0.973890  0.884600\n",
       "1  0.799268  1.000000  0.874744  0.905850  0.866146  0.827036\n",
       "2  0.779227  0.874744  1.000000  0.909513  0.865454  0.853275\n",
       "3  0.934622  0.905850  0.909513  1.000000  0.989344  0.865614\n",
       "4  0.973890  0.866146  0.865454  0.989344  1.000000  0.881640\n",
       "5  0.884600  0.827036  0.853275  0.865614  0.881640  1.000000"
      ]
     },
     "execution_count": 10,
     "metadata": {},
     "output_type": "execute_result"
    }
   ],
   "source": [
    "cosine_sim(rm)"
   ]
  },
  {
   "cell_type": "code",
   "execution_count": 11,
   "metadata": {},
   "outputs": [
    {
     "data": {
      "text/html": [
       "<div>\n",
       "<style scoped>\n",
       "    .dataframe tbody tr th:only-of-type {\n",
       "        vertical-align: middle;\n",
       "    }\n",
       "\n",
       "    .dataframe tbody tr th {\n",
       "        vertical-align: top;\n",
       "    }\n",
       "\n",
       "    .dataframe thead th {\n",
       "        text-align: right;\n",
       "    }\n",
       "</style>\n",
       "<table border=\"1\" class=\"dataframe\">\n",
       "  <thead>\n",
       "    <tr style=\"text-align: right;\">\n",
       "      <th></th>\n",
       "      <th>0</th>\n",
       "      <th>1</th>\n",
       "      <th>2</th>\n",
       "      <th>3</th>\n",
       "      <th>4</th>\n",
       "      <th>5</th>\n",
       "    </tr>\n",
       "  </thead>\n",
       "  <tbody>\n",
       "    <tr>\n",
       "      <th>0</th>\n",
       "      <td>1.000000</td>\n",
       "      <td>0.236908</td>\n",
       "      <td>0.421263</td>\n",
       "      <td>-0.519085</td>\n",
       "      <td>-0.125892</td>\n",
       "      <td>0.010090</td>\n",
       "    </tr>\n",
       "    <tr>\n",
       "      <th>1</th>\n",
       "      <td>0.236908</td>\n",
       "      <td>1.000000</td>\n",
       "      <td>-0.805243</td>\n",
       "      <td>0.085741</td>\n",
       "      <td>0.237273</td>\n",
       "      <td>0.520625</td>\n",
       "    </tr>\n",
       "    <tr>\n",
       "      <th>2</th>\n",
       "      <td>0.421263</td>\n",
       "      <td>-0.805243</td>\n",
       "      <td>1.000000</td>\n",
       "      <td>-0.767941</td>\n",
       "      <td>-0.230521</td>\n",
       "      <td>-0.053640</td>\n",
       "    </tr>\n",
       "    <tr>\n",
       "      <th>3</th>\n",
       "      <td>-0.519085</td>\n",
       "      <td>0.085741</td>\n",
       "      <td>-0.767941</td>\n",
       "      <td>1.000000</td>\n",
       "      <td>-0.299059</td>\n",
       "      <td>-0.644550</td>\n",
       "    </tr>\n",
       "    <tr>\n",
       "      <th>4</th>\n",
       "      <td>-0.125892</td>\n",
       "      <td>0.237273</td>\n",
       "      <td>-0.230521</td>\n",
       "      <td>-0.299059</td>\n",
       "      <td>1.000000</td>\n",
       "      <td>0.599158</td>\n",
       "    </tr>\n",
       "    <tr>\n",
       "      <th>5</th>\n",
       "      <td>0.010090</td>\n",
       "      <td>0.520625</td>\n",
       "      <td>-0.053640</td>\n",
       "      <td>-0.644550</td>\n",
       "      <td>0.599158</td>\n",
       "      <td>1.000000</td>\n",
       "    </tr>\n",
       "  </tbody>\n",
       "</table>\n",
       "</div>"
      ],
      "text/plain": [
       "          0         1         2         3         4         5\n",
       "0  1.000000  0.236908  0.421263 -0.519085 -0.125892  0.010090\n",
       "1  0.236908  1.000000 -0.805243  0.085741  0.237273  0.520625\n",
       "2  0.421263 -0.805243  1.000000 -0.767941 -0.230521 -0.053640\n",
       "3 -0.519085  0.085741 -0.767941  1.000000 -0.299059 -0.644550\n",
       "4 -0.125892  0.237273 -0.230521 -0.299059  1.000000  0.599158\n",
       "5  0.010090  0.520625 -0.053640 -0.644550  0.599158  1.000000"
      ]
     },
     "execution_count": 11,
     "metadata": {},
     "output_type": "execute_result"
    }
   ],
   "source": [
    "adjusted_cosine_sim(rm)"
   ]
  },
  {
   "cell_type": "markdown",
   "metadata": {},
   "source": [
    "## User based recomendation system using cosine similarity"
   ]
  },
  {
   "cell_type": "markdown",
   "metadata": {},
   "source": [
    "### Similar users\n",
    "\n",
    "[CommonSimilarityService](https://github.com/adrianmarino/cf-rec-sys-examples/blob/master/src/similarity/service/impl/common_similarity_service.py) class finds k similar users give a _user id_. in this case we use cosine similarity:\n",
    "\n",
    "\n",
    "<center>$\\Large cosine \\mspace{3mu} distance_{a, b} = \\frac{ \\sum_{j \\in C} r_{a, j}.r_{b, j}}{\\sqrt{\\sum_{j \\in C} r_{a, j}^2}.\\sqrt{\\sum_{j \\in C} r_{b, j}^2}  }$</center>\n",
    "\n"
   ]
  },
  {
   "cell_type": "markdown",
   "metadata": {},
   "source": [
    " "
   ]
  },
  {
   "cell_type": "markdown",
   "metadata": {},
   "source": [
    "<center>$\\Large cosine \\mspace{3mu} similarity_{a, b} = 1 - cosine \\mspace{3mu} distance_{a, b}$</center>\n"
   ]
  },
  {
   "cell_type": "markdown",
   "metadata": {},
   "source": [
    " "
   ]
  },
  {
   "cell_type": "markdown",
   "metadata": {},
   "source": [
    "\n",
    "#### Observations\n",
    "\n",
    "* $C$ is columns count in [Ratings matrix](https://github.com/adrianmarino/cf-rec-sys-examples/blob/master/src/ratings_matrix.py).\n",
    "* $j$ is a column number.\n",
    "* $a$ and $b$ are two rows in [Ratings matrix](https://github.com/adrianmarino/cf-rec-sys-examples/blob/master/src/ratings_matrix.py) \n",
    "of which we want to know how similar they are.\n",
    "* $a$ and $b$ represent ratings of both users for all items (one for column).\n",
    "* $ 0 <= cosine \\mspace{3mu} similarity_{a, b} <= 1$. The higher the value the more similar."
   ]
  },
  {
   "cell_type": "code",
   "execution_count": 12,
   "metadata": {},
   "outputs": [
    {
     "name": "stdout",
     "output_type": "stream",
     "text": [
      "4 most similar users to user 1:\n",
      "\n",
      "- User ID 5, with similarity of 0.9738899354018394.\n",
      "- User ID 4, with similarity of 0.9346216841783769.\n",
      "- User ID 6, with similarity of 0.8846004572297814.\n",
      "- User ID 2, with similarity of 0.7992679780524188.\n"
     ]
    }
   ],
   "source": [
    "n_neighbors = 4\n",
    "user_id     = 1\n",
    "\n",
    "predictor_factory = PredictorFactory()\n",
    "\n",
    "sim_service = CommonSimilarityService(rm, cosine, n_neighbors)\n",
    "\n",
    "similarities, indices = sim_service.similars(user_id)\n",
    "\n",
    "show_similar_users(indices, similarities, user_id)"
   ]
  },
  {
   "cell_type": "markdown",
   "metadata": {},
   "source": [
    "### User based predictor"
   ]
  },
  {
   "cell_type": "markdown",
   "metadata": {},
   "source": [
    "[UserBasedPredictor](https://github.com/adrianmarino/cf-rec-sys-examples/blob/master/src/predictor/impl/user_based_predictor.py) class predicts ratings for specified user-item combinations based on user-based approach. Predictions are computed as weighted average of deviations from neighbor’s mean and adding it to active user’s mean rating.\n",
    "\n",
    "<center>$\\Large prediction_{u, i} = \\overline{r}_u + \\frac{\\sum_{o \\in K} (r_{o, i} - \\overline{r}_o) . w_{u, o} }{ \\sum_{o \\in K} w_{u, o}}, u \\neq o $</center>\n",
    "\n",
    "#### Observations\n",
    "\n",
    "* We seek to predict the rating than user $u$ gave to item $i$ calculating $prediction_{u, i}$.\n",
    "* $o$ (other) user belongs to $K$, the set of all users similar to $u$ user.\n",
    "* $w_{u,o}$ is the similarity between users $u$ and $o$ ($w_{u,o} = similarity_{u,o} = 1 - distance_{u,o}$).\n",
    "* $K$ could be calculated using any subclass of [SimilarityService](https://github.com/adrianmarino/cf-rec-sys-examples/blob/master/src/similarity/service/similarity_service.py) ([CommonSimilarityService](https://github.com/adrianmarino/cf-rec-sys-examples/blob/master/src/similarity/service/impl/common_similarity_service.py) or [AdjustedCosineSimilarityService](https://github.com/adrianmarino/cf-rec-sys-examples/blob/master/src/similarity/service/impl/adjusted_cosine_similarity_service.py)).\n",
    "* $\\overline{r}_{u}$ is the mean of all ratings made by $u$ user.\n",
    "* $r_{o,i} - \\overline{r}_{o}$ is the diference between the $o$ user rating to $i$ item and $\\overline{r}_{o}$ mean. Is used to adjust the user associated biases. User biases occur as certain users may tend to always give high or low ratings to all items."
   ]
  },
  {
   "cell_type": "code",
   "execution_count": 13,
   "metadata": {},
   "outputs": [],
   "source": [
    "evaluator = Evaluator(\n",
    "    metrics=[\n",
    "        MeanSquaredErrorMetric(decimals=4),\n",
    "        RootMeanSquaredErrorMetric(decimals=4),\n",
    "        PrecisionKMetric(k=5, decimals=4),\n",
    "        PrecisionKMetric(k=10, decimals=4),\n",
    "        PrecisionKMetric(k=30, decimals=4),\n",
    "        # AVGPrecisionMetric(decimals=4),\n",
    "        PrecisionMetric(decimals=4),\n",
    "        RecallMetric(decimals=4)\n",
    "    ]\n",
    ")"
   ]
  },
  {
   "cell_type": "code",
   "execution_count": 14,
   "metadata": {},
   "outputs": [
    {
     "data": {
      "text/html": [
       "<div>\n",
       "<style scoped>\n",
       "    .dataframe tbody tr th:only-of-type {\n",
       "        vertical-align: middle;\n",
       "    }\n",
       "\n",
       "    .dataframe tbody tr th {\n",
       "        vertical-align: top;\n",
       "    }\n",
       "\n",
       "    .dataframe thead th {\n",
       "        text-align: right;\n",
       "    }\n",
       "</style>\n",
       "<table border=\"1\" class=\"dataframe\">\n",
       "  <thead>\n",
       "    <tr style=\"text-align: right;\">\n",
       "      <th></th>\n",
       "      <th>Predictor</th>\n",
       "      <th>MSE</th>\n",
       "      <th>RMSE</th>\n",
       "      <th>Precision@5(macro)</th>\n",
       "      <th>Precision@10(macro)</th>\n",
       "      <th>Precision@30(macro)</th>\n",
       "      <th>Precision(macro)</th>\n",
       "      <th>Recall(macro)</th>\n",
       "    </tr>\n",
       "  </thead>\n",
       "  <tbody>\n",
       "    <tr>\n",
       "      <th>0</th>\n",
       "      <td>knn_cosine_user_based</td>\n",
       "      <td>2.8928</td>\n",
       "      <td>1.7008</td>\n",
       "      <td>0.0</td>\n",
       "      <td>0.1667</td>\n",
       "      <td>0.3021</td>\n",
       "      <td>0.2887</td>\n",
       "      <td>0.3264</td>\n",
       "    </tr>\n",
       "  </tbody>\n",
       "</table>\n",
       "</div>"
      ],
      "text/plain": [
       "               Predictor     MSE    RMSE  Precision@5(macro)  \\\n",
       "0  knn_cosine_user_based  2.8928  1.7008                 0.0   \n",
       "\n",
       "   Precision@10(macro)  Precision@30(macro)  Precision(macro)  Recall(macro)  \n",
       "0               0.1667               0.3021            0.2887         0.3264  "
      ]
     },
     "execution_count": 14,
     "metadata": {},
     "output_type": "execute_result"
    }
   ],
   "source": [
    "predictor = predictor_factory.create('knn_cosine_user_based', rm, n_neighbors)\n",
    "\n",
    "evaluator.evaluate(predictors=[predictor], rm=rm)"
   ]
  },
  {
   "cell_type": "code",
   "execution_count": 15,
   "metadata": {},
   "outputs": [
    {
     "name": "stdout",
     "output_type": "stream",
     "text": [
      "Item base rating prediction:\n",
      "- User ID: 3.\n",
      "- Item ID: 4.\n",
      "- Predicted rating: 3.450903595941009.\n",
      "- Real rating: 0 (0 == unrated item).\n"
     ]
    }
   ],
   "source": [
    "user_id = 3\n",
    "item_id = 4\n",
    "\n",
    "show_prediction(rm, user_id, item_id, predictor.predict(user_id, item_id))"
   ]
  },
  {
   "cell_type": "code",
   "execution_count": 16,
   "metadata": {},
   "outputs": [
    {
     "name": "stdout",
     "output_type": "stream",
     "text": [
      "Item base rating prediction:\n",
      "- User ID: 1.\n",
      "- Item ID: 5.\n",
      "- Predicted rating: 8.60564770282165.\n",
      "- Real rating: 9 (0 == unrated item).\n"
     ]
    }
   ],
   "source": [
    "user_id = 1\n",
    "item_id = 5\n",
    "\n",
    "show_prediction(rm, user_id, item_id, predictor.predict(user_id, item_id))"
   ]
  },
  {
   "cell_type": "markdown",
   "metadata": {},
   "source": [
    "## Item based recommedation system using cosine similarity"
   ]
  },
  {
   "cell_type": "markdown",
   "metadata": {},
   "source": [
    "### Similar items\n",
    "\n",
    "[CommonSimilarityService](https://github.com/adrianmarino/cf-rec-sys-examples/blob/master/src/similarity/service/impl/common_similarity_service.py) class finds k similar items given the _item_id_ and a transposed version of ratings matrix."
   ]
  },
  {
   "cell_type": "code",
   "execution_count": 17,
   "metadata": {},
   "outputs": [
    {
     "name": "stdout",
     "output_type": "stream",
     "text": [
      "4 most similar items to item 3:\n",
      "\n",
      "- Item ID 5, with similarity of 0.9183361255345218.\n",
      "- Item ID 6, with similarity of 0.874759773038195.\n",
      "- Item ID 1, with similarity of 0.8103647462221735.\n",
      "- Item ID 4, with similarity of 0.7969178003023931.\n"
     ]
    }
   ],
   "source": [
    "item_id = 3\n",
    "\n",
    "sim_service = CommonSimilarityService(rm.T(), cosine, n_neighbors)\n",
    "\n",
    "similarities, indices = sim_service.similars(item_id)\n",
    "\n",
    "show_similar_items(indices, similarities, item_id)"
   ]
  },
  {
   "cell_type": "markdown",
   "metadata": {},
   "source": [
    "### Item based predict\n",
    "\n",
    "In this approach, similarities between pair of items are computed using $cosine \\mspace{3mu} similarity \\mspace{3mu}$ ($1 - cosine \\mspace{3mu} distance$). The rating for target item $i$ for active user $a$ can be predicted by using a simple weighted average as:\n",
    "\n",
    "<center>$\\Large prediction_{u, i} = \\frac{\\sum_{j \\in K} r_{u, j}. w_{i, j} }{\\sum_{j \\in K} w_{i, j} }, i \\neq j $</center>\n",
    "\n",
    "#### Observations\n",
    "\n",
    "* We seek to predict the rating than user $u$  gave to item $i$ calculating $prediction_{u,i}$.\n",
    "* $K$ is the neighborhood of $j$ items most similar to $i$ item. $j$ belongs to $K$ and $i \\neq j$. \n",
    "* $w_{i,j}$ is the similarity between items $i$ and $j$ ($w_{i,j}$ = $similarity_{i,j} = 1 - distance_{i,j}$)."
   ]
  },
  {
   "cell_type": "code",
   "execution_count": 18,
   "metadata": {},
   "outputs": [],
   "source": [
    "predictor = predictor_factory.create('knn_cosine_item_based', rm, n_neighbors)"
   ]
  },
  {
   "cell_type": "code",
   "execution_count": 19,
   "metadata": {},
   "outputs": [
    {
     "data": {
      "text/html": [
       "<div>\n",
       "<style scoped>\n",
       "    .dataframe tbody tr th:only-of-type {\n",
       "        vertical-align: middle;\n",
       "    }\n",
       "\n",
       "    .dataframe tbody tr th {\n",
       "        vertical-align: top;\n",
       "    }\n",
       "\n",
       "    .dataframe thead th {\n",
       "        text-align: right;\n",
       "    }\n",
       "</style>\n",
       "<table border=\"1\" class=\"dataframe\">\n",
       "  <thead>\n",
       "    <tr style=\"text-align: right;\">\n",
       "      <th></th>\n",
       "      <th>Predictor</th>\n",
       "      <th>MSE</th>\n",
       "      <th>RMSE</th>\n",
       "      <th>Precision@5(macro)</th>\n",
       "      <th>Precision@10(macro)</th>\n",
       "      <th>Precision@30(macro)</th>\n",
       "      <th>Precision(macro)</th>\n",
       "      <th>Recall(macro)</th>\n",
       "    </tr>\n",
       "  </thead>\n",
       "  <tbody>\n",
       "    <tr>\n",
       "      <th>0</th>\n",
       "      <td>knn_cosine_item_based</td>\n",
       "      <td>3.2925</td>\n",
       "      <td>1.8145</td>\n",
       "      <td>0.1667</td>\n",
       "      <td>0.2333</td>\n",
       "      <td>0.1111</td>\n",
       "      <td>0.1052</td>\n",
       "      <td>0.0938</td>\n",
       "    </tr>\n",
       "  </tbody>\n",
       "</table>\n",
       "</div>"
      ],
      "text/plain": [
       "               Predictor     MSE    RMSE  Precision@5(macro)  \\\n",
       "0  knn_cosine_item_based  3.2925  1.8145              0.1667   \n",
       "\n",
       "   Precision@10(macro)  Precision@30(macro)  Precision(macro)  Recall(macro)  \n",
       "0               0.2333               0.1111            0.1052         0.0938  "
      ]
     },
     "execution_count": 19,
     "metadata": {},
     "output_type": "execute_result"
    }
   ],
   "source": [
    "evaluator.evaluate(predictors=[predictor], rm=rm)"
   ]
  },
  {
   "cell_type": "code",
   "execution_count": 20,
   "metadata": {},
   "outputs": [
    {
     "name": "stdout",
     "output_type": "stream",
     "text": [
      "Item base rating prediction:\n",
      "- User ID: 4.\n",
      "- Item ID: 3.\n",
      "- Predicted rating: 7.742467352632247.\n",
      "- Real rating: 8 (0 == unrated item).\n"
     ]
    }
   ],
   "source": [
    "user_id = 4\n",
    "item_id = 3\n",
    "\n",
    "show_prediction(rm, user_id, item_id, predictor.predict(user_id, item_id))"
   ]
  },
  {
   "cell_type": "markdown",
   "metadata": {},
   "source": [
    "## Item based recommedation system using adjusted cosine similarity"
   ]
  },
  {
   "cell_type": "markdown",
   "metadata": {},
   "source": [
    "### Similar items"
   ]
  },
  {
   "cell_type": "markdown",
   "metadata": {},
   "source": [
    "Using cosine similarity metric for item-based CF approach **does not consider difference in ratings of users**. Adjusted cosine similarity offsets this drawback by subtracting respective user’s average rating ($\\overline{r}_u$) from each co-rated pair, and is defined as below:\n",
    "\n",
    "<center>$\\Large adj. \\mspace{3mu} cosine \\mspace{3mu} distance_{i, j} = \\frac{ \\sum_{u \\in U} (r_{u, i} - \\overline{r}_{u}).(r_{u, j} - \\overline{r}_{u})}{\\sqrt{ \\sum_{u \\in U} (r_{u, i} - \\overline{r}_{u})^2}.\\sqrt{ \\sum_{u \\in U} (r_{u, j} - \\overline{r}_{u})^2}}$</center>\n",
    "\n"
   ]
  },
  {
   "cell_type": "markdown",
   "metadata": {},
   "source": [
    " "
   ]
  },
  {
   "cell_type": "markdown",
   "metadata": {},
   "source": [
    "<center>$\\Large adj. \\mspace{3mu} cosine \\mspace{3mu} similarity_{i, j} = 1 - adj. \\mspace{3mu} cosine \\mspace{3mu} distance_{i, i}$</center>"
   ]
  },
  {
   "cell_type": "markdown",
   "metadata": {},
   "source": [
    "#### Observations\n",
    "\n",
    "* $U$ all users in [Ratings matrix](https://github.com/adrianmarino/cf-rec-sys-examples/blob/master/src/ratings_matrix.py).\n",
    "* $u$ a given user.\n",
    "* $i$ and $j$ represent two items."
   ]
  },
  {
   "cell_type": "markdown",
   "metadata": {},
   "source": [
    " "
   ]
  },
  {
   "cell_type": "markdown",
   "metadata": {},
   "source": [
    "[AdjustedCosineSimilarityService](https://github.com/adrianmarino/cf-rec-sys-examples/blob/master/src/similarity/service/impl/adjusted_cosine_similarity_service.py) class finds k similar items given the _item_id_ and ratings matrix."
   ]
  },
  {
   "cell_type": "code",
   "execution_count": 21,
   "metadata": {},
   "outputs": [
    {
     "name": "stdout",
     "output_type": "stream",
     "text": [
      "4 most similar items to item 3:\n",
      "\n",
      "- Item ID 1, with similarity of 0.42126273187113467.\n",
      "- Item ID 6, with similarity of -0.05363989048891138.\n",
      "- Item ID 5, with similarity of -0.2305213582693748.\n",
      "- Item ID 4, with similarity of -0.7679410465751941.\n"
     ]
    }
   ],
   "source": [
    "user_id = 3 \n",
    "\n",
    "sim_service = AdjustedCosineSimilarityService(rm, n_neighbors)\n",
    "\n",
    "similarities, indices = sim_service.similars(item_id)\n",
    "\n",
    "show_similar_items(indices, similarities, item_id)"
   ]
  },
  {
   "cell_type": "markdown",
   "metadata": {},
   "source": [
    "### Item based predictor"
   ]
  },
  {
   "cell_type": "code",
   "execution_count": 22,
   "metadata": {},
   "outputs": [
    {
     "data": {
      "text/html": [
       "<div>\n",
       "<style scoped>\n",
       "    .dataframe tbody tr th:only-of-type {\n",
       "        vertical-align: middle;\n",
       "    }\n",
       "\n",
       "    .dataframe tbody tr th {\n",
       "        vertical-align: top;\n",
       "    }\n",
       "\n",
       "    .dataframe thead th {\n",
       "        text-align: right;\n",
       "    }\n",
       "</style>\n",
       "<table border=\"1\" class=\"dataframe\">\n",
       "  <thead>\n",
       "    <tr style=\"text-align: right;\">\n",
       "      <th></th>\n",
       "      <th>Predictor</th>\n",
       "      <th>MSE</th>\n",
       "      <th>RMSE</th>\n",
       "      <th>Precision@5(macro)</th>\n",
       "      <th>Precision@10(macro)</th>\n",
       "      <th>Precision@30(macro)</th>\n",
       "      <th>Precision(macro)</th>\n",
       "      <th>Recall(macro)</th>\n",
       "    </tr>\n",
       "  </thead>\n",
       "  <tbody>\n",
       "    <tr>\n",
       "      <th>0</th>\n",
       "      <td>knn_adj_cosine_item_based</td>\n",
       "      <td>13.2281</td>\n",
       "      <td>3.637</td>\n",
       "      <td>0.4</td>\n",
       "      <td>0.0667</td>\n",
       "      <td>0.2698</td>\n",
       "      <td>0.2513</td>\n",
       "      <td>0.2619</td>\n",
       "    </tr>\n",
       "  </tbody>\n",
       "</table>\n",
       "</div>"
      ],
      "text/plain": [
       "                   Predictor      MSE   RMSE  Precision@5(macro)  \\\n",
       "0  knn_adj_cosine_item_based  13.2281  3.637                 0.4   \n",
       "\n",
       "   Precision@10(macro)  Precision@30(macro)  Precision(macro)  Recall(macro)  \n",
       "0               0.0667               0.2698            0.2513         0.2619  "
      ]
     },
     "execution_count": 22,
     "metadata": {},
     "output_type": "execute_result"
    }
   ],
   "source": [
    "predictor = predictor_factory.create('knn_adj_cosine_item_based', rm, n_neighbors)\n",
    "evaluator.evaluate(predictors=[predictor], rm=rm)"
   ]
  },
  {
   "cell_type": "code",
   "execution_count": 23,
   "metadata": {},
   "outputs": [
    {
     "name": "stdout",
     "output_type": "stream",
     "text": [
      "Item base rating prediction:\n",
      "- User ID: 1.\n",
      "- Item ID: 1.\n",
      "- Predicted rating: 4.205640412693527.\n",
      "- Real rating: 3 (0 == unrated item).\n"
     ]
    }
   ],
   "source": [
    "user_id = 1\n",
    "item_id = 1\n",
    "\n",
    "show_prediction(rm, user_id, item_id, predictor.predict(user_id, item_id))"
   ]
  },
  {
   "cell_type": "markdown",
   "metadata": {
    "tags": []
   },
   "source": [
    "## Predict and evaluate"
   ]
  },
  {
   "cell_type": "markdown",
   "metadata": {},
   "source": [
    "Evaluate all recomendation systems with distinct dsitance measures under example rating matrix."
   ]
  },
  {
   "cell_type": "code",
   "execution_count": 24,
   "metadata": {},
   "outputs": [
    {
     "name": "stdout",
     "output_type": "stream",
     "text": [
      "CPU times: user 10.5 ms, sys: 56.2 ms, total: 66.8 ms\n",
      "Wall time: 91.1 ms\n"
     ]
    }
   ],
   "source": [
    "%%time\n",
    "predictors = predictor_factory.create_all(rm, n_neighbors)"
   ]
  },
  {
   "cell_type": "code",
   "execution_count": 25,
   "metadata": {},
   "outputs": [
    {
     "name": "stdout",
     "output_type": "stream",
     "text": [
      "True rating: 9\n"
     ]
    },
    {
     "data": {
      "text/html": [
       "<div>\n",
       "<style scoped>\n",
       "    .dataframe tbody tr th:only-of-type {\n",
       "        vertical-align: middle;\n",
       "    }\n",
       "\n",
       "    .dataframe tbody tr th {\n",
       "        vertical-align: top;\n",
       "    }\n",
       "\n",
       "    .dataframe thead th {\n",
       "        text-align: right;\n",
       "    }\n",
       "</style>\n",
       "<table border=\"1\" class=\"dataframe\">\n",
       "  <thead>\n",
       "    <tr style=\"text-align: right;\">\n",
       "      <th></th>\n",
       "      <th>Predictor</th>\n",
       "      <th>Prediction</th>\n",
       "    </tr>\n",
       "  </thead>\n",
       "  <tbody>\n",
       "    <tr>\n",
       "      <th>0</th>\n",
       "      <td>knn_cosine_user_based</td>\n",
       "      <td>8.61</td>\n",
       "    </tr>\n",
       "    <tr>\n",
       "      <th>1</th>\n",
       "      <td>knn_cosine_item_based</td>\n",
       "      <td>6.84</td>\n",
       "    </tr>\n",
       "    <tr>\n",
       "      <th>2</th>\n",
       "      <td>knn_pearson_user_based</td>\n",
       "      <td>8.30</td>\n",
       "    </tr>\n",
       "    <tr>\n",
       "      <th>3</th>\n",
       "      <td>knn_pearson_item_based</td>\n",
       "      <td>0.00</td>\n",
       "    </tr>\n",
       "    <tr>\n",
       "      <th>4</th>\n",
       "      <td>knn_adj_cosine_item_based</td>\n",
       "      <td>9.49</td>\n",
       "    </tr>\n",
       "    <tr>\n",
       "      <th>5</th>\n",
       "      <td>knn_euclidean_user_based</td>\n",
       "      <td>0.00</td>\n",
       "    </tr>\n",
       "    <tr>\n",
       "      <th>6</th>\n",
       "      <td>knn_euclidean_item_based</td>\n",
       "      <td>0.00</td>\n",
       "    </tr>\n",
       "    <tr>\n",
       "      <th>7</th>\n",
       "      <td>knn_minkowski_user_based</td>\n",
       "      <td>0.00</td>\n",
       "    </tr>\n",
       "    <tr>\n",
       "      <th>8</th>\n",
       "      <td>knn_minkowski_item_based</td>\n",
       "      <td>0.00</td>\n",
       "    </tr>\n",
       "    <tr>\n",
       "      <th>9</th>\n",
       "      <td>knn_mahalanobis_user_based</td>\n",
       "      <td>0.00</td>\n",
       "    </tr>\n",
       "    <tr>\n",
       "      <th>10</th>\n",
       "      <td>knn_mahalanobis_item_based</td>\n",
       "      <td>0.00</td>\n",
       "    </tr>\n",
       "    <tr>\n",
       "      <th>11</th>\n",
       "      <td>knn_chebyshev_user_based</td>\n",
       "      <td>0.00</td>\n",
       "    </tr>\n",
       "    <tr>\n",
       "      <th>12</th>\n",
       "      <td>knn_chebyshev_item_based</td>\n",
       "      <td>0.00</td>\n",
       "    </tr>\n",
       "    <tr>\n",
       "      <th>13</th>\n",
       "      <td>knn_manhattan_user_based</td>\n",
       "      <td>0.00</td>\n",
       "    </tr>\n",
       "    <tr>\n",
       "      <th>14</th>\n",
       "      <td>knn_manhattan_item_based</td>\n",
       "      <td>0.00</td>\n",
       "    </tr>\n",
       "  </tbody>\n",
       "</table>\n",
       "</div>"
      ],
      "text/plain": [
       "                     Predictor  Prediction\n",
       "0        knn_cosine_user_based        8.61\n",
       "1        knn_cosine_item_based        6.84\n",
       "2       knn_pearson_user_based        8.30\n",
       "3       knn_pearson_item_based        0.00\n",
       "4    knn_adj_cosine_item_based        9.49\n",
       "5     knn_euclidean_user_based        0.00\n",
       "6     knn_euclidean_item_based        0.00\n",
       "7     knn_minkowski_user_based        0.00\n",
       "8     knn_minkowski_item_based        0.00\n",
       "9   knn_mahalanobis_user_based        0.00\n",
       "10  knn_mahalanobis_item_based        0.00\n",
       "11    knn_chebyshev_user_based        0.00\n",
       "12    knn_chebyshev_item_based        0.00\n",
       "13    knn_manhattan_user_based        0.00\n",
       "14    knn_manhattan_item_based        0.00"
      ]
     },
     "execution_count": 25,
     "metadata": {},
     "output_type": "execute_result"
    }
   ],
   "source": [
    "user_id=1\n",
    "item_id=5\n",
    "\n",
    "print('True rating:', rm.cell(user_id, item_id))\n",
    "predict(predictors, user_id, item_id)"
   ]
  },
  {
   "cell_type": "markdown",
   "metadata": {},
   "source": [
    "if the item is already rated, it is not recommended:"
   ]
  },
  {
   "cell_type": "code",
   "execution_count": 26,
   "metadata": {},
   "outputs": [
    {
     "name": "stdout",
     "output_type": "stream",
     "text": [
      "True rating: 7\n"
     ]
    },
    {
     "data": {
      "text/html": [
       "<div>\n",
       "<style scoped>\n",
       "    .dataframe tbody tr th:only-of-type {\n",
       "        vertical-align: middle;\n",
       "    }\n",
       "\n",
       "    .dataframe tbody tr th {\n",
       "        vertical-align: top;\n",
       "    }\n",
       "\n",
       "    .dataframe thead th {\n",
       "        text-align: right;\n",
       "    }\n",
       "</style>\n",
       "<table border=\"1\" class=\"dataframe\">\n",
       "  <thead>\n",
       "    <tr style=\"text-align: right;\">\n",
       "      <th></th>\n",
       "      <th>Predictor</th>\n",
       "      <th>Prediction</th>\n",
       "    </tr>\n",
       "  </thead>\n",
       "  <tbody>\n",
       "    <tr>\n",
       "      <th>0</th>\n",
       "      <td>knn_cosine_user_based</td>\n",
       "      <td>4.84</td>\n",
       "    </tr>\n",
       "    <tr>\n",
       "      <th>1</th>\n",
       "      <td>knn_cosine_item_based</td>\n",
       "      <td>6.50</td>\n",
       "    </tr>\n",
       "    <tr>\n",
       "      <th>2</th>\n",
       "      <td>knn_pearson_user_based</td>\n",
       "      <td>5.19</td>\n",
       "    </tr>\n",
       "    <tr>\n",
       "      <th>3</th>\n",
       "      <td>knn_pearson_item_based</td>\n",
       "      <td>5.37</td>\n",
       "    </tr>\n",
       "    <tr>\n",
       "      <th>4</th>\n",
       "      <td>knn_adj_cosine_item_based</td>\n",
       "      <td>3.86</td>\n",
       "    </tr>\n",
       "    <tr>\n",
       "      <th>5</th>\n",
       "      <td>knn_euclidean_user_based</td>\n",
       "      <td>0.00</td>\n",
       "    </tr>\n",
       "    <tr>\n",
       "      <th>6</th>\n",
       "      <td>knn_euclidean_item_based</td>\n",
       "      <td>0.00</td>\n",
       "    </tr>\n",
       "    <tr>\n",
       "      <th>7</th>\n",
       "      <td>knn_minkowski_user_based</td>\n",
       "      <td>0.00</td>\n",
       "    </tr>\n",
       "    <tr>\n",
       "      <th>8</th>\n",
       "      <td>knn_minkowski_item_based</td>\n",
       "      <td>0.00</td>\n",
       "    </tr>\n",
       "    <tr>\n",
       "      <th>9</th>\n",
       "      <td>knn_mahalanobis_user_based</td>\n",
       "      <td>0.00</td>\n",
       "    </tr>\n",
       "    <tr>\n",
       "      <th>10</th>\n",
       "      <td>knn_mahalanobis_item_based</td>\n",
       "      <td>0.00</td>\n",
       "    </tr>\n",
       "    <tr>\n",
       "      <th>11</th>\n",
       "      <td>knn_chebyshev_user_based</td>\n",
       "      <td>0.00</td>\n",
       "    </tr>\n",
       "    <tr>\n",
       "      <th>12</th>\n",
       "      <td>knn_chebyshev_item_based</td>\n",
       "      <td>0.00</td>\n",
       "    </tr>\n",
       "    <tr>\n",
       "      <th>13</th>\n",
       "      <td>knn_manhattan_user_based</td>\n",
       "      <td>0.00</td>\n",
       "    </tr>\n",
       "    <tr>\n",
       "      <th>14</th>\n",
       "      <td>knn_manhattan_item_based</td>\n",
       "      <td>0.00</td>\n",
       "    </tr>\n",
       "  </tbody>\n",
       "</table>\n",
       "</div>"
      ],
      "text/plain": [
       "                     Predictor  Prediction\n",
       "0        knn_cosine_user_based        4.84\n",
       "1        knn_cosine_item_based        6.50\n",
       "2       knn_pearson_user_based        5.19\n",
       "3       knn_pearson_item_based        5.37\n",
       "4    knn_adj_cosine_item_based        3.86\n",
       "5     knn_euclidean_user_based        0.00\n",
       "6     knn_euclidean_item_based        0.00\n",
       "7     knn_minkowski_user_based        0.00\n",
       "8     knn_minkowski_item_based        0.00\n",
       "9   knn_mahalanobis_user_based        0.00\n",
       "10  knn_mahalanobis_item_based        0.00\n",
       "11    knn_chebyshev_user_based        0.00\n",
       "12    knn_chebyshev_item_based        0.00\n",
       "13    knn_manhattan_user_based        0.00\n",
       "14    knn_manhattan_item_based        0.00"
      ]
     },
     "execution_count": 26,
     "metadata": {},
     "output_type": "execute_result"
    }
   ],
   "source": [
    "user_id=2\n",
    "item_id=1\n",
    "\n",
    "print('True rating:', rm.cell(user_id, item_id))\n",
    "predict(predictors, user_id, item_id)"
   ]
  },
  {
   "cell_type": "markdown",
   "metadata": {},
   "source": [
    "Evaluate predictions using _RMSE_ and _MAE_ error metrics:"
   ]
  },
  {
   "cell_type": "code",
   "execution_count": 27,
   "metadata": {},
   "outputs": [
    {
     "data": {
      "text/html": [
       "<div>\n",
       "<style scoped>\n",
       "    .dataframe tbody tr th:only-of-type {\n",
       "        vertical-align: middle;\n",
       "    }\n",
       "\n",
       "    .dataframe tbody tr th {\n",
       "        vertical-align: top;\n",
       "    }\n",
       "\n",
       "    .dataframe thead th {\n",
       "        text-align: right;\n",
       "    }\n",
       "</style>\n",
       "<table border=\"1\" class=\"dataframe\">\n",
       "  <thead>\n",
       "    <tr style=\"text-align: right;\">\n",
       "      <th></th>\n",
       "      <th>Predictor</th>\n",
       "      <th>MSE</th>\n",
       "      <th>RMSE</th>\n",
       "      <th>Precision@5(macro)</th>\n",
       "      <th>Precision@10(macro)</th>\n",
       "      <th>Precision@30(macro)</th>\n",
       "      <th>Precision(macro)</th>\n",
       "      <th>Recall(macro)</th>\n",
       "    </tr>\n",
       "  </thead>\n",
       "  <tbody>\n",
       "    <tr>\n",
       "      <th>2</th>\n",
       "      <td>knn_pearson_user_based</td>\n",
       "      <td>1.8672</td>\n",
       "      <td>1.3665</td>\n",
       "      <td>0.1</td>\n",
       "      <td>0.2143</td>\n",
       "      <td>0.3347</td>\n",
       "      <td>0.3026</td>\n",
       "      <td>0.3893</td>\n",
       "    </tr>\n",
       "    <tr>\n",
       "      <th>0</th>\n",
       "      <td>knn_cosine_user_based</td>\n",
       "      <td>2.8928</td>\n",
       "      <td>1.7008</td>\n",
       "      <td>0.2</td>\n",
       "      <td>0.3333</td>\n",
       "      <td>0.2750</td>\n",
       "      <td>0.2887</td>\n",
       "      <td>0.3264</td>\n",
       "    </tr>\n",
       "    <tr>\n",
       "      <th>1</th>\n",
       "      <td>knn_cosine_item_based</td>\n",
       "      <td>3.2925</td>\n",
       "      <td>1.8145</td>\n",
       "      <td>0.0</td>\n",
       "      <td>0.1250</td>\n",
       "      <td>0.1042</td>\n",
       "      <td>0.1052</td>\n",
       "      <td>0.0938</td>\n",
       "    </tr>\n",
       "    <tr>\n",
       "      <th>3</th>\n",
       "      <td>knn_pearson_item_based</td>\n",
       "      <td>11.6227</td>\n",
       "      <td>3.4092</td>\n",
       "      <td>0.1</td>\n",
       "      <td>0.0476</td>\n",
       "      <td>0.0988</td>\n",
       "      <td>0.0961</td>\n",
       "      <td>0.0796</td>\n",
       "    </tr>\n",
       "    <tr>\n",
       "      <th>4</th>\n",
       "      <td>knn_adj_cosine_item_based</td>\n",
       "      <td>13.2281</td>\n",
       "      <td>3.6370</td>\n",
       "      <td>0.0</td>\n",
       "      <td>0.0000</td>\n",
       "      <td>0.2704</td>\n",
       "      <td>0.2513</td>\n",
       "      <td>0.2619</td>\n",
       "    </tr>\n",
       "    <tr>\n",
       "      <th>5</th>\n",
       "      <td>knn_euclidean_user_based</td>\n",
       "      <td>48.3333</td>\n",
       "      <td>6.9522</td>\n",
       "      <td>0.0</td>\n",
       "      <td>0.0000</td>\n",
       "      <td>0.0000</td>\n",
       "      <td>0.0000</td>\n",
       "      <td>0.0000</td>\n",
       "    </tr>\n",
       "    <tr>\n",
       "      <th>6</th>\n",
       "      <td>knn_euclidean_item_based</td>\n",
       "      <td>48.3333</td>\n",
       "      <td>6.9522</td>\n",
       "      <td>0.0</td>\n",
       "      <td>0.0000</td>\n",
       "      <td>0.0000</td>\n",
       "      <td>0.0000</td>\n",
       "      <td>0.0000</td>\n",
       "    </tr>\n",
       "    <tr>\n",
       "      <th>7</th>\n",
       "      <td>knn_minkowski_user_based</td>\n",
       "      <td>48.3333</td>\n",
       "      <td>6.9522</td>\n",
       "      <td>0.0</td>\n",
       "      <td>0.0000</td>\n",
       "      <td>0.0000</td>\n",
       "      <td>0.0000</td>\n",
       "      <td>0.0000</td>\n",
       "    </tr>\n",
       "    <tr>\n",
       "      <th>8</th>\n",
       "      <td>knn_minkowski_item_based</td>\n",
       "      <td>48.3333</td>\n",
       "      <td>6.9522</td>\n",
       "      <td>0.0</td>\n",
       "      <td>0.0000</td>\n",
       "      <td>0.0000</td>\n",
       "      <td>0.0000</td>\n",
       "      <td>0.0000</td>\n",
       "    </tr>\n",
       "    <tr>\n",
       "      <th>9</th>\n",
       "      <td>knn_mahalanobis_user_based</td>\n",
       "      <td>48.3333</td>\n",
       "      <td>6.9522</td>\n",
       "      <td>0.0</td>\n",
       "      <td>0.0000</td>\n",
       "      <td>0.0000</td>\n",
       "      <td>0.0000</td>\n",
       "      <td>0.0000</td>\n",
       "    </tr>\n",
       "    <tr>\n",
       "      <th>10</th>\n",
       "      <td>knn_mahalanobis_item_based</td>\n",
       "      <td>48.3333</td>\n",
       "      <td>6.9522</td>\n",
       "      <td>0.0</td>\n",
       "      <td>0.0000</td>\n",
       "      <td>0.0000</td>\n",
       "      <td>0.0000</td>\n",
       "      <td>0.0000</td>\n",
       "    </tr>\n",
       "    <tr>\n",
       "      <th>11</th>\n",
       "      <td>knn_chebyshev_user_based</td>\n",
       "      <td>48.3333</td>\n",
       "      <td>6.9522</td>\n",
       "      <td>0.0</td>\n",
       "      <td>0.0000</td>\n",
       "      <td>0.0000</td>\n",
       "      <td>0.0000</td>\n",
       "      <td>0.0000</td>\n",
       "    </tr>\n",
       "    <tr>\n",
       "      <th>12</th>\n",
       "      <td>knn_chebyshev_item_based</td>\n",
       "      <td>48.3333</td>\n",
       "      <td>6.9522</td>\n",
       "      <td>0.0</td>\n",
       "      <td>0.0000</td>\n",
       "      <td>0.0000</td>\n",
       "      <td>0.0000</td>\n",
       "      <td>0.0000</td>\n",
       "    </tr>\n",
       "    <tr>\n",
       "      <th>13</th>\n",
       "      <td>knn_manhattan_user_based</td>\n",
       "      <td>48.3333</td>\n",
       "      <td>6.9522</td>\n",
       "      <td>0.0</td>\n",
       "      <td>0.0000</td>\n",
       "      <td>0.0000</td>\n",
       "      <td>0.0000</td>\n",
       "      <td>0.0000</td>\n",
       "    </tr>\n",
       "    <tr>\n",
       "      <th>14</th>\n",
       "      <td>knn_manhattan_item_based</td>\n",
       "      <td>48.3333</td>\n",
       "      <td>6.9522</td>\n",
       "      <td>0.0</td>\n",
       "      <td>0.0000</td>\n",
       "      <td>0.0000</td>\n",
       "      <td>0.0000</td>\n",
       "      <td>0.0000</td>\n",
       "    </tr>\n",
       "  </tbody>\n",
       "</table>\n",
       "</div>"
      ],
      "text/plain": [
       "                     Predictor      MSE    RMSE  Precision@5(macro)  \\\n",
       "2       knn_pearson_user_based   1.8672  1.3665                 0.1   \n",
       "0        knn_cosine_user_based   2.8928  1.7008                 0.2   \n",
       "1        knn_cosine_item_based   3.2925  1.8145                 0.0   \n",
       "3       knn_pearson_item_based  11.6227  3.4092                 0.1   \n",
       "4    knn_adj_cosine_item_based  13.2281  3.6370                 0.0   \n",
       "5     knn_euclidean_user_based  48.3333  6.9522                 0.0   \n",
       "6     knn_euclidean_item_based  48.3333  6.9522                 0.0   \n",
       "7     knn_minkowski_user_based  48.3333  6.9522                 0.0   \n",
       "8     knn_minkowski_item_based  48.3333  6.9522                 0.0   \n",
       "9   knn_mahalanobis_user_based  48.3333  6.9522                 0.0   \n",
       "10  knn_mahalanobis_item_based  48.3333  6.9522                 0.0   \n",
       "11    knn_chebyshev_user_based  48.3333  6.9522                 0.0   \n",
       "12    knn_chebyshev_item_based  48.3333  6.9522                 0.0   \n",
       "13    knn_manhattan_user_based  48.3333  6.9522                 0.0   \n",
       "14    knn_manhattan_item_based  48.3333  6.9522                 0.0   \n",
       "\n",
       "    Precision@10(macro)  Precision@30(macro)  Precision(macro)  Recall(macro)  \n",
       "2                0.2143               0.3347            0.3026         0.3893  \n",
       "0                0.3333               0.2750            0.2887         0.3264  \n",
       "1                0.1250               0.1042            0.1052         0.0938  \n",
       "3                0.0476               0.0988            0.0961         0.0796  \n",
       "4                0.0000               0.2704            0.2513         0.2619  \n",
       "5                0.0000               0.0000            0.0000         0.0000  \n",
       "6                0.0000               0.0000            0.0000         0.0000  \n",
       "7                0.0000               0.0000            0.0000         0.0000  \n",
       "8                0.0000               0.0000            0.0000         0.0000  \n",
       "9                0.0000               0.0000            0.0000         0.0000  \n",
       "10               0.0000               0.0000            0.0000         0.0000  \n",
       "11               0.0000               0.0000            0.0000         0.0000  \n",
       "12               0.0000               0.0000            0.0000         0.0000  \n",
       "13               0.0000               0.0000            0.0000         0.0000  \n",
       "14               0.0000               0.0000            0.0000         0.0000  "
      ]
     },
     "execution_count": 27,
     "metadata": {},
     "output_type": "execute_result"
    }
   ],
   "source": [
    "evaluator.evaluate(predictors, rm).sort_values(by='RMSE')"
   ]
  },
  {
   "cell_type": "markdown",
   "metadata": {},
   "source": [
    "## Using Movie Lens dataset"
   ]
  },
  {
   "cell_type": "markdown",
   "metadata": {},
   "source": [
    "### User-Item Ratings Matrix"
   ]
  },
  {
   "cell_type": "code",
   "execution_count": 30,
   "metadata": {},
   "outputs": [
    {
     "name": "stdout",
     "output_type": "stream",
     "text": [
      "CPU times: user 30.8 ms, sys: 9.5 ms, total: 40.3 ms\n",
      "Wall time: 40 ms\n"
     ]
    },
    {
     "data": {
      "text/html": [
       "<div>\n",
       "<style scoped>\n",
       "    .dataframe tbody tr th:only-of-type {\n",
       "        vertical-align: middle;\n",
       "    }\n",
       "\n",
       "    .dataframe tbody tr th {\n",
       "        vertical-align: top;\n",
       "    }\n",
       "\n",
       "    .dataframe thead th {\n",
       "        text-align: right;\n",
       "    }\n",
       "</style>\n",
       "<table border=\"1\" class=\"dataframe\">\n",
       "  <thead>\n",
       "    <tr style=\"text-align: right;\">\n",
       "      <th></th>\n",
       "      <th>rating</th>\n",
       "      <th>count</th>\n",
       "    </tr>\n",
       "  </thead>\n",
       "  <tbody>\n",
       "    <tr>\n",
       "      <th>0</th>\n",
       "      <td>0.5</td>\n",
       "      <td>305</td>\n",
       "    </tr>\n",
       "    <tr>\n",
       "      <th>1</th>\n",
       "      <td>1.0</td>\n",
       "      <td>649</td>\n",
       "    </tr>\n",
       "    <tr>\n",
       "      <th>2</th>\n",
       "      <td>1.5</td>\n",
       "      <td>349</td>\n",
       "    </tr>\n",
       "    <tr>\n",
       "      <th>3</th>\n",
       "      <td>2.0</td>\n",
       "      <td>1731</td>\n",
       "    </tr>\n",
       "    <tr>\n",
       "      <th>4</th>\n",
       "      <td>2.5</td>\n",
       "      <td>1389</td>\n",
       "    </tr>\n",
       "    <tr>\n",
       "      <th>5</th>\n",
       "      <td>3.0</td>\n",
       "      <td>6057</td>\n",
       "    </tr>\n",
       "    <tr>\n",
       "      <th>6</th>\n",
       "      <td>3.5</td>\n",
       "      <td>4379</td>\n",
       "    </tr>\n",
       "    <tr>\n",
       "      <th>7</th>\n",
       "      <td>4.0</td>\n",
       "      <td>10264</td>\n",
       "    </tr>\n",
       "    <tr>\n",
       "      <th>8</th>\n",
       "      <td>4.5</td>\n",
       "      <td>3636</td>\n",
       "    </tr>\n",
       "    <tr>\n",
       "      <th>9</th>\n",
       "      <td>5.0</td>\n",
       "      <td>6316</td>\n",
       "    </tr>\n",
       "  </tbody>\n",
       "</table>\n",
       "</div>"
      ],
      "text/plain": [
       "   rating  count\n",
       "0     0.5    305\n",
       "1     1.0    649\n",
       "2     1.5    349\n",
       "3     2.0   1731\n",
       "4     2.5   1389\n",
       "5     3.0   6057\n",
       "6     3.5   4379\n",
       "7     4.0  10264\n",
       "8     4.5   3636\n",
       "9     5.0   6316"
      ]
     },
     "execution_count": 30,
     "metadata": {},
     "output_type": "execute_result"
    }
   ],
   "source": [
    "%%time\n",
    "dataset = MovielensDataset(n_users=400, n_movies=400)\n",
    "rating_table = dataset.ratings()\n",
    "\n",
    "group_by(rating_table, 'rating')"
   ]
  },
  {
   "cell_type": "code",
   "execution_count": 31,
   "metadata": {},
   "outputs": [
    {
     "data": {
      "image/png": "[encoded data removed]",
      "text/plain": [
       "<Figure size 576x576 with 2 Axes>"
      ]
     },
     "metadata": {
      "needs_background": "light"
     },
     "output_type": "display_data"
    },
    {
     "name": "stdout",
     "output_type": "stream",
     "text": [
      "Size: (400, 400)\n",
      "CPU times: user 798 ms, sys: 0 ns, total: 798 ms\n",
      "Wall time: 798 ms\n"
     ]
    }
   ],
   "source": [
    "%%time\n",
    "rm = RatingsMatrix.from_df(rating_table, rows='user_seq', columns='movie_seq', value='rating')\n",
    "\n",
    "rm.plot((8, 8))\n",
    "print(f'Size: {rm.shape}')"
   ]
  },
  {
   "cell_type": "markdown",
   "metadata": {},
   "source": [
    "## Evaluate all recomendations system combinations"
   ]
  },
  {
   "cell_type": "code",
   "execution_count": 32,
   "metadata": {},
   "outputs": [],
   "source": [
    "user_id = most_common(rating_table, 'user_seq',  limit=20)[-1]\n",
    "item_id = most_common(rating_table, 'movie_seq', limit=20)[-1]"
   ]
  },
  {
   "cell_type": "code",
   "execution_count": 33,
   "metadata": {},
   "outputs": [
    {
     "name": "stdout",
     "output_type": "stream",
     "text": [
      "CPU times: user 105 ms, sys: 91 ms, total: 196 ms\n",
      "Wall time: 13min 49s\n"
     ]
    }
   ],
   "source": [
    "%%time\n",
    "predictors = predictor_factory.create_all(rm, n_neighbors=20)"
   ]
  },
  {
   "cell_type": "code",
   "execution_count": 34,
   "metadata": {},
   "outputs": [
    {
     "name": "stdout",
     "output_type": "stream",
     "text": [
      "True rating: 4.5\n",
      "CPU times: user 22 ms, sys: 72.2 ms, total: 94.1 ms\n",
      "Wall time: 141 ms\n"
     ]
    },
    {
     "data": {
      "text/html": [
       "<div>\n",
       "<style scoped>\n",
       "    .dataframe tbody tr th:only-of-type {\n",
       "        vertical-align: middle;\n",
       "    }\n",
       "\n",
       "    .dataframe tbody tr th {\n",
       "        vertical-align: top;\n",
       "    }\n",
       "\n",
       "    .dataframe thead th {\n",
       "        text-align: right;\n",
       "    }\n",
       "</style>\n",
       "<table border=\"1\" class=\"dataframe\">\n",
       "  <thead>\n",
       "    <tr style=\"text-align: right;\">\n",
       "      <th></th>\n",
       "      <th>Predictor</th>\n",
       "      <th>Prediction</th>\n",
       "    </tr>\n",
       "  </thead>\n",
       "  <tbody>\n",
       "    <tr>\n",
       "      <th>0</th>\n",
       "      <td>knn_cosine_user_based</td>\n",
       "      <td>3.90</td>\n",
       "    </tr>\n",
       "    <tr>\n",
       "      <th>1</th>\n",
       "      <td>knn_cosine_item_based</td>\n",
       "      <td>4.06</td>\n",
       "    </tr>\n",
       "    <tr>\n",
       "      <th>2</th>\n",
       "      <td>knn_pearson_user_based</td>\n",
       "      <td>4.56</td>\n",
       "    </tr>\n",
       "    <tr>\n",
       "      <th>3</th>\n",
       "      <td>knn_pearson_item_based</td>\n",
       "      <td>3.99</td>\n",
       "    </tr>\n",
       "    <tr>\n",
       "      <th>4</th>\n",
       "      <td>knn_adj_cosine_item_based</td>\n",
       "      <td>4.29</td>\n",
       "    </tr>\n",
       "    <tr>\n",
       "      <th>5</th>\n",
       "      <td>knn_euclidean_user_based</td>\n",
       "      <td>0.00</td>\n",
       "    </tr>\n",
       "    <tr>\n",
       "      <th>6</th>\n",
       "      <td>knn_euclidean_item_based</td>\n",
       "      <td>0.00</td>\n",
       "    </tr>\n",
       "    <tr>\n",
       "      <th>7</th>\n",
       "      <td>knn_minkowski_user_based</td>\n",
       "      <td>0.00</td>\n",
       "    </tr>\n",
       "    <tr>\n",
       "      <th>8</th>\n",
       "      <td>knn_minkowski_item_based</td>\n",
       "      <td>0.00</td>\n",
       "    </tr>\n",
       "    <tr>\n",
       "      <th>9</th>\n",
       "      <td>knn_mahalanobis_user_based</td>\n",
       "      <td>0.00</td>\n",
       "    </tr>\n",
       "    <tr>\n",
       "      <th>10</th>\n",
       "      <td>knn_mahalanobis_item_based</td>\n",
       "      <td>0.00</td>\n",
       "    </tr>\n",
       "    <tr>\n",
       "      <th>11</th>\n",
       "      <td>knn_chebyshev_user_based</td>\n",
       "      <td>0.00</td>\n",
       "    </tr>\n",
       "    <tr>\n",
       "      <th>12</th>\n",
       "      <td>knn_chebyshev_item_based</td>\n",
       "      <td>0.00</td>\n",
       "    </tr>\n",
       "    <tr>\n",
       "      <th>13</th>\n",
       "      <td>knn_manhattan_user_based</td>\n",
       "      <td>0.00</td>\n",
       "    </tr>\n",
       "    <tr>\n",
       "      <th>14</th>\n",
       "      <td>knn_manhattan_item_based</td>\n",
       "      <td>0.00</td>\n",
       "    </tr>\n",
       "  </tbody>\n",
       "</table>\n",
       "</div>"
      ],
      "text/plain": [
       "                     Predictor  Prediction\n",
       "0        knn_cosine_user_based        3.90\n",
       "1        knn_cosine_item_based        4.06\n",
       "2       knn_pearson_user_based        4.56\n",
       "3       knn_pearson_item_based        3.99\n",
       "4    knn_adj_cosine_item_based        4.29\n",
       "5     knn_euclidean_user_based        0.00\n",
       "6     knn_euclidean_item_based        0.00\n",
       "7     knn_minkowski_user_based        0.00\n",
       "8     knn_minkowski_item_based        0.00\n",
       "9   knn_mahalanobis_user_based        0.00\n",
       "10  knn_mahalanobis_item_based        0.00\n",
       "11    knn_chebyshev_user_based        0.00\n",
       "12    knn_chebyshev_item_based        0.00\n",
       "13    knn_manhattan_user_based        0.00\n",
       "14    knn_manhattan_item_based        0.00"
      ]
     },
     "execution_count": 34,
     "metadata": {},
     "output_type": "execute_result"
    }
   ],
   "source": [
    "%%time\n",
    "print('True rating:', rm.cell(user_id, item_id))\n",
    "predict(predictors, user_id, item_id)"
   ]
  },
  {
   "cell_type": "code",
   "execution_count": 35,
   "metadata": {},
   "outputs": [
    {
     "name": "stdout",
     "output_type": "stream",
     "text": [
      "CPU times: user 5.56 s, sys: 158 ms, total: 5.72 s\n",
      "Wall time: 11min 42s\n"
     ]
    },
    {
     "data": {
      "text/html": [
       "<div>\n",
       "<style scoped>\n",
       "    .dataframe tbody tr th:only-of-type {\n",
       "        vertical-align: middle;\n",
       "    }\n",
       "\n",
       "    .dataframe tbody tr th {\n",
       "        vertical-align: top;\n",
       "    }\n",
       "\n",
       "    .dataframe thead th {\n",
       "        text-align: right;\n",
       "    }\n",
       "</style>\n",
       "<table border=\"1\" class=\"dataframe\">\n",
       "  <thead>\n",
       "    <tr style=\"text-align: right;\">\n",
       "      <th></th>\n",
       "      <th>Predictor</th>\n",
       "      <th>MSE</th>\n",
       "      <th>RMSE</th>\n",
       "      <th>Precision@5(macro)</th>\n",
       "      <th>Precision@10(macro)</th>\n",
       "      <th>Precision@30(macro)</th>\n",
       "      <th>Precision(macro)</th>\n",
       "      <th>Recall(macro)</th>\n",
       "    </tr>\n",
       "  </thead>\n",
       "  <tbody>\n",
       "    <tr>\n",
       "      <th>4</th>\n",
       "      <td>knn_adj_cosine_item_based</td>\n",
       "      <td>0.7533</td>\n",
       "      <td>0.8679</td>\n",
       "      <td>1.0000</td>\n",
       "      <td>0.5250</td>\n",
       "      <td>0.4780</td>\n",
       "      <td>0.3328</td>\n",
       "      <td>0.4157</td>\n",
       "    </tr>\n",
       "    <tr>\n",
       "      <th>2</th>\n",
       "      <td>knn_pearson_user_based</td>\n",
       "      <td>1.0999</td>\n",
       "      <td>1.0488</td>\n",
       "      <td>0.2000</td>\n",
       "      <td>0.3958</td>\n",
       "      <td>0.2963</td>\n",
       "      <td>0.1462</td>\n",
       "      <td>0.1623</td>\n",
       "    </tr>\n",
       "    <tr>\n",
       "      <th>0</th>\n",
       "      <td>knn_cosine_user_based</td>\n",
       "      <td>1.5176</td>\n",
       "      <td>1.2319</td>\n",
       "      <td>0.1250</td>\n",
       "      <td>0.3750</td>\n",
       "      <td>0.1255</td>\n",
       "      <td>0.1820</td>\n",
       "      <td>0.2006</td>\n",
       "    </tr>\n",
       "    <tr>\n",
       "      <th>1</th>\n",
       "      <td>knn_cosine_item_based</td>\n",
       "      <td>2.6434</td>\n",
       "      <td>1.6259</td>\n",
       "      <td>0.5000</td>\n",
       "      <td>0.4000</td>\n",
       "      <td>0.2778</td>\n",
       "      <td>0.1928</td>\n",
       "      <td>0.2315</td>\n",
       "    </tr>\n",
       "    <tr>\n",
       "      <th>3</th>\n",
       "      <td>knn_pearson_item_based</td>\n",
       "      <td>3.5126</td>\n",
       "      <td>1.8742</td>\n",
       "      <td>0.1111</td>\n",
       "      <td>0.2500</td>\n",
       "      <td>0.1694</td>\n",
       "      <td>0.2114</td>\n",
       "      <td>0.2433</td>\n",
       "    </tr>\n",
       "    <tr>\n",
       "      <th>5</th>\n",
       "      <td>knn_euclidean_user_based</td>\n",
       "      <td>14.8546</td>\n",
       "      <td>3.8542</td>\n",
       "      <td>0.0000</td>\n",
       "      <td>0.0000</td>\n",
       "      <td>0.0000</td>\n",
       "      <td>0.1667</td>\n",
       "      <td>0.0014</td>\n",
       "    </tr>\n",
       "    <tr>\n",
       "      <th>6</th>\n",
       "      <td>knn_euclidean_item_based</td>\n",
       "      <td>14.8546</td>\n",
       "      <td>3.8542</td>\n",
       "      <td>0.0000</td>\n",
       "      <td>0.0000</td>\n",
       "      <td>0.0000</td>\n",
       "      <td>0.1667</td>\n",
       "      <td>0.0014</td>\n",
       "    </tr>\n",
       "    <tr>\n",
       "      <th>7</th>\n",
       "      <td>knn_minkowski_user_based</td>\n",
       "      <td>14.8546</td>\n",
       "      <td>3.8542</td>\n",
       "      <td>0.0000</td>\n",
       "      <td>0.0000</td>\n",
       "      <td>0.2000</td>\n",
       "      <td>0.1667</td>\n",
       "      <td>0.0014</td>\n",
       "    </tr>\n",
       "    <tr>\n",
       "      <th>8</th>\n",
       "      <td>knn_minkowski_item_based</td>\n",
       "      <td>14.8546</td>\n",
       "      <td>3.8542</td>\n",
       "      <td>0.0000</td>\n",
       "      <td>0.0000</td>\n",
       "      <td>0.1667</td>\n",
       "      <td>0.1667</td>\n",
       "      <td>0.0014</td>\n",
       "    </tr>\n",
       "    <tr>\n",
       "      <th>9</th>\n",
       "      <td>knn_mahalanobis_user_based</td>\n",
       "      <td>14.8546</td>\n",
       "      <td>3.8542</td>\n",
       "      <td>0.0000</td>\n",
       "      <td>0.0000</td>\n",
       "      <td>0.0000</td>\n",
       "      <td>0.1667</td>\n",
       "      <td>0.0014</td>\n",
       "    </tr>\n",
       "    <tr>\n",
       "      <th>10</th>\n",
       "      <td>knn_mahalanobis_item_based</td>\n",
       "      <td>14.8546</td>\n",
       "      <td>3.8542</td>\n",
       "      <td>0.0000</td>\n",
       "      <td>0.0000</td>\n",
       "      <td>0.2000</td>\n",
       "      <td>0.1667</td>\n",
       "      <td>0.0014</td>\n",
       "    </tr>\n",
       "    <tr>\n",
       "      <th>11</th>\n",
       "      <td>knn_chebyshev_user_based</td>\n",
       "      <td>14.8546</td>\n",
       "      <td>3.8542</td>\n",
       "      <td>0.0000</td>\n",
       "      <td>0.0000</td>\n",
       "      <td>0.0000</td>\n",
       "      <td>0.1667</td>\n",
       "      <td>0.0014</td>\n",
       "    </tr>\n",
       "    <tr>\n",
       "      <th>12</th>\n",
       "      <td>knn_chebyshev_item_based</td>\n",
       "      <td>14.8546</td>\n",
       "      <td>3.8542</td>\n",
       "      <td>0.0000</td>\n",
       "      <td>0.2000</td>\n",
       "      <td>0.0000</td>\n",
       "      <td>0.1667</td>\n",
       "      <td>0.0014</td>\n",
       "    </tr>\n",
       "    <tr>\n",
       "      <th>13</th>\n",
       "      <td>knn_manhattan_user_based</td>\n",
       "      <td>14.8546</td>\n",
       "      <td>3.8542</td>\n",
       "      <td>0.0000</td>\n",
       "      <td>0.0000</td>\n",
       "      <td>0.0000</td>\n",
       "      <td>0.1667</td>\n",
       "      <td>0.0014</td>\n",
       "    </tr>\n",
       "    <tr>\n",
       "      <th>14</th>\n",
       "      <td>knn_manhattan_item_based</td>\n",
       "      <td>14.8546</td>\n",
       "      <td>3.8542</td>\n",
       "      <td>0.0000</td>\n",
       "      <td>0.0000</td>\n",
       "      <td>0.2000</td>\n",
       "      <td>0.1667</td>\n",
       "      <td>0.0014</td>\n",
       "    </tr>\n",
       "  </tbody>\n",
       "</table>\n",
       "</div>"
      ],
      "text/plain": [
       "                     Predictor      MSE    RMSE  Precision@5(macro)  \\\n",
       "4    knn_adj_cosine_item_based   0.7533  0.8679              1.0000   \n",
       "2       knn_pearson_user_based   1.0999  1.0488              0.2000   \n",
       "0        knn_cosine_user_based   1.5176  1.2319              0.1250   \n",
       "1        knn_cosine_item_based   2.6434  1.6259              0.5000   \n",
       "3       knn_pearson_item_based   3.5126  1.8742              0.1111   \n",
       "5     knn_euclidean_user_based  14.8546  3.8542              0.0000   \n",
       "6     knn_euclidean_item_based  14.8546  3.8542              0.0000   \n",
       "7     knn_minkowski_user_based  14.8546  3.8542              0.0000   \n",
       "8     knn_minkowski_item_based  14.8546  3.8542              0.0000   \n",
       "9   knn_mahalanobis_user_based  14.8546  3.8542              0.0000   \n",
       "10  knn_mahalanobis_item_based  14.8546  3.8542              0.0000   \n",
       "11    knn_chebyshev_user_based  14.8546  3.8542              0.0000   \n",
       "12    knn_chebyshev_item_based  14.8546  3.8542              0.0000   \n",
       "13    knn_manhattan_user_based  14.8546  3.8542              0.0000   \n",
       "14    knn_manhattan_item_based  14.8546  3.8542              0.0000   \n",
       "\n",
       "    Precision@10(macro)  Precision@30(macro)  Precision(macro)  Recall(macro)  \n",
       "4                0.5250               0.4780            0.3328         0.4157  \n",
       "2                0.3958               0.2963            0.1462         0.1623  \n",
       "0                0.3750               0.1255            0.1820         0.2006  \n",
       "1                0.4000               0.2778            0.1928         0.2315  \n",
       "3                0.2500               0.1694            0.2114         0.2433  \n",
       "5                0.0000               0.0000            0.1667         0.0014  \n",
       "6                0.0000               0.0000            0.1667         0.0014  \n",
       "7                0.0000               0.2000            0.1667         0.0014  \n",
       "8                0.0000               0.1667            0.1667         0.0014  \n",
       "9                0.0000               0.0000            0.1667         0.0014  \n",
       "10               0.0000               0.2000            0.1667         0.0014  \n",
       "11               0.0000               0.0000            0.1667         0.0014  \n",
       "12               0.2000               0.0000            0.1667         0.0014  \n",
       "13               0.0000               0.0000            0.1667         0.0014  \n",
       "14               0.0000               0.2000            0.1667         0.0014  "
      ]
     },
     "execution_count": 35,
     "metadata": {},
     "output_type": "execute_result"
    }
   ],
   "source": [
    "%%time\n",
    "evaluator.evaluate(predictors, rm).sort_values(by='RMSE')"
   ]
  }
 ],
 "metadata": {
  "kernelspec": {
   "display_name": "Python 3 (ipykernel)",
   "language": "python",
   "name": "python3"
  },
  "language_info": {
   "codemirror_mode": {
    "name": "ipython",
    "version": 3
   },
   "file_extension": ".py",
   "mimetype": "text/x-python",
   "name": "python",
   "nbconvert_exporter": "python",
   "pygments_lexer": "ipython3",
   "version": "3.10.0"
  },
  "widgets": {
   "application/vnd.jupyter.widget-state+json": {
    "state": {},
    "version_major": 2,
    "version_minor": 0
   }
  }
 },
 "nbformat": 4,
 "nbformat_minor": 4
}
