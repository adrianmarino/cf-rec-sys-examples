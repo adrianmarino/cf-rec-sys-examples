{
 "cells": [
  {
   "cell_type": "markdown",
   "metadata": {
    "tags": []
   },
   "source": [
    "# Collaborative filtering KNN based recommendation systems examples"
   ]
  },
  {
   "cell_type": "markdown",
   "metadata": {},
   "source": [
    "## Imports"
   ]
  },
  {
   "cell_type": "code",
   "execution_count": 1,
   "metadata": {},
   "outputs": [],
   "source": [
    "%matplotlib inline\n",
    "%load_ext autoreload\n",
    "%autoreload 2"
   ]
  },
  {
   "cell_type": "code",
   "execution_count": 2,
   "metadata": {},
   "outputs": [],
   "source": [
    "import sys\n",
    "sys.path.append('./src')\n",
    "\n",
    "from scipy.spatial.distance import correlation, cosine\n",
    "\n",
    "from ratings_matrix import RatingsMatrix\n",
    "from dataset import MovielensDataset\n",
    "\n",
    "from similarity import cosine_sim, \\\n",
    "                       pearson_sim, \\\n",
    "                       spearman_sim, \\\n",
    "                       adjusted_cosine_sim, \\\n",
    "                       spearman\n",
    "\n",
    "from predictor import PredictorFactory, \\\n",
    "                      predict\n",
    "\n",
    "from evaluator import Evaluator\n",
    "\n",
    "from metric import RootMeanSquaredErrorMetric, \\\n",
    "                   MeanSquaredErrorMetric, \\\n",
    "                   PrecisionKMetric, \\\n",
    "                   RecallMetric, \\\n",
    "                   AVGPrecisionMetric, \\\n",
    "                   PrecisionMetric, \\\n",
    "                   FBetaKMetric\n",
    "\n",
    "from similarity import CommonSimilarityService, \\\n",
    "                       AdjustedCosineSimilarityService\n",
    "\n",
    "from show import show_similar_items, \\\n",
    "                 show_similar_users, \\\n",
    "                 show_prediction\n",
    "\n",
    "from util import group_by, \\\n",
    "                 most_common"
   ]
  },
  {
   "cell_type": "markdown",
   "metadata": {},
   "source": [
    "## User-Item Ratings Matrix"
   ]
  },
  {
   "cell_type": "markdown",
   "metadata": {},
   "source": [
    "* [Ratings matrix](https://github.com/adrianmarino/cf-rec-sys-examples/blob/master/src/ratings_matrix.py) is a user-item ratings matrix where ratings are integers between 1 and 10.\n",
    "* 6 users (rows) have rated 6 items (columns)."
   ]
  },
  {
   "cell_type": "code",
   "execution_count": 3,
   "metadata": {},
   "outputs": [
    {
     "data": {
      "text/plain": [
       "(6, 6)"
      ]
     },
     "execution_count": 3,
     "metadata": {},
     "output_type": "execute_result"
    }
   ],
   "source": [
    "rm = RatingsMatrix([\n",
    "    [3, 7, 4, 9,  9, 7], \n",
    "    [7, 0, 5, 3,  8, 8],\n",
    "    [7, 5, 5, 0,  8, 4],\n",
    "    [5, 6, 8, 5,  9, 8],\n",
    "    [5, 8, 8, 8, 10, 9],\n",
    "    [7, 7, 0, 4,  7, 8]\n",
    "])\n",
    "rm.shape"
   ]
  },
  {
   "cell_type": "markdown",
   "metadata": {},
   "source": [
    "User ratings / row values:"
   ]
  },
  {
   "cell_type": "code",
   "execution_count": 4,
   "metadata": {},
   "outputs": [
    {
     "data": {
      "text/plain": [
       "array([[3, 7, 4, 9, 9, 7]])"
      ]
     },
     "execution_count": 4,
     "metadata": {},
     "output_type": "execute_result"
    }
   ],
   "source": [
    "rm.row(1)"
   ]
  },
  {
   "cell_type": "markdown",
   "metadata": {},
   "source": [
    "Mean user rating / row mean:\n",
    "\n",
    "$\\overline{Row}_i = \\frac{1}{C}  \\sum_{j=0}^{C-1} Value_{i, j}$\n",
    "\n",
    "* $i$ is a row.\n",
    "* $j$ is a column.\n",
    "* $C$ is columns size."
   ]
  },
  {
   "cell_type": "code",
   "execution_count": 5,
   "metadata": {},
   "outputs": [
    {
     "data": {
      "text/plain": [
       "6.5"
      ]
     },
     "execution_count": 5,
     "metadata": {},
     "output_type": "execute_result"
    }
   ],
   "source": [
    "rm.mean_row(1)"
   ]
  },
  {
   "cell_type": "markdown",
   "metadata": {},
   "source": [
    "User rating deviance:\n",
    "\n",
    "$Deviance_{i, j} = Value_{i, j} - \\overline{Row}_i$\n",
    "\n",
    "* $i$ is a row.\n",
    "* $j$ is a column."
   ]
  },
  {
   "cell_type": "code",
   "execution_count": 6,
   "metadata": {},
   "outputs": [
    {
     "data": {
      "text/plain": [
       "-3.5"
      ]
     },
     "execution_count": 6,
     "metadata": {},
     "output_type": "execute_result"
    }
   ],
   "source": [
    "rm.row_deviation(1, 1)"
   ]
  },
  {
   "cell_type": "markdown",
   "metadata": {},
   "source": [
    "User(Row)-item(Column) rating:"
   ]
  },
  {
   "cell_type": "code",
   "execution_count": 7,
   "metadata": {},
   "outputs": [
    {
     "data": {
      "text/plain": [
       "0"
      ]
     },
     "execution_count": 7,
     "metadata": {},
     "output_type": "execute_result"
    }
   ],
   "source": [
    "rm.cell(3, 4)"
   ]
  },
  {
   "cell_type": "markdown",
   "metadata": {},
   "source": [
    "Iterate each rating:"
   ]
  },
  {
   "cell_type": "code",
   "execution_count": 8,
   "metadata": {},
   "outputs": [
    {
     "data": {
      "text/plain": [
       "['rating: 3, user_id: 1, item_id: 1',\n",
       " 'rating: 7, user_id: 1, item_id: 2',\n",
       " 'rating: 4, user_id: 1, item_id: 3',\n",
       " 'rating: 9, user_id: 1, item_id: 4',\n",
       " 'rating: 9, user_id: 1, item_id: 5']"
      ]
     },
     "execution_count": 8,
     "metadata": {},
     "output_type": "execute_result"
    }
   ],
   "source": [
    "[f'rating: {r}, user_id: {u_id}, item_id: {i_id}' for r, u_id, i_id in rm.cells][:5]"
   ]
  },
  {
   "cell_type": "code",
   "execution_count": 9,
   "metadata": {},
   "outputs": [
    {
     "data": {
      "image/png": "[encoded data removed]",
      "text/plain": [
       "<Figure size 360x360 with 2 Axes>"
      ]
     },
     "metadata": {
      "needs_background": "light"
     },
     "output_type": "display_data"
    }
   ],
   "source": [
    "rm.plot()"
   ]
  },
  {
   "cell_type": "markdown",
   "metadata": {},
   "source": [
    "## Users similarity"
   ]
  },
  {
   "cell_type": "code",
   "execution_count": 10,
   "metadata": {},
   "outputs": [
    {
     "data": {
      "text/html": [
       "<div>\n",
       "<style scoped>\n",
       "    .dataframe tbody tr th:only-of-type {\n",
       "        vertical-align: middle;\n",
       "    }\n",
       "\n",
       "    .dataframe tbody tr th {\n",
       "        vertical-align: top;\n",
       "    }\n",
       "\n",
       "    .dataframe thead th {\n",
       "        text-align: right;\n",
       "    }\n",
       "</style>\n",
       "<table border=\"1\" class=\"dataframe\">\n",
       "  <thead>\n",
       "    <tr style=\"text-align: right;\">\n",
       "      <th></th>\n",
       "      <th>0</th>\n",
       "      <th>1</th>\n",
       "      <th>2</th>\n",
       "      <th>3</th>\n",
       "      <th>4</th>\n",
       "      <th>5</th>\n",
       "    </tr>\n",
       "  </thead>\n",
       "  <tbody>\n",
       "    <tr>\n",
       "      <th>0</th>\n",
       "      <td>1.000000</td>\n",
       "      <td>0.799268</td>\n",
       "      <td>0.779227</td>\n",
       "      <td>0.934622</td>\n",
       "      <td>0.973890</td>\n",
       "      <td>0.884600</td>\n",
       "    </tr>\n",
       "    <tr>\n",
       "      <th>1</th>\n",
       "      <td>0.799268</td>\n",
       "      <td>1.000000</td>\n",
       "      <td>0.874744</td>\n",
       "      <td>0.905850</td>\n",
       "      <td>0.866146</td>\n",
       "      <td>0.827036</td>\n",
       "    </tr>\n",
       "    <tr>\n",
       "      <th>2</th>\n",
       "      <td>0.779227</td>\n",
       "      <td>0.874744</td>\n",
       "      <td>1.000000</td>\n",
       "      <td>0.909513</td>\n",
       "      <td>0.865454</td>\n",
       "      <td>0.853275</td>\n",
       "    </tr>\n",
       "    <tr>\n",
       "      <th>3</th>\n",
       "      <td>0.934622</td>\n",
       "      <td>0.905850</td>\n",
       "      <td>0.909513</td>\n",
       "      <td>1.000000</td>\n",
       "      <td>0.989344</td>\n",
       "      <td>0.865614</td>\n",
       "    </tr>\n",
       "    <tr>\n",
       "      <th>4</th>\n",
       "      <td>0.973890</td>\n",
       "      <td>0.866146</td>\n",
       "      <td>0.865454</td>\n",
       "      <td>0.989344</td>\n",
       "      <td>1.000000</td>\n",
       "      <td>0.881640</td>\n",
       "    </tr>\n",
       "    <tr>\n",
       "      <th>5</th>\n",
       "      <td>0.884600</td>\n",
       "      <td>0.827036</td>\n",
       "      <td>0.853275</td>\n",
       "      <td>0.865614</td>\n",
       "      <td>0.881640</td>\n",
       "      <td>1.000000</td>\n",
       "    </tr>\n",
       "  </tbody>\n",
       "</table>\n",
       "</div>"
      ],
      "text/plain": [
       "          0         1         2         3         4         5\n",
       "0  1.000000  0.799268  0.779227  0.934622  0.973890  0.884600\n",
       "1  0.799268  1.000000  0.874744  0.905850  0.866146  0.827036\n",
       "2  0.779227  0.874744  1.000000  0.909513  0.865454  0.853275\n",
       "3  0.934622  0.905850  0.909513  1.000000  0.989344  0.865614\n",
       "4  0.973890  0.866146  0.865454  0.989344  1.000000  0.881640\n",
       "5  0.884600  0.827036  0.853275  0.865614  0.881640  1.000000"
      ]
     },
     "execution_count": 10,
     "metadata": {},
     "output_type": "execute_result"
    }
   ],
   "source": [
    "cosine_sim(rm)"
   ]
  },
  {
   "cell_type": "code",
   "execution_count": 11,
   "metadata": {},
   "outputs": [
    {
     "data": {
      "text/html": [
       "<div>\n",
       "<style scoped>\n",
       "    .dataframe tbody tr th:only-of-type {\n",
       "        vertical-align: middle;\n",
       "    }\n",
       "\n",
       "    .dataframe tbody tr th {\n",
       "        vertical-align: top;\n",
       "    }\n",
       "\n",
       "    .dataframe thead th {\n",
       "        text-align: right;\n",
       "    }\n",
       "</style>\n",
       "<table border=\"1\" class=\"dataframe\">\n",
       "  <thead>\n",
       "    <tr style=\"text-align: right;\">\n",
       "      <th></th>\n",
       "      <th>0</th>\n",
       "      <th>1</th>\n",
       "      <th>2</th>\n",
       "      <th>3</th>\n",
       "      <th>4</th>\n",
       "      <th>5</th>\n",
       "    </tr>\n",
       "  </thead>\n",
       "  <tbody>\n",
       "    <tr>\n",
       "      <th>0</th>\n",
       "      <td>1.000000</td>\n",
       "      <td>0.236908</td>\n",
       "      <td>0.421263</td>\n",
       "      <td>-0.519085</td>\n",
       "      <td>-0.125892</td>\n",
       "      <td>0.010090</td>\n",
       "    </tr>\n",
       "    <tr>\n",
       "      <th>1</th>\n",
       "      <td>0.236908</td>\n",
       "      <td>1.000000</td>\n",
       "      <td>-0.805243</td>\n",
       "      <td>0.085741</td>\n",
       "      <td>0.237273</td>\n",
       "      <td>0.520625</td>\n",
       "    </tr>\n",
       "    <tr>\n",
       "      <th>2</th>\n",
       "      <td>0.421263</td>\n",
       "      <td>-0.805243</td>\n",
       "      <td>1.000000</td>\n",
       "      <td>-0.767941</td>\n",
       "      <td>-0.230521</td>\n",
       "      <td>-0.053640</td>\n",
       "    </tr>\n",
       "    <tr>\n",
       "      <th>3</th>\n",
       "      <td>-0.519085</td>\n",
       "      <td>0.085741</td>\n",
       "      <td>-0.767941</td>\n",
       "      <td>1.000000</td>\n",
       "      <td>-0.299059</td>\n",
       "      <td>-0.644550</td>\n",
       "    </tr>\n",
       "    <tr>\n",
       "      <th>4</th>\n",
       "      <td>-0.125892</td>\n",
       "      <td>0.237273</td>\n",
       "      <td>-0.230521</td>\n",
       "      <td>-0.299059</td>\n",
       "      <td>1.000000</td>\n",
       "      <td>0.599158</td>\n",
       "    </tr>\n",
       "    <tr>\n",
       "      <th>5</th>\n",
       "      <td>0.010090</td>\n",
       "      <td>0.520625</td>\n",
       "      <td>-0.053640</td>\n",
       "      <td>-0.644550</td>\n",
       "      <td>0.599158</td>\n",
       "      <td>1.000000</td>\n",
       "    </tr>\n",
       "  </tbody>\n",
       "</table>\n",
       "</div>"
      ],
      "text/plain": [
       "          0         1         2         3         4         5\n",
       "0  1.000000  0.236908  0.421263 -0.519085 -0.125892  0.010090\n",
       "1  0.236908  1.000000 -0.805243  0.085741  0.237273  0.520625\n",
       "2  0.421263 -0.805243  1.000000 -0.767941 -0.230521 -0.053640\n",
       "3 -0.519085  0.085741 -0.767941  1.000000 -0.299059 -0.644550\n",
       "4 -0.125892  0.237273 -0.230521 -0.299059  1.000000  0.599158\n",
       "5  0.010090  0.520625 -0.053640 -0.644550  0.599158  1.000000"
      ]
     },
     "execution_count": 11,
     "metadata": {},
     "output_type": "execute_result"
    }
   ],
   "source": [
    "adjusted_cosine_sim(rm)"
   ]
  },
  {
   "cell_type": "markdown",
   "metadata": {},
   "source": [
    "## User based recomendation system using cosine similarity"
   ]
  },
  {
   "cell_type": "markdown",
   "metadata": {},
   "source": [
    "### Similar users\n",
    "\n",
    "[CommonSimilarityService](https://github.com/adrianmarino/cf-rec-sys-examples/blob/master/src/similarity/service/impl/common_similarity_service.py) class finds k similar users give a _user id_. in this case we use cosine similarity:\n",
    "\n",
    "\n",
    "<center>$\\Large cosine \\mspace{3mu} distance_{a, b} = \\frac{ \\sum_{j \\in C} r_{a, j}.r_{b, j}}{\\sqrt{\\sum_{j \\in C} r_{a, j}^2}.\\sqrt{\\sum_{j \\in C} r_{b, j}^2}  }$</center>\n",
    "\n"
   ]
  },
  {
   "cell_type": "markdown",
   "metadata": {},
   "source": [
    " "
   ]
  },
  {
   "cell_type": "markdown",
   "metadata": {},
   "source": [
    "<center>$\\Large cosine \\mspace{3mu} similarity_{a, b} = 1 - cosine \\mspace{3mu} distance_{a, b}$</center>\n"
   ]
  },
  {
   "cell_type": "markdown",
   "metadata": {},
   "source": [
    " "
   ]
  },
  {
   "cell_type": "markdown",
   "metadata": {},
   "source": [
    "\n",
    "#### Observations\n",
    "\n",
    "* $C$ is columns count in [Ratings matrix](https://github.com/adrianmarino/cf-rec-sys-examples/blob/master/src/ratings_matrix.py).\n",
    "* $j$ is a column number.\n",
    "* $a$ and $b$ are two rows in [Ratings matrix](https://github.com/adrianmarino/cf-rec-sys-examples/blob/master/src/ratings_matrix.py) \n",
    "of which we want to know how similar they are.\n",
    "* $a$ and $b$ represent ratings of both users for all items (one for column).\n",
    "* $ 0 <= cosine \\mspace{3mu} similarity_{a, b} <= 1$. The higher the value the more similar."
   ]
  },
  {
   "cell_type": "code",
   "execution_count": 12,
   "metadata": {},
   "outputs": [
    {
     "name": "stdout",
     "output_type": "stream",
     "text": [
      "4 most similar users to user 1:\n",
      "\n",
      "- User ID 5, with similarity of 0.9738899354018394.\n",
      "- User ID 4, with similarity of 0.9346216841783769.\n",
      "- User ID 6, with similarity of 0.8846004572297814.\n",
      "- User ID 2, with similarity of 0.7992679780524188.\n"
     ]
    }
   ],
   "source": [
    "n_neighbors = 4\n",
    "user_id     = 1\n",
    "\n",
    "predictor_factory = PredictorFactory()\n",
    "\n",
    "sim_service = CommonSimilarityService(rm, cosine, n_neighbors)\n",
    "\n",
    "similarities, indices = sim_service.similars(user_id)\n",
    "\n",
    "show_similar_users(indices, similarities, user_id)"
   ]
  },
  {
   "cell_type": "markdown",
   "metadata": {},
   "source": [
    "### User based predictor"
   ]
  },
  {
   "cell_type": "markdown",
   "metadata": {},
   "source": [
    "[UserBasedPredictor](https://github.com/adrianmarino/cf-rec-sys-examples/blob/master/src/predictor/impl/user_based_predictor.py) class predicts ratings for specified user-item combinations based on user-based approach. Predictions are computed as weighted average of deviations from neighbor’s mean and adding it to active user’s mean rating.\n",
    "\n",
    "<center>$\\Large prediction_{u, i} = \\overline{r}_u + \\frac{\\sum_{o \\in K} (r_{o, i} - \\overline{r}_o) . w_{u, o} }{ \\sum_{o \\in K} w_{u, o}}, u \\neq o $</center>\n",
    "\n",
    "#### Observations\n",
    "\n",
    "* We seek to predict the rating than user $u$ gave to item $i$ calculating $prediction_{u, i}$.\n",
    "* $o$ (other) user belongs to $K$, the set of all users similar to $u$ user.\n",
    "* $w_{u,o}$ is the similarity between users $u$ and $o$ ($w_{u,o} = similarity_{u,o} = 1 - distance_{u,o}$).\n",
    "* $K$ could be calculated using any subclass of [SimilarityService](https://github.com/adrianmarino/cf-rec-sys-examples/blob/master/src/similarity/service/similarity_service.py) ([CommonSimilarityService](https://github.com/adrianmarino/cf-rec-sys-examples/blob/master/src/similarity/service/impl/common_similarity_service.py) or [AdjustedCosineSimilarityService](https://github.com/adrianmarino/cf-rec-sys-examples/blob/master/src/similarity/service/impl/adjusted_cosine_similarity_service.py)).\n",
    "* $\\overline{r}_{u}$ is the mean of all ratings made by $u$ user.\n",
    "* $r_{o,i} - \\overline{r}_{o}$ is the diference between the $o$ user rating to $i$ item and $\\overline{r}_{o}$ mean. Is used to adjust the user associated biases. User biases occur as certain users may tend to always give high or low ratings to all items."
   ]
  },
  {
   "cell_type": "code",
   "execution_count": 13,
   "metadata": {},
   "outputs": [],
   "source": [
    "evaluator = Evaluator(\n",
    "    metrics=[\n",
    "        MeanSquaredErrorMetric(decimals=4),\n",
    "        RootMeanSquaredErrorMetric(decimals=4),\n",
    "        PrecisionKMetric(k=5, decimals=4),\n",
    "        PrecisionKMetric(k=10, decimals=4),\n",
    "        PrecisionKMetric(k=30, decimals=4),\n",
    "        FBetaKMetric(k=5,  beta=.5, decimals=4),\n",
    "        FBetaKMetric(k=10, beta=.5, decimals=4),\n",
    "        FBetaKMetric(k=30, beta=.5, decimals=4),\n",
    "        FBetaKMetric(k=5,  beta=1, decimals=4),\n",
    "        FBetaKMetric(k=10, beta=1, decimals=4),\n",
    "        FBetaKMetric(k=30, beta=1, decimals=4),\n",
    "        FBetaKMetric(k=5,  beta=1.5, decimals=4),\n",
    "        FBetaKMetric(k=10, beta=1.5, decimals=4),\n",
    "        FBetaKMetric(k=30, beta=1.5, decimals=4),\n",
    "        PrecisionMetric(decimals=4),\n",
    "        RecallMetric(decimals=4)\n",
    "        # AVGPrecisionMetric(decimals=4),\n",
    "    ]\n",
    ")"
   ]
  },
  {
   "cell_type": "code",
   "execution_count": 14,
   "metadata": {},
   "outputs": [
    {
     "data": {
      "text/html": [
       "<div>\n",
       "<style scoped>\n",
       "    .dataframe tbody tr th:only-of-type {\n",
       "        vertical-align: middle;\n",
       "    }\n",
       "\n",
       "    .dataframe tbody tr th {\n",
       "        vertical-align: top;\n",
       "    }\n",
       "\n",
       "    .dataframe thead th {\n",
       "        text-align: right;\n",
       "    }\n",
       "</style>\n",
       "<table border=\"1\" class=\"dataframe\">\n",
       "  <thead>\n",
       "    <tr style=\"text-align: right;\">\n",
       "      <th>Predictor</th>\n",
       "      <th>knn_cosine_user_based</th>\n",
       "    </tr>\n",
       "  </thead>\n",
       "  <tbody>\n",
       "    <tr>\n",
       "      <th>MSE</th>\n",
       "      <td>2.8928</td>\n",
       "    </tr>\n",
       "    <tr>\n",
       "      <th>RMSE</th>\n",
       "      <td>1.7008</td>\n",
       "    </tr>\n",
       "    <tr>\n",
       "      <th>Precision@5</th>\n",
       "      <td>0.3750</td>\n",
       "    </tr>\n",
       "    <tr>\n",
       "      <th>Precision@10</th>\n",
       "      <td>0.4286</td>\n",
       "    </tr>\n",
       "    <tr>\n",
       "      <th>Precision@30</th>\n",
       "      <td>0.2574</td>\n",
       "    </tr>\n",
       "    <tr>\n",
       "      <th>F0.5Score@5</th>\n",
       "      <td>0.2000</td>\n",
       "    </tr>\n",
       "    <tr>\n",
       "      <th>F0.5Score@10</th>\n",
       "      <td>0.2143</td>\n",
       "    </tr>\n",
       "    <tr>\n",
       "      <th>F0.5Score@30</th>\n",
       "      <td>0.3537</td>\n",
       "    </tr>\n",
       "    <tr>\n",
       "      <th>F1Score@5</th>\n",
       "      <td>0.0000</td>\n",
       "    </tr>\n",
       "    <tr>\n",
       "      <th>F1Score@10</th>\n",
       "      <td>0.2143</td>\n",
       "    </tr>\n",
       "    <tr>\n",
       "      <th>F1Score@30</th>\n",
       "      <td>0.1500</td>\n",
       "    </tr>\n",
       "    <tr>\n",
       "      <th>F1.5Score@5</th>\n",
       "      <td>0.3000</td>\n",
       "    </tr>\n",
       "    <tr>\n",
       "      <th>F1.5Score@10</th>\n",
       "      <td>0.2143</td>\n",
       "    </tr>\n",
       "    <tr>\n",
       "      <th>F1.5Score@30</th>\n",
       "      <td>0.2708</td>\n",
       "    </tr>\n",
       "    <tr>\n",
       "      <th>Precision</th>\n",
       "      <td>0.2887</td>\n",
       "    </tr>\n",
       "    <tr>\n",
       "      <th>Recall</th>\n",
       "      <td>0.3264</td>\n",
       "    </tr>\n",
       "  </tbody>\n",
       "</table>\n",
       "</div>"
      ],
      "text/plain": [
       "Predictor     knn_cosine_user_based\n",
       "MSE                          2.8928\n",
       "RMSE                         1.7008\n",
       "Precision@5                  0.3750\n",
       "Precision@10                 0.4286\n",
       "Precision@30                 0.2574\n",
       "F0.5Score@5                  0.2000\n",
       "F0.5Score@10                 0.2143\n",
       "F0.5Score@30                 0.3537\n",
       "F1Score@5                    0.0000\n",
       "F1Score@10                   0.2143\n",
       "F1Score@30                   0.1500\n",
       "F1.5Score@5                  0.3000\n",
       "F1.5Score@10                 0.2143\n",
       "F1.5Score@30                 0.2708\n",
       "Precision                    0.2887\n",
       "Recall                       0.3264"
      ]
     },
     "execution_count": 14,
     "metadata": {},
     "output_type": "execute_result"
    }
   ],
   "source": [
    "predictor = predictor_factory.create('knn_cosine_user_based', rm, n_neighbors)\n",
    "\n",
    "evaluator.evaluate(predictors=[predictor], rm=rm, transpose=True)"
   ]
  },
  {
   "cell_type": "code",
   "execution_count": 15,
   "metadata": {},
   "outputs": [
    {
     "name": "stdout",
     "output_type": "stream",
     "text": [
      "Item base rating prediction:\n",
      "- User ID: 3.\n",
      "- Item ID: 4.\n",
      "- Predicted rating: 3.450903595941009.\n",
      "- Real rating: 0 (0 == unrated item).\n"
     ]
    }
   ],
   "source": [
    "user_id = 3\n",
    "item_id = 4\n",
    "\n",
    "show_prediction(rm, user_id, item_id, predictor.predict(user_id, item_id))"
   ]
  },
  {
   "cell_type": "code",
   "execution_count": 16,
   "metadata": {},
   "outputs": [
    {
     "name": "stdout",
     "output_type": "stream",
     "text": [
      "Item base rating prediction:\n",
      "- User ID: 1.\n",
      "- Item ID: 5.\n",
      "- Predicted rating: 8.60564770282165.\n",
      "- Real rating: 9 (0 == unrated item).\n"
     ]
    }
   ],
   "source": [
    "user_id = 1\n",
    "item_id = 5\n",
    "\n",
    "show_prediction(rm, user_id, item_id, predictor.predict(user_id, item_id))"
   ]
  },
  {
   "cell_type": "markdown",
   "metadata": {},
   "source": [
    "## Item based recommedation system using cosine similarity"
   ]
  },
  {
   "cell_type": "markdown",
   "metadata": {},
   "source": [
    "### Similar items\n",
    "\n",
    "[CommonSimilarityService](https://github.com/adrianmarino/cf-rec-sys-examples/blob/master/src/similarity/service/impl/common_similarity_service.py) class finds k similar items given the _item_id_ and a transposed version of ratings matrix."
   ]
  },
  {
   "cell_type": "code",
   "execution_count": 17,
   "metadata": {},
   "outputs": [
    {
     "name": "stdout",
     "output_type": "stream",
     "text": [
      "4 most similar items to item 3:\n",
      "\n",
      "- Item ID 5, with similarity of 0.9183361255345218.\n",
      "- Item ID 6, with similarity of 0.874759773038195.\n",
      "- Item ID 1, with similarity of 0.8103647462221735.\n",
      "- Item ID 4, with similarity of 0.7969178003023931.\n"
     ]
    }
   ],
   "source": [
    "item_id = 3\n",
    "\n",
    "sim_service = CommonSimilarityService(rm.T(), cosine, n_neighbors)\n",
    "\n",
    "similarities, indices = sim_service.similars(item_id)\n",
    "\n",
    "show_similar_items(indices, similarities, item_id)"
   ]
  },
  {
   "cell_type": "markdown",
   "metadata": {},
   "source": [
    "### Item based predict\n",
    "\n",
    "In this approach, similarities between pair of items are computed using $cosine \\mspace{3mu} similarity \\mspace{3mu}$ ($1 - cosine \\mspace{3mu} distance$). The rating for target item $i$ for active user $a$ can be predicted by using a simple weighted average as:\n",
    "\n",
    "<center>$\\Large prediction_{u, i} = \\frac{\\sum_{j \\in K} r_{u, j}. w_{i, j} }{\\sum_{j \\in K} w_{i, j} }, i \\neq j $</center>\n",
    "\n",
    "#### Observations\n",
    "\n",
    "* We seek to predict the rating than user $u$  gave to item $i$ calculating $prediction_{u,i}$.\n",
    "* $K$ is the neighborhood of $j$ items most similar to $i$ item. $j$ belongs to $K$ and $i \\neq j$. \n",
    "* $w_{i,j}$ is the similarity between items $i$ and $j$ ($w_{i,j}$ = $similarity_{i,j} = 1 - distance_{i,j}$)."
   ]
  },
  {
   "cell_type": "code",
   "execution_count": 18,
   "metadata": {},
   "outputs": [],
   "source": [
    "predictor = predictor_factory.create('knn_cosine_item_based', rm, n_neighbors)"
   ]
  },
  {
   "cell_type": "code",
   "execution_count": 19,
   "metadata": {},
   "outputs": [
    {
     "data": {
      "text/html": [
       "<div>\n",
       "<style scoped>\n",
       "    .dataframe tbody tr th:only-of-type {\n",
       "        vertical-align: middle;\n",
       "    }\n",
       "\n",
       "    .dataframe tbody tr th {\n",
       "        vertical-align: top;\n",
       "    }\n",
       "\n",
       "    .dataframe thead th {\n",
       "        text-align: right;\n",
       "    }\n",
       "</style>\n",
       "<table border=\"1\" class=\"dataframe\">\n",
       "  <thead>\n",
       "    <tr style=\"text-align: right;\">\n",
       "      <th>Predictor</th>\n",
       "      <th>knn_cosine_item_based</th>\n",
       "    </tr>\n",
       "  </thead>\n",
       "  <tbody>\n",
       "    <tr>\n",
       "      <th>MSE</th>\n",
       "      <td>3.2925</td>\n",
       "    </tr>\n",
       "    <tr>\n",
       "      <th>RMSE</th>\n",
       "      <td>1.8145</td>\n",
       "    </tr>\n",
       "    <tr>\n",
       "      <th>Precision@5</th>\n",
       "      <td>0.0000</td>\n",
       "    </tr>\n",
       "    <tr>\n",
       "      <th>Precision@10</th>\n",
       "      <td>0.0833</td>\n",
       "    </tr>\n",
       "    <tr>\n",
       "      <th>Precision@30</th>\n",
       "      <td>0.0903</td>\n",
       "    </tr>\n",
       "    <tr>\n",
       "      <th>F0.5Score@5</th>\n",
       "      <td>0.3750</td>\n",
       "    </tr>\n",
       "    <tr>\n",
       "      <th>F0.5Score@10</th>\n",
       "      <td>0.1389</td>\n",
       "    </tr>\n",
       "    <tr>\n",
       "      <th>F0.5Score@30</th>\n",
       "      <td>0.1052</td>\n",
       "    </tr>\n",
       "    <tr>\n",
       "      <th>F1Score@5</th>\n",
       "      <td>0.1000</td>\n",
       "    </tr>\n",
       "    <tr>\n",
       "      <th>F1Score@10</th>\n",
       "      <td>0.2778</td>\n",
       "    </tr>\n",
       "    <tr>\n",
       "      <th>F1Score@30</th>\n",
       "      <td>0.1138</td>\n",
       "    </tr>\n",
       "    <tr>\n",
       "      <th>F1.5Score@5</th>\n",
       "      <td>0.0000</td>\n",
       "    </tr>\n",
       "    <tr>\n",
       "      <th>F1.5Score@10</th>\n",
       "      <td>0.3000</td>\n",
       "    </tr>\n",
       "    <tr>\n",
       "      <th>F1.5Score@30</th>\n",
       "      <td>0.0903</td>\n",
       "    </tr>\n",
       "    <tr>\n",
       "      <th>Precision</th>\n",
       "      <td>0.1052</td>\n",
       "    </tr>\n",
       "    <tr>\n",
       "      <th>Recall</th>\n",
       "      <td>0.0938</td>\n",
       "    </tr>\n",
       "  </tbody>\n",
       "</table>\n",
       "</div>"
      ],
      "text/plain": [
       "Predictor     knn_cosine_item_based\n",
       "MSE                          3.2925\n",
       "RMSE                         1.8145\n",
       "Precision@5                  0.0000\n",
       "Precision@10                 0.0833\n",
       "Precision@30                 0.0903\n",
       "F0.5Score@5                  0.3750\n",
       "F0.5Score@10                 0.1389\n",
       "F0.5Score@30                 0.1052\n",
       "F1Score@5                    0.1000\n",
       "F1Score@10                   0.2778\n",
       "F1Score@30                   0.1138\n",
       "F1.5Score@5                  0.0000\n",
       "F1.5Score@10                 0.3000\n",
       "F1.5Score@30                 0.0903\n",
       "Precision                    0.1052\n",
       "Recall                       0.0938"
      ]
     },
     "execution_count": 19,
     "metadata": {},
     "output_type": "execute_result"
    }
   ],
   "source": [
    "evaluator.evaluate(predictors=[predictor], rm=rm, transpose=True)"
   ]
  },
  {
   "cell_type": "code",
   "execution_count": 20,
   "metadata": {},
   "outputs": [
    {
     "name": "stdout",
     "output_type": "stream",
     "text": [
      "Item base rating prediction:\n",
      "- User ID: 4.\n",
      "- Item ID: 3.\n",
      "- Predicted rating: 7.742467352632247.\n",
      "- Real rating: 8 (0 == unrated item).\n"
     ]
    }
   ],
   "source": [
    "user_id = 4\n",
    "item_id = 3\n",
    "\n",
    "show_prediction(rm, user_id, item_id, predictor.predict(user_id, item_id))"
   ]
  },
  {
   "cell_type": "markdown",
   "metadata": {},
   "source": [
    "## Item based recommedation system using adjusted cosine similarity"
   ]
  },
  {
   "cell_type": "markdown",
   "metadata": {},
   "source": [
    "### Similar items"
   ]
  },
  {
   "cell_type": "markdown",
   "metadata": {},
   "source": [
    "Using cosine similarity metric for item-based CF approach **does not consider difference in ratings of users**. Adjusted cosine similarity offsets this drawback by subtracting respective user’s average rating ($\\overline{r}_u$) from each co-rated pair, and is defined as below:\n",
    "\n",
    "<center>$\\Large adj. \\mspace{3mu} cosine \\mspace{3mu} distance_{i, j} = \\frac{ \\sum_{u \\in U} (r_{u, i} - \\overline{r}_{u}).(r_{u, j} - \\overline{r}_{u})}{\\sqrt{ \\sum_{u \\in U} (r_{u, i} - \\overline{r}_{u})^2}.\\sqrt{ \\sum_{u \\in U} (r_{u, j} - \\overline{r}_{u})^2}}$</center>\n",
    "\n"
   ]
  },
  {
   "cell_type": "markdown",
   "metadata": {},
   "source": [
    " "
   ]
  },
  {
   "cell_type": "markdown",
   "metadata": {},
   "source": [
    "<center>$\\Large adj. \\mspace{3mu} cosine \\mspace{3mu} similarity_{i, j} = 1 - adj. \\mspace{3mu} cosine \\mspace{3mu} distance_{i, i}$</center>"
   ]
  },
  {
   "cell_type": "markdown",
   "metadata": {},
   "source": [
    "#### Observations\n",
    "\n",
    "* $U$ all users in [Ratings matrix](https://github.com/adrianmarino/cf-rec-sys-examples/blob/master/src/ratings_matrix.py).\n",
    "* $u$ a given user.\n",
    "* $i$ and $j$ represent two items."
   ]
  },
  {
   "cell_type": "markdown",
   "metadata": {},
   "source": [
    " "
   ]
  },
  {
   "cell_type": "markdown",
   "metadata": {},
   "source": [
    "[AdjustedCosineSimilarityService](https://github.com/adrianmarino/cf-rec-sys-examples/blob/master/src/similarity/service/impl/adjusted_cosine_similarity_service.py) class finds k similar items given the _item_id_ and ratings matrix."
   ]
  },
  {
   "cell_type": "code",
   "execution_count": 21,
   "metadata": {},
   "outputs": [
    {
     "name": "stdout",
     "output_type": "stream",
     "text": [
      "4 most similar items to item 3:\n",
      "\n",
      "- Item ID 1, with similarity of 0.42126273187113467.\n",
      "- Item ID 6, with similarity of -0.05363989048891138.\n",
      "- Item ID 5, with similarity of -0.2305213582693748.\n",
      "- Item ID 4, with similarity of -0.7679410465751941.\n"
     ]
    }
   ],
   "source": [
    "user_id = 3 \n",
    "\n",
    "sim_service = AdjustedCosineSimilarityService(rm, n_neighbors)\n",
    "\n",
    "similarities, indices = sim_service.similars(item_id)\n",
    "\n",
    "show_similar_items(indices, similarities, item_id)"
   ]
  },
  {
   "cell_type": "markdown",
   "metadata": {},
   "source": [
    "### Item based predictor"
   ]
  },
  {
   "cell_type": "code",
   "execution_count": 22,
   "metadata": {},
   "outputs": [
    {
     "data": {
      "text/html": [
       "<div>\n",
       "<style scoped>\n",
       "    .dataframe tbody tr th:only-of-type {\n",
       "        vertical-align: middle;\n",
       "    }\n",
       "\n",
       "    .dataframe tbody tr th {\n",
       "        vertical-align: top;\n",
       "    }\n",
       "\n",
       "    .dataframe thead th {\n",
       "        text-align: right;\n",
       "    }\n",
       "</style>\n",
       "<table border=\"1\" class=\"dataframe\">\n",
       "  <thead>\n",
       "    <tr style=\"text-align: right;\">\n",
       "      <th>Predictor</th>\n",
       "      <th>knn_adj_cosine_item_based</th>\n",
       "    </tr>\n",
       "  </thead>\n",
       "  <tbody>\n",
       "    <tr>\n",
       "      <th>MSE</th>\n",
       "      <td>13.2281</td>\n",
       "    </tr>\n",
       "    <tr>\n",
       "      <th>RMSE</th>\n",
       "      <td>3.6370</td>\n",
       "    </tr>\n",
       "    <tr>\n",
       "      <th>Precision@5</th>\n",
       "      <td>0.2857</td>\n",
       "    </tr>\n",
       "    <tr>\n",
       "      <th>Precision@10</th>\n",
       "      <td>0.0667</td>\n",
       "    </tr>\n",
       "    <tr>\n",
       "      <th>Precision@30</th>\n",
       "      <td>0.2824</td>\n",
       "    </tr>\n",
       "    <tr>\n",
       "      <th>F0.5Score@5</th>\n",
       "      <td>0.3750</td>\n",
       "    </tr>\n",
       "    <tr>\n",
       "      <th>F0.5Score@10</th>\n",
       "      <td>0.1389</td>\n",
       "    </tr>\n",
       "    <tr>\n",
       "      <th>F0.5Score@30</th>\n",
       "      <td>0.2421</td>\n",
       "    </tr>\n",
       "    <tr>\n",
       "      <th>F1Score@5</th>\n",
       "      <td>0.0833</td>\n",
       "    </tr>\n",
       "    <tr>\n",
       "      <th>F1Score@10</th>\n",
       "      <td>0.3125</td>\n",
       "    </tr>\n",
       "    <tr>\n",
       "      <th>F1Score@30</th>\n",
       "      <td>0.2698</td>\n",
       "    </tr>\n",
       "    <tr>\n",
       "      <th>F1.5Score@5</th>\n",
       "      <td>0.0000</td>\n",
       "    </tr>\n",
       "    <tr>\n",
       "      <th>F1.5Score@10</th>\n",
       "      <td>0.1250</td>\n",
       "    </tr>\n",
       "    <tr>\n",
       "      <th>F1.5Score@30</th>\n",
       "      <td>0.2750</td>\n",
       "    </tr>\n",
       "    <tr>\n",
       "      <th>Precision</th>\n",
       "      <td>0.2513</td>\n",
       "    </tr>\n",
       "    <tr>\n",
       "      <th>Recall</th>\n",
       "      <td>0.2619</td>\n",
       "    </tr>\n",
       "  </tbody>\n",
       "</table>\n",
       "</div>"
      ],
      "text/plain": [
       "Predictor     knn_adj_cosine_item_based\n",
       "MSE                             13.2281\n",
       "RMSE                             3.6370\n",
       "Precision@5                      0.2857\n",
       "Precision@10                     0.0667\n",
       "Precision@30                     0.2824\n",
       "F0.5Score@5                      0.3750\n",
       "F0.5Score@10                     0.1389\n",
       "F0.5Score@30                     0.2421\n",
       "F1Score@5                        0.0833\n",
       "F1Score@10                       0.3125\n",
       "F1Score@30                       0.2698\n",
       "F1.5Score@5                      0.0000\n",
       "F1.5Score@10                     0.1250\n",
       "F1.5Score@30                     0.2750\n",
       "Precision                        0.2513\n",
       "Recall                           0.2619"
      ]
     },
     "execution_count": 22,
     "metadata": {},
     "output_type": "execute_result"
    }
   ],
   "source": [
    "predictor = predictor_factory.create('knn_adj_cosine_item_based', rm, n_neighbors)\n",
    "evaluator.evaluate(predictors=[predictor], rm=rm, transpose=True)"
   ]
  },
  {
   "cell_type": "code",
   "execution_count": 23,
   "metadata": {},
   "outputs": [
    {
     "name": "stdout",
     "output_type": "stream",
     "text": [
      "Item base rating prediction:\n",
      "- User ID: 1.\n",
      "- Item ID: 1.\n",
      "- Predicted rating: 4.205640412693527.\n",
      "- Real rating: 3 (0 == unrated item).\n"
     ]
    }
   ],
   "source": [
    "user_id = 1\n",
    "item_id = 1\n",
    "\n",
    "show_prediction(rm, user_id, item_id, predictor.predict(user_id, item_id))"
   ]
  },
  {
   "cell_type": "markdown",
   "metadata": {
    "tags": []
   },
   "source": [
    "## Predict and evaluate"
   ]
  },
  {
   "cell_type": "markdown",
   "metadata": {},
   "source": [
    "Evaluate all recomendation systems with distinct dsitance measures under example rating matrix."
   ]
  },
  {
   "cell_type": "code",
   "execution_count": 24,
   "metadata": {},
   "outputs": [
    {
     "name": "stdout",
     "output_type": "stream",
     "text": [
      "CPU times: user 3.76 ms, sys: 43 ms, total: 46.8 ms\n",
      "Wall time: 64.3 ms\n"
     ]
    }
   ],
   "source": [
    "%%time\n",
    "predictors = predictor_factory.create_all(rm, n_neighbors)"
   ]
  },
  {
   "cell_type": "code",
   "execution_count": 25,
   "metadata": {},
   "outputs": [
    {
     "name": "stdout",
     "output_type": "stream",
     "text": [
      "True rating: 9\n"
     ]
    },
    {
     "data": {
      "text/html": [
       "<div>\n",
       "<style scoped>\n",
       "    .dataframe tbody tr th:only-of-type {\n",
       "        vertical-align: middle;\n",
       "    }\n",
       "\n",
       "    .dataframe tbody tr th {\n",
       "        vertical-align: top;\n",
       "    }\n",
       "\n",
       "    .dataframe thead th {\n",
       "        text-align: right;\n",
       "    }\n",
       "</style>\n",
       "<table border=\"1\" class=\"dataframe\">\n",
       "  <thead>\n",
       "    <tr style=\"text-align: right;\">\n",
       "      <th></th>\n",
       "      <th>Prediction</th>\n",
       "    </tr>\n",
       "    <tr>\n",
       "      <th>Predictor</th>\n",
       "      <th></th>\n",
       "    </tr>\n",
       "  </thead>\n",
       "  <tbody>\n",
       "    <tr>\n",
       "      <th>knn_cosine_user_based</th>\n",
       "      <td>8.61</td>\n",
       "    </tr>\n",
       "    <tr>\n",
       "      <th>knn_cosine_item_based</th>\n",
       "      <td>6.84</td>\n",
       "    </tr>\n",
       "    <tr>\n",
       "      <th>knn_pearson_user_based</th>\n",
       "      <td>8.30</td>\n",
       "    </tr>\n",
       "    <tr>\n",
       "      <th>knn_pearson_item_based</th>\n",
       "      <td>0.00</td>\n",
       "    </tr>\n",
       "    <tr>\n",
       "      <th>knn_adj_cosine_item_based</th>\n",
       "      <td>9.49</td>\n",
       "    </tr>\n",
       "    <tr>\n",
       "      <th>knn_euclidean_user_based</th>\n",
       "      <td>0.00</td>\n",
       "    </tr>\n",
       "    <tr>\n",
       "      <th>knn_euclidean_item_based</th>\n",
       "      <td>0.00</td>\n",
       "    </tr>\n",
       "    <tr>\n",
       "      <th>knn_minkowski_user_based</th>\n",
       "      <td>0.00</td>\n",
       "    </tr>\n",
       "    <tr>\n",
       "      <th>knn_minkowski_item_based</th>\n",
       "      <td>0.00</td>\n",
       "    </tr>\n",
       "    <tr>\n",
       "      <th>knn_mahalanobis_user_based</th>\n",
       "      <td>0.00</td>\n",
       "    </tr>\n",
       "    <tr>\n",
       "      <th>knn_mahalanobis_item_based</th>\n",
       "      <td>0.00</td>\n",
       "    </tr>\n",
       "    <tr>\n",
       "      <th>knn_chebyshev_user_based</th>\n",
       "      <td>0.00</td>\n",
       "    </tr>\n",
       "    <tr>\n",
       "      <th>knn_chebyshev_item_based</th>\n",
       "      <td>0.00</td>\n",
       "    </tr>\n",
       "    <tr>\n",
       "      <th>knn_manhattan_user_based</th>\n",
       "      <td>0.00</td>\n",
       "    </tr>\n",
       "    <tr>\n",
       "      <th>knn_manhattan_item_based</th>\n",
       "      <td>0.00</td>\n",
       "    </tr>\n",
       "  </tbody>\n",
       "</table>\n",
       "</div>"
      ],
      "text/plain": [
       "                            Prediction\n",
       "Predictor                             \n",
       "knn_cosine_user_based             8.61\n",
       "knn_cosine_item_based             6.84\n",
       "knn_pearson_user_based            8.30\n",
       "knn_pearson_item_based            0.00\n",
       "knn_adj_cosine_item_based         9.49\n",
       "knn_euclidean_user_based          0.00\n",
       "knn_euclidean_item_based          0.00\n",
       "knn_minkowski_user_based          0.00\n",
       "knn_minkowski_item_based          0.00\n",
       "knn_mahalanobis_user_based        0.00\n",
       "knn_mahalanobis_item_based        0.00\n",
       "knn_chebyshev_user_based          0.00\n",
       "knn_chebyshev_item_based          0.00\n",
       "knn_manhattan_user_based          0.00\n",
       "knn_manhattan_item_based          0.00"
      ]
     },
     "execution_count": 25,
     "metadata": {},
     "output_type": "execute_result"
    }
   ],
   "source": [
    "user_id=1\n",
    "item_id=5\n",
    "\n",
    "print('True rating:', rm.cell(user_id, item_id))\n",
    "predict(predictors, user_id, item_id)"
   ]
  },
  {
   "cell_type": "markdown",
   "metadata": {},
   "source": [
    "if the item is already rated, it is not recommended:"
   ]
  },
  {
   "cell_type": "code",
   "execution_count": 26,
   "metadata": {},
   "outputs": [
    {
     "name": "stdout",
     "output_type": "stream",
     "text": [
      "True rating: 7\n"
     ]
    },
    {
     "data": {
      "text/html": [
       "<div>\n",
       "<style scoped>\n",
       "    .dataframe tbody tr th:only-of-type {\n",
       "        vertical-align: middle;\n",
       "    }\n",
       "\n",
       "    .dataframe tbody tr th {\n",
       "        vertical-align: top;\n",
       "    }\n",
       "\n",
       "    .dataframe thead th {\n",
       "        text-align: right;\n",
       "    }\n",
       "</style>\n",
       "<table border=\"1\" class=\"dataframe\">\n",
       "  <thead>\n",
       "    <tr style=\"text-align: right;\">\n",
       "      <th></th>\n",
       "      <th>Prediction</th>\n",
       "    </tr>\n",
       "    <tr>\n",
       "      <th>Predictor</th>\n",
       "      <th></th>\n",
       "    </tr>\n",
       "  </thead>\n",
       "  <tbody>\n",
       "    <tr>\n",
       "      <th>knn_cosine_user_based</th>\n",
       "      <td>4.84</td>\n",
       "    </tr>\n",
       "    <tr>\n",
       "      <th>knn_cosine_item_based</th>\n",
       "      <td>6.50</td>\n",
       "    </tr>\n",
       "    <tr>\n",
       "      <th>knn_pearson_user_based</th>\n",
       "      <td>5.19</td>\n",
       "    </tr>\n",
       "    <tr>\n",
       "      <th>knn_pearson_item_based</th>\n",
       "      <td>5.37</td>\n",
       "    </tr>\n",
       "    <tr>\n",
       "      <th>knn_adj_cosine_item_based</th>\n",
       "      <td>3.86</td>\n",
       "    </tr>\n",
       "    <tr>\n",
       "      <th>knn_euclidean_user_based</th>\n",
       "      <td>0.00</td>\n",
       "    </tr>\n",
       "    <tr>\n",
       "      <th>knn_euclidean_item_based</th>\n",
       "      <td>0.00</td>\n",
       "    </tr>\n",
       "    <tr>\n",
       "      <th>knn_minkowski_user_based</th>\n",
       "      <td>0.00</td>\n",
       "    </tr>\n",
       "    <tr>\n",
       "      <th>knn_minkowski_item_based</th>\n",
       "      <td>0.00</td>\n",
       "    </tr>\n",
       "    <tr>\n",
       "      <th>knn_mahalanobis_user_based</th>\n",
       "      <td>0.00</td>\n",
       "    </tr>\n",
       "    <tr>\n",
       "      <th>knn_mahalanobis_item_based</th>\n",
       "      <td>0.00</td>\n",
       "    </tr>\n",
       "    <tr>\n",
       "      <th>knn_chebyshev_user_based</th>\n",
       "      <td>0.00</td>\n",
       "    </tr>\n",
       "    <tr>\n",
       "      <th>knn_chebyshev_item_based</th>\n",
       "      <td>0.00</td>\n",
       "    </tr>\n",
       "    <tr>\n",
       "      <th>knn_manhattan_user_based</th>\n",
       "      <td>0.00</td>\n",
       "    </tr>\n",
       "    <tr>\n",
       "      <th>knn_manhattan_item_based</th>\n",
       "      <td>0.00</td>\n",
       "    </tr>\n",
       "  </tbody>\n",
       "</table>\n",
       "</div>"
      ],
      "text/plain": [
       "                            Prediction\n",
       "Predictor                             \n",
       "knn_cosine_user_based             4.84\n",
       "knn_cosine_item_based             6.50\n",
       "knn_pearson_user_based            5.19\n",
       "knn_pearson_item_based            5.37\n",
       "knn_adj_cosine_item_based         3.86\n",
       "knn_euclidean_user_based          0.00\n",
       "knn_euclidean_item_based          0.00\n",
       "knn_minkowski_user_based          0.00\n",
       "knn_minkowski_item_based          0.00\n",
       "knn_mahalanobis_user_based        0.00\n",
       "knn_mahalanobis_item_based        0.00\n",
       "knn_chebyshev_user_based          0.00\n",
       "knn_chebyshev_item_based          0.00\n",
       "knn_manhattan_user_based          0.00\n",
       "knn_manhattan_item_based          0.00"
      ]
     },
     "execution_count": 26,
     "metadata": {},
     "output_type": "execute_result"
    }
   ],
   "source": [
    "user_id=2\n",
    "item_id=1\n",
    "\n",
    "print('True rating:', rm.cell(user_id, item_id))\n",
    "predict(predictors, user_id, item_id)"
   ]
  },
  {
   "cell_type": "markdown",
   "metadata": {},
   "source": [
    "Evaluate predictions using _RMSE_ and _MAE_ error metrics:"
   ]
  },
  {
   "cell_type": "code",
   "execution_count": 27,
   "metadata": {},
   "outputs": [
    {
     "data": {
      "text/html": [
       "<style type=\"text/css\">\n",
       "</style>\n",
       "<table id=\"T_43811\">\n",
       "  <thead>\n",
       "    <tr>\n",
       "      <th id=\"T_43811_level0_col0\" class=\"col_heading level0 col0\" >Predictor</th>\n",
       "      <th id=\"T_43811_level0_col1\" class=\"col_heading level0 col1\" >MSE</th>\n",
       "      <th id=\"T_43811_level0_col2\" class=\"col_heading level0 col2\" >RMSE</th>\n",
       "      <th id=\"T_43811_level0_col3\" class=\"col_heading level0 col3\" >Precision@5</th>\n",
       "      <th id=\"T_43811_level0_col4\" class=\"col_heading level0 col4\" >Precision@10</th>\n",
       "      <th id=\"T_43811_level0_col5\" class=\"col_heading level0 col5\" >Precision@30</th>\n",
       "      <th id=\"T_43811_level0_col6\" class=\"col_heading level0 col6\" >F0.5Score@5</th>\n",
       "      <th id=\"T_43811_level0_col7\" class=\"col_heading level0 col7\" >F0.5Score@10</th>\n",
       "      <th id=\"T_43811_level0_col8\" class=\"col_heading level0 col8\" >F0.5Score@30</th>\n",
       "      <th id=\"T_43811_level0_col9\" class=\"col_heading level0 col9\" >F1Score@5</th>\n",
       "      <th id=\"T_43811_level0_col10\" class=\"col_heading level0 col10\" >F1Score@10</th>\n",
       "      <th id=\"T_43811_level0_col11\" class=\"col_heading level0 col11\" >F1Score@30</th>\n",
       "      <th id=\"T_43811_level0_col12\" class=\"col_heading level0 col12\" >F1.5Score@5</th>\n",
       "      <th id=\"T_43811_level0_col13\" class=\"col_heading level0 col13\" >F1.5Score@10</th>\n",
       "      <th id=\"T_43811_level0_col14\" class=\"col_heading level0 col14\" >F1.5Score@30</th>\n",
       "      <th id=\"T_43811_level0_col15\" class=\"col_heading level0 col15\" >Precision</th>\n",
       "      <th id=\"T_43811_level0_col16\" class=\"col_heading level0 col16\" >Recall</th>\n",
       "    </tr>\n",
       "  </thead>\n",
       "  <tbody>\n",
       "    <tr>\n",
       "      <td id=\"T_43811_row0_col0\" class=\"data row0 col0\" >knn_cosine_item_based</td>\n",
       "      <td id=\"T_43811_row0_col1\" class=\"data row0 col1\" >3.292500</td>\n",
       "      <td id=\"T_43811_row0_col2\" class=\"data row0 col2\" >1.814500</td>\n",
       "      <td id=\"T_43811_row0_col3\" class=\"data row0 col3\" >0.100000</td>\n",
       "      <td id=\"T_43811_row0_col4\" class=\"data row0 col4\" >0.071400</td>\n",
       "      <td id=\"T_43811_row0_col5\" class=\"data row0 col5\" >0.111100</td>\n",
       "      <td id=\"T_43811_row0_col6\" class=\"data row0 col6\" >0.000000</td>\n",
       "      <td id=\"T_43811_row0_col7\" class=\"data row0 col7\" >0.100000</td>\n",
       "      <td id=\"T_43811_row0_col8\" class=\"data row0 col8\" >0.107100</td>\n",
       "      <td id=\"T_43811_row0_col9\" class=\"data row0 col9\" >0.133300</td>\n",
       "      <td id=\"T_43811_row0_col10\" class=\"data row0 col10\" >0.055600</td>\n",
       "      <td id=\"T_43811_row0_col11\" class=\"data row0 col11\" >0.107100</td>\n",
       "      <td id=\"T_43811_row0_col12\" class=\"data row0 col12\" >0.166700</td>\n",
       "      <td id=\"T_43811_row0_col13\" class=\"data row0 col13\" >0.047600</td>\n",
       "      <td id=\"T_43811_row0_col14\" class=\"data row0 col14\" >0.113100</td>\n",
       "      <td id=\"T_43811_row0_col15\" class=\"data row0 col15\" >0.105200</td>\n",
       "      <td id=\"T_43811_row0_col16\" class=\"data row0 col16\" >0.093800</td>\n",
       "    </tr>\n",
       "    <tr>\n",
       "      <td id=\"T_43811_row1_col0\" class=\"data row1 col0\" >knn_pearson_user_based</td>\n",
       "      <td id=\"T_43811_row1_col1\" class=\"data row1 col1\" >1.867200</td>\n",
       "      <td id=\"T_43811_row1_col2\" class=\"data row1 col2\" >1.366500</td>\n",
       "      <td id=\"T_43811_row1_col3\" class=\"data row1 col3\" >0.083300</td>\n",
       "      <td id=\"T_43811_row1_col4\" class=\"data row1 col4\" >0.361100</td>\n",
       "      <td id=\"T_43811_row1_col5\" class=\"data row1 col5\" >0.323100</td>\n",
       "      <td id=\"T_43811_row1_col6\" class=\"data row1 col6\" >0.250000</td>\n",
       "      <td id=\"T_43811_row1_col7\" class=\"data row1 col7\" >0.261900</td>\n",
       "      <td id=\"T_43811_row1_col8\" class=\"data row1 col8\" >0.284400</td>\n",
       "      <td id=\"T_43811_row1_col9\" class=\"data row1 col9\" >0.125000</td>\n",
       "      <td id=\"T_43811_row1_col10\" class=\"data row1 col10\" >0.500000</td>\n",
       "      <td id=\"T_43811_row1_col11\" class=\"data row1 col11\" >0.353700</td>\n",
       "      <td id=\"T_43811_row1_col12\" class=\"data row1 col12\" >0.200000</td>\n",
       "      <td id=\"T_43811_row1_col13\" class=\"data row1 col13\" >0.402800</td>\n",
       "      <td id=\"T_43811_row1_col14\" class=\"data row1 col14\" >0.281400</td>\n",
       "      <td id=\"T_43811_row1_col15\" class=\"data row1 col15\" >0.302600</td>\n",
       "      <td id=\"T_43811_row1_col16\" class=\"data row1 col16\" >0.389300</td>\n",
       "    </tr>\n",
       "    <tr>\n",
       "      <td id=\"T_43811_row2_col0\" class=\"data row2 col0\" >knn_pearson_item_based</td>\n",
       "      <td id=\"T_43811_row2_col1\" class=\"data row2 col1\" >11.622700</td>\n",
       "      <td id=\"T_43811_row2_col2\" class=\"data row2 col2\" >3.409200</td>\n",
       "      <td id=\"T_43811_row2_col3\" class=\"data row2 col3\" >0.083300</td>\n",
       "      <td id=\"T_43811_row2_col4\" class=\"data row2 col4\" >0.186700</td>\n",
       "      <td id=\"T_43811_row2_col5\" class=\"data row2 col5\" >0.119800</td>\n",
       "      <td id=\"T_43811_row2_col6\" class=\"data row2 col6\" >0.333300</td>\n",
       "      <td id=\"T_43811_row2_col7\" class=\"data row2 col7\" >0.041700</td>\n",
       "      <td id=\"T_43811_row2_col8\" class=\"data row2 col8\" >0.096300</td>\n",
       "      <td id=\"T_43811_row2_col9\" class=\"data row2 col9\" >0.200000</td>\n",
       "      <td id=\"T_43811_row2_col10\" class=\"data row2 col10\" >0.125000</td>\n",
       "      <td id=\"T_43811_row2_col11\" class=\"data row2 col11\" >0.085700</td>\n",
       "      <td id=\"T_43811_row2_col12\" class=\"data row2 col12\" >0.166700</td>\n",
       "      <td id=\"T_43811_row2_col13\" class=\"data row2 col13\" >0.216700</td>\n",
       "      <td id=\"T_43811_row2_col14\" class=\"data row2 col14\" >0.128000</td>\n",
       "      <td id=\"T_43811_row2_col15\" class=\"data row2 col15\" >0.096100</td>\n",
       "      <td id=\"T_43811_row2_col16\" class=\"data row2 col16\" >0.079600</td>\n",
       "    </tr>\n",
       "    <tr>\n",
       "      <td id=\"T_43811_row3_col0\" class=\"data row3 col0\" >knn_cosine_user_based</td>\n",
       "      <td id=\"T_43811_row3_col1\" class=\"data row3 col1\" >2.892800</td>\n",
       "      <td id=\"T_43811_row3_col2\" class=\"data row3 col2\" >1.700800</td>\n",
       "      <td id=\"T_43811_row3_col3\" class=\"data row3 col3\" >0.066700</td>\n",
       "      <td id=\"T_43811_row3_col4\" class=\"data row3 col4\" >0.190500</td>\n",
       "      <td id=\"T_43811_row3_col5\" class=\"data row3 col5\" >0.175000</td>\n",
       "      <td id=\"T_43811_row3_col6\" class=\"data row3 col6\" >0.300000</td>\n",
       "      <td id=\"T_43811_row3_col7\" class=\"data row3 col7\" >0.023800</td>\n",
       "      <td id=\"T_43811_row3_col8\" class=\"data row3 col8\" >0.175600</td>\n",
       "      <td id=\"T_43811_row3_col9\" class=\"data row3 col9\" >0.142900</td>\n",
       "      <td id=\"T_43811_row3_col10\" class=\"data row3 col10\" >0.266700</td>\n",
       "      <td id=\"T_43811_row3_col11\" class=\"data row3 col11\" >0.281200</td>\n",
       "      <td id=\"T_43811_row3_col12\" class=\"data row3 col12\" >0.166700</td>\n",
       "      <td id=\"T_43811_row3_col13\" class=\"data row3 col13\" >0.071400</td>\n",
       "      <td id=\"T_43811_row3_col14\" class=\"data row3 col14\" >0.275000</td>\n",
       "      <td id=\"T_43811_row3_col15\" class=\"data row3 col15\" >0.288700</td>\n",
       "      <td id=\"T_43811_row3_col16\" class=\"data row3 col16\" >0.326400</td>\n",
       "    </tr>\n",
       "    <tr>\n",
       "      <td id=\"T_43811_row4_col0\" class=\"data row4 col0\" >knn_adj_cosine_item_based</td>\n",
       "      <td id=\"T_43811_row4_col1\" class=\"data row4 col1\" >13.228100</td>\n",
       "      <td id=\"T_43811_row4_col2\" class=\"data row4 col2\" >3.637000</td>\n",
       "      <td id=\"T_43811_row4_col3\" class=\"data row4 col3\" >0.000000</td>\n",
       "      <td id=\"T_43811_row4_col4\" class=\"data row4 col4\" >0.291700</td>\n",
       "      <td id=\"T_43811_row4_col5\" class=\"data row4 col5\" >0.251300</td>\n",
       "      <td id=\"T_43811_row4_col6\" class=\"data row4 col6\" >0.166700</td>\n",
       "      <td id=\"T_43811_row4_col7\" class=\"data row4 col7\" >0.107100</td>\n",
       "      <td id=\"T_43811_row4_col8\" class=\"data row4 col8\" >0.256000</td>\n",
       "      <td id=\"T_43811_row4_col9\" class=\"data row4 col9\" >0.300000</td>\n",
       "      <td id=\"T_43811_row4_col10\" class=\"data row4 col10\" >0.250000</td>\n",
       "      <td id=\"T_43811_row4_col11\" class=\"data row4 col11\" >0.259300</td>\n",
       "      <td id=\"T_43811_row4_col12\" class=\"data row4 col12\" >0.250000</td>\n",
       "      <td id=\"T_43811_row4_col13\" class=\"data row4 col13\" >0.190500</td>\n",
       "      <td id=\"T_43811_row4_col14\" class=\"data row4 col14\" >0.256000</td>\n",
       "      <td id=\"T_43811_row4_col15\" class=\"data row4 col15\" >0.251300</td>\n",
       "      <td id=\"T_43811_row4_col16\" class=\"data row4 col16\" >0.261900</td>\n",
       "    </tr>\n",
       "    <tr>\n",
       "      <td id=\"T_43811_row5_col0\" class=\"data row5 col0\" >knn_euclidean_user_based</td>\n",
       "      <td id=\"T_43811_row5_col1\" class=\"data row5 col1\" >48.333300</td>\n",
       "      <td id=\"T_43811_row5_col2\" class=\"data row5 col2\" >6.952200</td>\n",
       "      <td id=\"T_43811_row5_col3\" class=\"data row5 col3\" >0.000000</td>\n",
       "      <td id=\"T_43811_row5_col4\" class=\"data row5 col4\" >0.000000</td>\n",
       "      <td id=\"T_43811_row5_col5\" class=\"data row5 col5\" >0.000000</td>\n",
       "      <td id=\"T_43811_row5_col6\" class=\"data row5 col6\" >0.000000</td>\n",
       "      <td id=\"T_43811_row5_col7\" class=\"data row5 col7\" >0.000000</td>\n",
       "      <td id=\"T_43811_row5_col8\" class=\"data row5 col8\" >0.000000</td>\n",
       "      <td id=\"T_43811_row5_col9\" class=\"data row5 col9\" >0.000000</td>\n",
       "      <td id=\"T_43811_row5_col10\" class=\"data row5 col10\" >0.000000</td>\n",
       "      <td id=\"T_43811_row5_col11\" class=\"data row5 col11\" >0.000000</td>\n",
       "      <td id=\"T_43811_row5_col12\" class=\"data row5 col12\" >0.000000</td>\n",
       "      <td id=\"T_43811_row5_col13\" class=\"data row5 col13\" >0.000000</td>\n",
       "      <td id=\"T_43811_row5_col14\" class=\"data row5 col14\" >0.000000</td>\n",
       "      <td id=\"T_43811_row5_col15\" class=\"data row5 col15\" >0.000000</td>\n",
       "      <td id=\"T_43811_row5_col16\" class=\"data row5 col16\" >0.000000</td>\n",
       "    </tr>\n",
       "    <tr>\n",
       "      <td id=\"T_43811_row6_col0\" class=\"data row6 col0\" >knn_euclidean_item_based</td>\n",
       "      <td id=\"T_43811_row6_col1\" class=\"data row6 col1\" >48.333300</td>\n",
       "      <td id=\"T_43811_row6_col2\" class=\"data row6 col2\" >6.952200</td>\n",
       "      <td id=\"T_43811_row6_col3\" class=\"data row6 col3\" >0.000000</td>\n",
       "      <td id=\"T_43811_row6_col4\" class=\"data row6 col4\" >0.000000</td>\n",
       "      <td id=\"T_43811_row6_col5\" class=\"data row6 col5\" >0.000000</td>\n",
       "      <td id=\"T_43811_row6_col6\" class=\"data row6 col6\" >0.000000</td>\n",
       "      <td id=\"T_43811_row6_col7\" class=\"data row6 col7\" >0.000000</td>\n",
       "      <td id=\"T_43811_row6_col8\" class=\"data row6 col8\" >0.000000</td>\n",
       "      <td id=\"T_43811_row6_col9\" class=\"data row6 col9\" >0.000000</td>\n",
       "      <td id=\"T_43811_row6_col10\" class=\"data row6 col10\" >0.000000</td>\n",
       "      <td id=\"T_43811_row6_col11\" class=\"data row6 col11\" >0.000000</td>\n",
       "      <td id=\"T_43811_row6_col12\" class=\"data row6 col12\" >0.000000</td>\n",
       "      <td id=\"T_43811_row6_col13\" class=\"data row6 col13\" >0.000000</td>\n",
       "      <td id=\"T_43811_row6_col14\" class=\"data row6 col14\" >0.000000</td>\n",
       "      <td id=\"T_43811_row6_col15\" class=\"data row6 col15\" >0.000000</td>\n",
       "      <td id=\"T_43811_row6_col16\" class=\"data row6 col16\" >0.000000</td>\n",
       "    </tr>\n",
       "    <tr>\n",
       "      <td id=\"T_43811_row7_col0\" class=\"data row7 col0\" >knn_minkowski_user_based</td>\n",
       "      <td id=\"T_43811_row7_col1\" class=\"data row7 col1\" >48.333300</td>\n",
       "      <td id=\"T_43811_row7_col2\" class=\"data row7 col2\" >6.952200</td>\n",
       "      <td id=\"T_43811_row7_col3\" class=\"data row7 col3\" >0.000000</td>\n",
       "      <td id=\"T_43811_row7_col4\" class=\"data row7 col4\" >0.000000</td>\n",
       "      <td id=\"T_43811_row7_col5\" class=\"data row7 col5\" >0.000000</td>\n",
       "      <td id=\"T_43811_row7_col6\" class=\"data row7 col6\" >0.000000</td>\n",
       "      <td id=\"T_43811_row7_col7\" class=\"data row7 col7\" >0.000000</td>\n",
       "      <td id=\"T_43811_row7_col8\" class=\"data row7 col8\" >0.000000</td>\n",
       "      <td id=\"T_43811_row7_col9\" class=\"data row7 col9\" >0.000000</td>\n",
       "      <td id=\"T_43811_row7_col10\" class=\"data row7 col10\" >0.000000</td>\n",
       "      <td id=\"T_43811_row7_col11\" class=\"data row7 col11\" >0.000000</td>\n",
       "      <td id=\"T_43811_row7_col12\" class=\"data row7 col12\" >0.000000</td>\n",
       "      <td id=\"T_43811_row7_col13\" class=\"data row7 col13\" >0.000000</td>\n",
       "      <td id=\"T_43811_row7_col14\" class=\"data row7 col14\" >0.000000</td>\n",
       "      <td id=\"T_43811_row7_col15\" class=\"data row7 col15\" >0.000000</td>\n",
       "      <td id=\"T_43811_row7_col16\" class=\"data row7 col16\" >0.000000</td>\n",
       "    </tr>\n",
       "    <tr>\n",
       "      <td id=\"T_43811_row8_col0\" class=\"data row8 col0\" >knn_minkowski_item_based</td>\n",
       "      <td id=\"T_43811_row8_col1\" class=\"data row8 col1\" >48.333300</td>\n",
       "      <td id=\"T_43811_row8_col2\" class=\"data row8 col2\" >6.952200</td>\n",
       "      <td id=\"T_43811_row8_col3\" class=\"data row8 col3\" >0.000000</td>\n",
       "      <td id=\"T_43811_row8_col4\" class=\"data row8 col4\" >0.000000</td>\n",
       "      <td id=\"T_43811_row8_col5\" class=\"data row8 col5\" >0.000000</td>\n",
       "      <td id=\"T_43811_row8_col6\" class=\"data row8 col6\" >0.000000</td>\n",
       "      <td id=\"T_43811_row8_col7\" class=\"data row8 col7\" >0.000000</td>\n",
       "      <td id=\"T_43811_row8_col8\" class=\"data row8 col8\" >0.000000</td>\n",
       "      <td id=\"T_43811_row8_col9\" class=\"data row8 col9\" >0.000000</td>\n",
       "      <td id=\"T_43811_row8_col10\" class=\"data row8 col10\" >0.000000</td>\n",
       "      <td id=\"T_43811_row8_col11\" class=\"data row8 col11\" >0.000000</td>\n",
       "      <td id=\"T_43811_row8_col12\" class=\"data row8 col12\" >0.000000</td>\n",
       "      <td id=\"T_43811_row8_col13\" class=\"data row8 col13\" >0.000000</td>\n",
       "      <td id=\"T_43811_row8_col14\" class=\"data row8 col14\" >0.000000</td>\n",
       "      <td id=\"T_43811_row8_col15\" class=\"data row8 col15\" >0.000000</td>\n",
       "      <td id=\"T_43811_row8_col16\" class=\"data row8 col16\" >0.000000</td>\n",
       "    </tr>\n",
       "    <tr>\n",
       "      <td id=\"T_43811_row9_col0\" class=\"data row9 col0\" >knn_mahalanobis_user_based</td>\n",
       "      <td id=\"T_43811_row9_col1\" class=\"data row9 col1\" >48.333300</td>\n",
       "      <td id=\"T_43811_row9_col2\" class=\"data row9 col2\" >6.952200</td>\n",
       "      <td id=\"T_43811_row9_col3\" class=\"data row9 col3\" >0.000000</td>\n",
       "      <td id=\"T_43811_row9_col4\" class=\"data row9 col4\" >0.000000</td>\n",
       "      <td id=\"T_43811_row9_col5\" class=\"data row9 col5\" >0.000000</td>\n",
       "      <td id=\"T_43811_row9_col6\" class=\"data row9 col6\" >0.000000</td>\n",
       "      <td id=\"T_43811_row9_col7\" class=\"data row9 col7\" >0.000000</td>\n",
       "      <td id=\"T_43811_row9_col8\" class=\"data row9 col8\" >0.000000</td>\n",
       "      <td id=\"T_43811_row9_col9\" class=\"data row9 col9\" >0.000000</td>\n",
       "      <td id=\"T_43811_row9_col10\" class=\"data row9 col10\" >0.000000</td>\n",
       "      <td id=\"T_43811_row9_col11\" class=\"data row9 col11\" >0.000000</td>\n",
       "      <td id=\"T_43811_row9_col12\" class=\"data row9 col12\" >0.000000</td>\n",
       "      <td id=\"T_43811_row9_col13\" class=\"data row9 col13\" >0.000000</td>\n",
       "      <td id=\"T_43811_row9_col14\" class=\"data row9 col14\" >0.000000</td>\n",
       "      <td id=\"T_43811_row9_col15\" class=\"data row9 col15\" >0.000000</td>\n",
       "      <td id=\"T_43811_row9_col16\" class=\"data row9 col16\" >0.000000</td>\n",
       "    </tr>\n",
       "    <tr>\n",
       "      <td id=\"T_43811_row10_col0\" class=\"data row10 col0\" >knn_mahalanobis_item_based</td>\n",
       "      <td id=\"T_43811_row10_col1\" class=\"data row10 col1\" >48.333300</td>\n",
       "      <td id=\"T_43811_row10_col2\" class=\"data row10 col2\" >6.952200</td>\n",
       "      <td id=\"T_43811_row10_col3\" class=\"data row10 col3\" >0.000000</td>\n",
       "      <td id=\"T_43811_row10_col4\" class=\"data row10 col4\" >0.000000</td>\n",
       "      <td id=\"T_43811_row10_col5\" class=\"data row10 col5\" >0.000000</td>\n",
       "      <td id=\"T_43811_row10_col6\" class=\"data row10 col6\" >0.000000</td>\n",
       "      <td id=\"T_43811_row10_col7\" class=\"data row10 col7\" >0.000000</td>\n",
       "      <td id=\"T_43811_row10_col8\" class=\"data row10 col8\" >0.000000</td>\n",
       "      <td id=\"T_43811_row10_col9\" class=\"data row10 col9\" >0.000000</td>\n",
       "      <td id=\"T_43811_row10_col10\" class=\"data row10 col10\" >0.000000</td>\n",
       "      <td id=\"T_43811_row10_col11\" class=\"data row10 col11\" >0.000000</td>\n",
       "      <td id=\"T_43811_row10_col12\" class=\"data row10 col12\" >0.000000</td>\n",
       "      <td id=\"T_43811_row10_col13\" class=\"data row10 col13\" >0.000000</td>\n",
       "      <td id=\"T_43811_row10_col14\" class=\"data row10 col14\" >0.000000</td>\n",
       "      <td id=\"T_43811_row10_col15\" class=\"data row10 col15\" >0.000000</td>\n",
       "      <td id=\"T_43811_row10_col16\" class=\"data row10 col16\" >0.000000</td>\n",
       "    </tr>\n",
       "    <tr>\n",
       "      <td id=\"T_43811_row11_col0\" class=\"data row11 col0\" >knn_chebyshev_user_based</td>\n",
       "      <td id=\"T_43811_row11_col1\" class=\"data row11 col1\" >48.333300</td>\n",
       "      <td id=\"T_43811_row11_col2\" class=\"data row11 col2\" >6.952200</td>\n",
       "      <td id=\"T_43811_row11_col3\" class=\"data row11 col3\" >0.000000</td>\n",
       "      <td id=\"T_43811_row11_col4\" class=\"data row11 col4\" >0.000000</td>\n",
       "      <td id=\"T_43811_row11_col5\" class=\"data row11 col5\" >0.000000</td>\n",
       "      <td id=\"T_43811_row11_col6\" class=\"data row11 col6\" >0.000000</td>\n",
       "      <td id=\"T_43811_row11_col7\" class=\"data row11 col7\" >0.000000</td>\n",
       "      <td id=\"T_43811_row11_col8\" class=\"data row11 col8\" >0.000000</td>\n",
       "      <td id=\"T_43811_row11_col9\" class=\"data row11 col9\" >0.000000</td>\n",
       "      <td id=\"T_43811_row11_col10\" class=\"data row11 col10\" >0.000000</td>\n",
       "      <td id=\"T_43811_row11_col11\" class=\"data row11 col11\" >0.000000</td>\n",
       "      <td id=\"T_43811_row11_col12\" class=\"data row11 col12\" >0.000000</td>\n",
       "      <td id=\"T_43811_row11_col13\" class=\"data row11 col13\" >0.000000</td>\n",
       "      <td id=\"T_43811_row11_col14\" class=\"data row11 col14\" >0.000000</td>\n",
       "      <td id=\"T_43811_row11_col15\" class=\"data row11 col15\" >0.000000</td>\n",
       "      <td id=\"T_43811_row11_col16\" class=\"data row11 col16\" >0.000000</td>\n",
       "    </tr>\n",
       "    <tr>\n",
       "      <td id=\"T_43811_row12_col0\" class=\"data row12 col0\" >knn_chebyshev_item_based</td>\n",
       "      <td id=\"T_43811_row12_col1\" class=\"data row12 col1\" >48.333300</td>\n",
       "      <td id=\"T_43811_row12_col2\" class=\"data row12 col2\" >6.952200</td>\n",
       "      <td id=\"T_43811_row12_col3\" class=\"data row12 col3\" >0.000000</td>\n",
       "      <td id=\"T_43811_row12_col4\" class=\"data row12 col4\" >0.000000</td>\n",
       "      <td id=\"T_43811_row12_col5\" class=\"data row12 col5\" >0.000000</td>\n",
       "      <td id=\"T_43811_row12_col6\" class=\"data row12 col6\" >0.000000</td>\n",
       "      <td id=\"T_43811_row12_col7\" class=\"data row12 col7\" >0.000000</td>\n",
       "      <td id=\"T_43811_row12_col8\" class=\"data row12 col8\" >0.000000</td>\n",
       "      <td id=\"T_43811_row12_col9\" class=\"data row12 col9\" >0.000000</td>\n",
       "      <td id=\"T_43811_row12_col10\" class=\"data row12 col10\" >0.000000</td>\n",
       "      <td id=\"T_43811_row12_col11\" class=\"data row12 col11\" >0.000000</td>\n",
       "      <td id=\"T_43811_row12_col12\" class=\"data row12 col12\" >0.000000</td>\n",
       "      <td id=\"T_43811_row12_col13\" class=\"data row12 col13\" >0.000000</td>\n",
       "      <td id=\"T_43811_row12_col14\" class=\"data row12 col14\" >0.000000</td>\n",
       "      <td id=\"T_43811_row12_col15\" class=\"data row12 col15\" >0.000000</td>\n",
       "      <td id=\"T_43811_row12_col16\" class=\"data row12 col16\" >0.000000</td>\n",
       "    </tr>\n",
       "    <tr>\n",
       "      <td id=\"T_43811_row13_col0\" class=\"data row13 col0\" >knn_manhattan_user_based</td>\n",
       "      <td id=\"T_43811_row13_col1\" class=\"data row13 col1\" >48.333300</td>\n",
       "      <td id=\"T_43811_row13_col2\" class=\"data row13 col2\" >6.952200</td>\n",
       "      <td id=\"T_43811_row13_col3\" class=\"data row13 col3\" >0.000000</td>\n",
       "      <td id=\"T_43811_row13_col4\" class=\"data row13 col4\" >0.000000</td>\n",
       "      <td id=\"T_43811_row13_col5\" class=\"data row13 col5\" >0.000000</td>\n",
       "      <td id=\"T_43811_row13_col6\" class=\"data row13 col6\" >0.000000</td>\n",
       "      <td id=\"T_43811_row13_col7\" class=\"data row13 col7\" >0.000000</td>\n",
       "      <td id=\"T_43811_row13_col8\" class=\"data row13 col8\" >0.000000</td>\n",
       "      <td id=\"T_43811_row13_col9\" class=\"data row13 col9\" >0.000000</td>\n",
       "      <td id=\"T_43811_row13_col10\" class=\"data row13 col10\" >0.000000</td>\n",
       "      <td id=\"T_43811_row13_col11\" class=\"data row13 col11\" >0.000000</td>\n",
       "      <td id=\"T_43811_row13_col12\" class=\"data row13 col12\" >0.000000</td>\n",
       "      <td id=\"T_43811_row13_col13\" class=\"data row13 col13\" >0.000000</td>\n",
       "      <td id=\"T_43811_row13_col14\" class=\"data row13 col14\" >0.000000</td>\n",
       "      <td id=\"T_43811_row13_col15\" class=\"data row13 col15\" >0.000000</td>\n",
       "      <td id=\"T_43811_row13_col16\" class=\"data row13 col16\" >0.000000</td>\n",
       "    </tr>\n",
       "    <tr>\n",
       "      <td id=\"T_43811_row14_col0\" class=\"data row14 col0\" >knn_manhattan_item_based</td>\n",
       "      <td id=\"T_43811_row14_col1\" class=\"data row14 col1\" >48.333300</td>\n",
       "      <td id=\"T_43811_row14_col2\" class=\"data row14 col2\" >6.952200</td>\n",
       "      <td id=\"T_43811_row14_col3\" class=\"data row14 col3\" >0.000000</td>\n",
       "      <td id=\"T_43811_row14_col4\" class=\"data row14 col4\" >0.000000</td>\n",
       "      <td id=\"T_43811_row14_col5\" class=\"data row14 col5\" >0.000000</td>\n",
       "      <td id=\"T_43811_row14_col6\" class=\"data row14 col6\" >0.000000</td>\n",
       "      <td id=\"T_43811_row14_col7\" class=\"data row14 col7\" >0.000000</td>\n",
       "      <td id=\"T_43811_row14_col8\" class=\"data row14 col8\" >0.000000</td>\n",
       "      <td id=\"T_43811_row14_col9\" class=\"data row14 col9\" >0.000000</td>\n",
       "      <td id=\"T_43811_row14_col10\" class=\"data row14 col10\" >0.000000</td>\n",
       "      <td id=\"T_43811_row14_col11\" class=\"data row14 col11\" >0.000000</td>\n",
       "      <td id=\"T_43811_row14_col12\" class=\"data row14 col12\" >0.000000</td>\n",
       "      <td id=\"T_43811_row14_col13\" class=\"data row14 col13\" >0.000000</td>\n",
       "      <td id=\"T_43811_row14_col14\" class=\"data row14 col14\" >0.000000</td>\n",
       "      <td id=\"T_43811_row14_col15\" class=\"data row14 col15\" >0.000000</td>\n",
       "      <td id=\"T_43811_row14_col16\" class=\"data row14 col16\" >0.000000</td>\n",
       "    </tr>\n",
       "  </tbody>\n",
       "</table>\n"
      ],
      "text/plain": [
       "<pandas.io.formats.style.Styler at 0x7efff1e81c90>"
      ]
     },
     "execution_count": 27,
     "metadata": {},
     "output_type": "execute_result"
    }
   ],
   "source": [
    "evaluator.evaluate(predictors, rm) \\\n",
    "    .sort_values(by='Precision@5', ascending=False) \\\n",
    "    .style.hide(axis='index')"
   ]
  },
  {
   "cell_type": "markdown",
   "metadata": {},
   "source": [
    "## Using Movie Lens dataset"
   ]
  },
  {
   "cell_type": "markdown",
   "metadata": {},
   "source": [
    "### User-Item Ratings Matrix"
   ]
  },
  {
   "cell_type": "code",
   "execution_count": 28,
   "metadata": {},
   "outputs": [
    {
     "name": "stdout",
     "output_type": "stream",
     "text": [
      "CPU times: user 24.4 ms, sys: 9.27 ms, total: 33.7 ms\n",
      "Wall time: 33.4 ms\n"
     ]
    },
    {
     "data": {
      "text/html": [
       "<div>\n",
       "<style scoped>\n",
       "    .dataframe tbody tr th:only-of-type {\n",
       "        vertical-align: middle;\n",
       "    }\n",
       "\n",
       "    .dataframe tbody tr th {\n",
       "        vertical-align: top;\n",
       "    }\n",
       "\n",
       "    .dataframe thead th {\n",
       "        text-align: right;\n",
       "    }\n",
       "</style>\n",
       "<table border=\"1\" class=\"dataframe\">\n",
       "  <thead>\n",
       "    <tr style=\"text-align: right;\">\n",
       "      <th></th>\n",
       "      <th>0</th>\n",
       "      <th>1</th>\n",
       "      <th>2</th>\n",
       "      <th>3</th>\n",
       "      <th>4</th>\n",
       "      <th>5</th>\n",
       "      <th>6</th>\n",
       "      <th>7</th>\n",
       "      <th>8</th>\n",
       "      <th>9</th>\n",
       "    </tr>\n",
       "  </thead>\n",
       "  <tbody>\n",
       "    <tr>\n",
       "      <th>rating</th>\n",
       "      <td>0.5</td>\n",
       "      <td>1.0</td>\n",
       "      <td>1.5</td>\n",
       "      <td>2.0</td>\n",
       "      <td>2.5</td>\n",
       "      <td>3.0</td>\n",
       "      <td>3.5</td>\n",
       "      <td>4.0</td>\n",
       "      <td>4.5</td>\n",
       "      <td>5.0</td>\n",
       "    </tr>\n",
       "    <tr>\n",
       "      <th>count</th>\n",
       "      <td>229.0</td>\n",
       "      <td>456.0</td>\n",
       "      <td>244.0</td>\n",
       "      <td>1226.0</td>\n",
       "      <td>1049.0</td>\n",
       "      <td>4346.0</td>\n",
       "      <td>3448.0</td>\n",
       "      <td>7815.0</td>\n",
       "      <td>2930.0</td>\n",
       "      <td>4858.0</td>\n",
       "    </tr>\n",
       "  </tbody>\n",
       "</table>\n",
       "</div>"
      ],
      "text/plain": [
       "            0      1      2       3       4       5       6       7       8  \\\n",
       "rating    0.5    1.0    1.5     2.0     2.5     3.0     3.5     4.0     4.5   \n",
       "count   229.0  456.0  244.0  1226.0  1049.0  4346.0  3448.0  7815.0  2930.0   \n",
       "\n",
       "             9  \n",
       "rating     5.0  \n",
       "count   4858.0  "
      ]
     },
     "execution_count": 28,
     "metadata": {},
     "output_type": "execute_result"
    }
   ],
   "source": [
    "%%time\n",
    "dataset = MovielensDataset(n_users=300, n_movies=300)\n",
    "rating_table = dataset.ratings()\n",
    "\n",
    "group_by(rating_table, 'rating').T"
   ]
  },
  {
   "cell_type": "code",
   "execution_count": 29,
   "metadata": {},
   "outputs": [
    {
     "data": {
      "image/png": "[encoded data removed]",
      "text/plain": [
       "<Figure size 576x576 with 2 Axes>"
      ]
     },
     "metadata": {
      "needs_background": "light"
     },
     "output_type": "display_data"
    },
    {
     "name": "stdout",
     "output_type": "stream",
     "text": [
      "Size: (300, 300)\n",
      "CPU times: user 600 ms, sys: 3.16 ms, total: 603 ms\n",
      "Wall time: 604 ms\n"
     ]
    }
   ],
   "source": [
    "%%time\n",
    "rm = RatingsMatrix.from_df(rating_table, rows='user_seq', columns='movie_seq', value='rating')\n",
    "\n",
    "rm.plot((8, 8))\n",
    "print(f'Size: {rm.shape}')"
   ]
  },
  {
   "cell_type": "markdown",
   "metadata": {},
   "source": [
    "## Evaluate all recomendations system combinations"
   ]
  },
  {
   "cell_type": "code",
   "execution_count": 30,
   "metadata": {},
   "outputs": [],
   "source": [
    "user_id = most_common(rating_table, 'user_seq',  limit=20)[-1]\n",
    "item_id = most_common(rating_table, 'movie_seq', limit=20)[-1]"
   ]
  },
  {
   "cell_type": "code",
   "execution_count": 31,
   "metadata": {},
   "outputs": [
    {
     "name": "stdout",
     "output_type": "stream",
     "text": [
      "CPU times: user 37.2 ms, sys: 57.3 ms, total: 94.5 ms\n",
      "Wall time: 6min 9s\n"
     ]
    }
   ],
   "source": [
    "%%time\n",
    "predictors = predictor_factory.create_all(rm, n_neighbors=20)"
   ]
  },
  {
   "cell_type": "code",
   "execution_count": 32,
   "metadata": {},
   "outputs": [
    {
     "name": "stdout",
     "output_type": "stream",
     "text": [
      "True rating: 3.5\n",
      "CPU times: user 17.2 ms, sys: 49.1 ms, total: 66.3 ms\n",
      "Wall time: 98.4 ms\n"
     ]
    },
    {
     "data": {
      "text/html": [
       "<div>\n",
       "<style scoped>\n",
       "    .dataframe tbody tr th:only-of-type {\n",
       "        vertical-align: middle;\n",
       "    }\n",
       "\n",
       "    .dataframe tbody tr th {\n",
       "        vertical-align: top;\n",
       "    }\n",
       "\n",
       "    .dataframe thead th {\n",
       "        text-align: right;\n",
       "    }\n",
       "</style>\n",
       "<table border=\"1\" class=\"dataframe\">\n",
       "  <thead>\n",
       "    <tr style=\"text-align: right;\">\n",
       "      <th></th>\n",
       "      <th>Prediction</th>\n",
       "    </tr>\n",
       "    <tr>\n",
       "      <th>Predictor</th>\n",
       "      <th></th>\n",
       "    </tr>\n",
       "  </thead>\n",
       "  <tbody>\n",
       "    <tr>\n",
       "      <th>knn_cosine_user_based</th>\n",
       "      <td>3.87</td>\n",
       "    </tr>\n",
       "    <tr>\n",
       "      <th>knn_cosine_item_based</th>\n",
       "      <td>4.28</td>\n",
       "    </tr>\n",
       "    <tr>\n",
       "      <th>knn_pearson_user_based</th>\n",
       "      <td>4.40</td>\n",
       "    </tr>\n",
       "    <tr>\n",
       "      <th>knn_pearson_item_based</th>\n",
       "      <td>3.86</td>\n",
       "    </tr>\n",
       "    <tr>\n",
       "      <th>knn_adj_cosine_item_based</th>\n",
       "      <td>3.96</td>\n",
       "    </tr>\n",
       "    <tr>\n",
       "      <th>knn_euclidean_user_based</th>\n",
       "      <td>0.00</td>\n",
       "    </tr>\n",
       "    <tr>\n",
       "      <th>knn_euclidean_item_based</th>\n",
       "      <td>0.00</td>\n",
       "    </tr>\n",
       "    <tr>\n",
       "      <th>knn_minkowski_user_based</th>\n",
       "      <td>0.00</td>\n",
       "    </tr>\n",
       "    <tr>\n",
       "      <th>knn_minkowski_item_based</th>\n",
       "      <td>0.00</td>\n",
       "    </tr>\n",
       "    <tr>\n",
       "      <th>knn_mahalanobis_user_based</th>\n",
       "      <td>0.00</td>\n",
       "    </tr>\n",
       "    <tr>\n",
       "      <th>knn_mahalanobis_item_based</th>\n",
       "      <td>0.00</td>\n",
       "    </tr>\n",
       "    <tr>\n",
       "      <th>knn_chebyshev_user_based</th>\n",
       "      <td>0.00</td>\n",
       "    </tr>\n",
       "    <tr>\n",
       "      <th>knn_chebyshev_item_based</th>\n",
       "      <td>0.00</td>\n",
       "    </tr>\n",
       "    <tr>\n",
       "      <th>knn_manhattan_user_based</th>\n",
       "      <td>0.00</td>\n",
       "    </tr>\n",
       "    <tr>\n",
       "      <th>knn_manhattan_item_based</th>\n",
       "      <td>0.00</td>\n",
       "    </tr>\n",
       "  </tbody>\n",
       "</table>\n",
       "</div>"
      ],
      "text/plain": [
       "                            Prediction\n",
       "Predictor                             \n",
       "knn_cosine_user_based             3.87\n",
       "knn_cosine_item_based             4.28\n",
       "knn_pearson_user_based            4.40\n",
       "knn_pearson_item_based            3.86\n",
       "knn_adj_cosine_item_based         3.96\n",
       "knn_euclidean_user_based          0.00\n",
       "knn_euclidean_item_based          0.00\n",
       "knn_minkowski_user_based          0.00\n",
       "knn_minkowski_item_based          0.00\n",
       "knn_mahalanobis_user_based        0.00\n",
       "knn_mahalanobis_item_based        0.00\n",
       "knn_chebyshev_user_based          0.00\n",
       "knn_chebyshev_item_based          0.00\n",
       "knn_manhattan_user_based          0.00\n",
       "knn_manhattan_item_based          0.00"
      ]
     },
     "execution_count": 32,
     "metadata": {},
     "output_type": "execute_result"
    }
   ],
   "source": [
    "%%time\n",
    "print('True rating:', rm.cell(user_id, item_id))\n",
    "predict(predictors, user_id, item_id)"
   ]
  },
  {
   "cell_type": "code",
   "execution_count": 33,
   "metadata": {},
   "outputs": [
    {
     "name": "stdout",
     "output_type": "stream",
     "text": [
      "CPU times: user 3.64 s, sys: 91.6 ms, total: 3.73 s\n",
      "Wall time: 3min 58s\n"
     ]
    },
    {
     "data": {
      "text/html": [
       "<style type=\"text/css\">\n",
       "</style>\n",
       "<table id=\"T_fcec8\">\n",
       "  <thead>\n",
       "    <tr>\n",
       "      <th id=\"T_fcec8_level0_col0\" class=\"col_heading level0 col0\" >Predictor</th>\n",
       "      <th id=\"T_fcec8_level0_col1\" class=\"col_heading level0 col1\" >MSE</th>\n",
       "      <th id=\"T_fcec8_level0_col2\" class=\"col_heading level0 col2\" >RMSE</th>\n",
       "      <th id=\"T_fcec8_level0_col3\" class=\"col_heading level0 col3\" >Precision@5</th>\n",
       "      <th id=\"T_fcec8_level0_col4\" class=\"col_heading level0 col4\" >Precision@10</th>\n",
       "      <th id=\"T_fcec8_level0_col5\" class=\"col_heading level0 col5\" >Precision@30</th>\n",
       "      <th id=\"T_fcec8_level0_col6\" class=\"col_heading level0 col6\" >F0.5Score@5</th>\n",
       "      <th id=\"T_fcec8_level0_col7\" class=\"col_heading level0 col7\" >F0.5Score@10</th>\n",
       "      <th id=\"T_fcec8_level0_col8\" class=\"col_heading level0 col8\" >F0.5Score@30</th>\n",
       "      <th id=\"T_fcec8_level0_col9\" class=\"col_heading level0 col9\" >F1Score@5</th>\n",
       "      <th id=\"T_fcec8_level0_col10\" class=\"col_heading level0 col10\" >F1Score@10</th>\n",
       "      <th id=\"T_fcec8_level0_col11\" class=\"col_heading level0 col11\" >F1Score@30</th>\n",
       "      <th id=\"T_fcec8_level0_col12\" class=\"col_heading level0 col12\" >F1.5Score@5</th>\n",
       "      <th id=\"T_fcec8_level0_col13\" class=\"col_heading level0 col13\" >F1.5Score@10</th>\n",
       "      <th id=\"T_fcec8_level0_col14\" class=\"col_heading level0 col14\" >F1.5Score@30</th>\n",
       "      <th id=\"T_fcec8_level0_col15\" class=\"col_heading level0 col15\" >Precision</th>\n",
       "      <th id=\"T_fcec8_level0_col16\" class=\"col_heading level0 col16\" >Recall</th>\n",
       "    </tr>\n",
       "  </thead>\n",
       "  <tbody>\n",
       "    <tr>\n",
       "      <td id=\"T_fcec8_row0_col0\" class=\"data row0 col0\" >knn_cosine_user_based</td>\n",
       "      <td id=\"T_fcec8_row0_col1\" class=\"data row0 col1\" >1.571500</td>\n",
       "      <td id=\"T_fcec8_row0_col2\" class=\"data row0 col2\" >1.253600</td>\n",
       "      <td id=\"T_fcec8_row0_col3\" class=\"data row0 col3\" >0.666700</td>\n",
       "      <td id=\"T_fcec8_row0_col4\" class=\"data row0 col4\" >0.400000</td>\n",
       "      <td id=\"T_fcec8_row0_col5\" class=\"data row0 col5\" >0.390100</td>\n",
       "      <td id=\"T_fcec8_row0_col6\" class=\"data row0 col6\" >0.125000</td>\n",
       "      <td id=\"T_fcec8_row0_col7\" class=\"data row0 col7\" >0.225000</td>\n",
       "      <td id=\"T_fcec8_row0_col8\" class=\"data row0 col8\" >0.050000</td>\n",
       "      <td id=\"T_fcec8_row0_col9\" class=\"data row0 col9\" >0.000000</td>\n",
       "      <td id=\"T_fcec8_row0_col10\" class=\"data row0 col10\" >0.285700</td>\n",
       "      <td id=\"T_fcec8_row0_col11\" class=\"data row0 col11\" >0.107400</td>\n",
       "      <td id=\"T_fcec8_row0_col12\" class=\"data row0 col12\" >0.333300</td>\n",
       "      <td id=\"T_fcec8_row0_col13\" class=\"data row0 col13\" >0.160700</td>\n",
       "      <td id=\"T_fcec8_row0_col14\" class=\"data row0 col14\" >0.284500</td>\n",
       "      <td id=\"T_fcec8_row0_col15\" class=\"data row0 col15\" >0.183200</td>\n",
       "      <td id=\"T_fcec8_row0_col16\" class=\"data row0 col16\" >0.203100</td>\n",
       "    </tr>\n",
       "    <tr>\n",
       "      <td id=\"T_fcec8_row1_col0\" class=\"data row1 col0\" >knn_adj_cosine_item_based</td>\n",
       "      <td id=\"T_fcec8_row1_col1\" class=\"data row1 col1\" >0.570500</td>\n",
       "      <td id=\"T_fcec8_row1_col2\" class=\"data row1 col2\" >0.755300</td>\n",
       "      <td id=\"T_fcec8_row1_col3\" class=\"data row1 col3\" >0.666700</td>\n",
       "      <td id=\"T_fcec8_row1_col4\" class=\"data row1 col4\" >0.283300</td>\n",
       "      <td id=\"T_fcec8_row1_col5\" class=\"data row1 col5\" >0.456800</td>\n",
       "      <td id=\"T_fcec8_row1_col6\" class=\"data row1 col6\" >0.125000</td>\n",
       "      <td id=\"T_fcec8_row1_col7\" class=\"data row1 col7\" >0.750000</td>\n",
       "      <td id=\"T_fcec8_row1_col8\" class=\"data row1 col8\" >0.406200</td>\n",
       "      <td id=\"T_fcec8_row1_col9\" class=\"data row1 col9\" >1.000000</td>\n",
       "      <td id=\"T_fcec8_row1_col10\" class=\"data row1 col10\" >0.333300</td>\n",
       "      <td id=\"T_fcec8_row1_col11\" class=\"data row1 col11\" >0.408600</td>\n",
       "      <td id=\"T_fcec8_row1_col12\" class=\"data row1 col12\" >0.250000</td>\n",
       "      <td id=\"T_fcec8_row1_col13\" class=\"data row1 col13\" >0.600000</td>\n",
       "      <td id=\"T_fcec8_row1_col14\" class=\"data row1 col14\" >0.285700</td>\n",
       "      <td id=\"T_fcec8_row1_col15\" class=\"data row1 col15\" >0.318300</td>\n",
       "      <td id=\"T_fcec8_row1_col16\" class=\"data row1 col16\" >0.420000</td>\n",
       "    </tr>\n",
       "    <tr>\n",
       "      <td id=\"T_fcec8_row2_col0\" class=\"data row2 col0\" >knn_chebyshev_item_based</td>\n",
       "      <td id=\"T_fcec8_row2_col1\" class=\"data row2 col1\" >15.025600</td>\n",
       "      <td id=\"T_fcec8_row2_col2\" class=\"data row2 col2\" >3.876300</td>\n",
       "      <td id=\"T_fcec8_row2_col3\" class=\"data row2 col3\" >0.333300</td>\n",
       "      <td id=\"T_fcec8_row2_col4\" class=\"data row2 col4\" >0.000000</td>\n",
       "      <td id=\"T_fcec8_row2_col5\" class=\"data row2 col5\" >0.200000</td>\n",
       "      <td id=\"T_fcec8_row2_col6\" class=\"data row2 col6\" >0.000000</td>\n",
       "      <td id=\"T_fcec8_row2_col7\" class=\"data row2 col7\" >0.000000</td>\n",
       "      <td id=\"T_fcec8_row2_col8\" class=\"data row2 col8\" >0.000000</td>\n",
       "      <td id=\"T_fcec8_row2_col9\" class=\"data row2 col9\" >0.000000</td>\n",
       "      <td id=\"T_fcec8_row2_col10\" class=\"data row2 col10\" >0.000000</td>\n",
       "      <td id=\"T_fcec8_row2_col11\" class=\"data row2 col11\" >0.166700</td>\n",
       "      <td id=\"T_fcec8_row2_col12\" class=\"data row2 col12\" >0.000000</td>\n",
       "      <td id=\"T_fcec8_row2_col13\" class=\"data row2 col13\" >0.000000</td>\n",
       "      <td id=\"T_fcec8_row2_col14\" class=\"data row2 col14\" >0.000000</td>\n",
       "      <td id=\"T_fcec8_row2_col15\" class=\"data row2 col15\" >0.166700</td>\n",
       "      <td id=\"T_fcec8_row2_col16\" class=\"data row2 col16\" >0.001400</td>\n",
       "    </tr>\n",
       "    <tr>\n",
       "      <td id=\"T_fcec8_row3_col0\" class=\"data row3 col0\" >knn_cosine_item_based</td>\n",
       "      <td id=\"T_fcec8_row3_col1\" class=\"data row3 col1\" >1.750900</td>\n",
       "      <td id=\"T_fcec8_row3_col2\" class=\"data row3 col2\" >1.323200</td>\n",
       "      <td id=\"T_fcec8_row3_col3\" class=\"data row3 col3\" >0.125000</td>\n",
       "      <td id=\"T_fcec8_row3_col4\" class=\"data row3 col4\" >0.150000</td>\n",
       "      <td id=\"T_fcec8_row3_col5\" class=\"data row3 col5\" >0.155600</td>\n",
       "      <td id=\"T_fcec8_row3_col6\" class=\"data row3 col6\" >0.500000</td>\n",
       "      <td id=\"T_fcec8_row3_col7\" class=\"data row3 col7\" >0.291700</td>\n",
       "      <td id=\"T_fcec8_row3_col8\" class=\"data row3 col8\" >0.194400</td>\n",
       "      <td id=\"T_fcec8_row3_col9\" class=\"data row3 col9\" >0.333300</td>\n",
       "      <td id=\"T_fcec8_row3_col10\" class=\"data row3 col10\" >0.259300</td>\n",
       "      <td id=\"T_fcec8_row3_col11\" class=\"data row3 col11\" >0.283300</td>\n",
       "      <td id=\"T_fcec8_row3_col12\" class=\"data row3 col12\" >0.333300</td>\n",
       "      <td id=\"T_fcec8_row3_col13\" class=\"data row3 col13\" >0.250000</td>\n",
       "      <td id=\"T_fcec8_row3_col14\" class=\"data row3 col14\" >0.129600</td>\n",
       "      <td id=\"T_fcec8_row3_col15\" class=\"data row3 col15\" >0.210400</td>\n",
       "      <td id=\"T_fcec8_row3_col16\" class=\"data row3 col16\" >0.243200</td>\n",
       "    </tr>\n",
       "    <tr>\n",
       "      <td id=\"T_fcec8_row4_col0\" class=\"data row4 col0\" >knn_pearson_item_based</td>\n",
       "      <td id=\"T_fcec8_row4_col1\" class=\"data row4 col1\" >2.233400</td>\n",
       "      <td id=\"T_fcec8_row4_col2\" class=\"data row4 col2\" >1.494400</td>\n",
       "      <td id=\"T_fcec8_row4_col3\" class=\"data row4 col3\" >0.100000</td>\n",
       "      <td id=\"T_fcec8_row4_col4\" class=\"data row4 col4\" >0.366700</td>\n",
       "      <td id=\"T_fcec8_row4_col5\" class=\"data row4 col5\" >0.144100</td>\n",
       "      <td id=\"T_fcec8_row4_col6\" class=\"data row4 col6\" >0.250000</td>\n",
       "      <td id=\"T_fcec8_row4_col7\" class=\"data row4 col7\" >0.358300</td>\n",
       "      <td id=\"T_fcec8_row4_col8\" class=\"data row4 col8\" >0.190500</td>\n",
       "      <td id=\"T_fcec8_row4_col9\" class=\"data row4 col9\" >0.125000</td>\n",
       "      <td id=\"T_fcec8_row4_col10\" class=\"data row4 col10\" >0.512500</td>\n",
       "      <td id=\"T_fcec8_row4_col11\" class=\"data row4 col11\" >0.175000</td>\n",
       "      <td id=\"T_fcec8_row4_col12\" class=\"data row4 col12\" >0.375000</td>\n",
       "      <td id=\"T_fcec8_row4_col13\" class=\"data row4 col13\" >0.342900</td>\n",
       "      <td id=\"T_fcec8_row4_col14\" class=\"data row4 col14\" >0.289500</td>\n",
       "      <td id=\"T_fcec8_row4_col15\" class=\"data row4 col15\" >0.226000</td>\n",
       "      <td id=\"T_fcec8_row4_col16\" class=\"data row4 col16\" >0.242800</td>\n",
       "    </tr>\n",
       "    <tr>\n",
       "      <td id=\"T_fcec8_row5_col0\" class=\"data row5 col0\" >knn_pearson_user_based</td>\n",
       "      <td id=\"T_fcec8_row5_col1\" class=\"data row5 col1\" >1.061800</td>\n",
       "      <td id=\"T_fcec8_row5_col2\" class=\"data row5 col2\" >1.030400</td>\n",
       "      <td id=\"T_fcec8_row5_col3\" class=\"data row5 col3\" >0.000000</td>\n",
       "      <td id=\"T_fcec8_row5_col4\" class=\"data row5 col4\" >0.208300</td>\n",
       "      <td id=\"T_fcec8_row5_col5\" class=\"data row5 col5\" >0.216700</td>\n",
       "      <td id=\"T_fcec8_row5_col6\" class=\"data row5 col6\" >0.444400</td>\n",
       "      <td id=\"T_fcec8_row5_col7\" class=\"data row5 col7\" >0.166700</td>\n",
       "      <td id=\"T_fcec8_row5_col8\" class=\"data row5 col8\" >0.242900</td>\n",
       "      <td id=\"T_fcec8_row5_col9\" class=\"data row5 col9\" >0.166700</td>\n",
       "      <td id=\"T_fcec8_row5_col10\" class=\"data row5 col10\" >0.125000</td>\n",
       "      <td id=\"T_fcec8_row5_col11\" class=\"data row5 col11\" >0.175600</td>\n",
       "      <td id=\"T_fcec8_row5_col12\" class=\"data row5 col12\" >0.500000</td>\n",
       "      <td id=\"T_fcec8_row5_col13\" class=\"data row5 col13\" >0.100000</td>\n",
       "      <td id=\"T_fcec8_row5_col14\" class=\"data row5 col14\" >0.162500</td>\n",
       "      <td id=\"T_fcec8_row5_col15\" class=\"data row5 col15\" >0.167000</td>\n",
       "      <td id=\"T_fcec8_row5_col16\" class=\"data row5 col16\" >0.191600</td>\n",
       "    </tr>\n",
       "    <tr>\n",
       "      <td id=\"T_fcec8_row6_col0\" class=\"data row6 col0\" >knn_euclidean_user_based</td>\n",
       "      <td id=\"T_fcec8_row6_col1\" class=\"data row6 col1\" >15.025600</td>\n",
       "      <td id=\"T_fcec8_row6_col2\" class=\"data row6 col2\" >3.876300</td>\n",
       "      <td id=\"T_fcec8_row6_col3\" class=\"data row6 col3\" >0.000000</td>\n",
       "      <td id=\"T_fcec8_row6_col4\" class=\"data row6 col4\" >0.000000</td>\n",
       "      <td id=\"T_fcec8_row6_col5\" class=\"data row6 col5\" >0.200000</td>\n",
       "      <td id=\"T_fcec8_row6_col6\" class=\"data row6 col6\" >0.000000</td>\n",
       "      <td id=\"T_fcec8_row6_col7\" class=\"data row6 col7\" >0.000000</td>\n",
       "      <td id=\"T_fcec8_row6_col8\" class=\"data row6 col8\" >0.000000</td>\n",
       "      <td id=\"T_fcec8_row6_col9\" class=\"data row6 col9\" >0.500000</td>\n",
       "      <td id=\"T_fcec8_row6_col10\" class=\"data row6 col10\" >0.166700</td>\n",
       "      <td id=\"T_fcec8_row6_col11\" class=\"data row6 col11\" >0.200000</td>\n",
       "      <td id=\"T_fcec8_row6_col12\" class=\"data row6 col12\" >0.000000</td>\n",
       "      <td id=\"T_fcec8_row6_col13\" class=\"data row6 col13\" >0.000000</td>\n",
       "      <td id=\"T_fcec8_row6_col14\" class=\"data row6 col14\" >0.000000</td>\n",
       "      <td id=\"T_fcec8_row6_col15\" class=\"data row6 col15\" >0.166700</td>\n",
       "      <td id=\"T_fcec8_row6_col16\" class=\"data row6 col16\" >0.001400</td>\n",
       "    </tr>\n",
       "    <tr>\n",
       "      <td id=\"T_fcec8_row7_col0\" class=\"data row7 col0\" >knn_euclidean_item_based</td>\n",
       "      <td id=\"T_fcec8_row7_col1\" class=\"data row7 col1\" >15.025600</td>\n",
       "      <td id=\"T_fcec8_row7_col2\" class=\"data row7 col2\" >3.876300</td>\n",
       "      <td id=\"T_fcec8_row7_col3\" class=\"data row7 col3\" >0.000000</td>\n",
       "      <td id=\"T_fcec8_row7_col4\" class=\"data row7 col4\" >0.000000</td>\n",
       "      <td id=\"T_fcec8_row7_col5\" class=\"data row7 col5\" >0.000000</td>\n",
       "      <td id=\"T_fcec8_row7_col6\" class=\"data row7 col6\" >0.333300</td>\n",
       "      <td id=\"T_fcec8_row7_col7\" class=\"data row7 col7\" >0.000000</td>\n",
       "      <td id=\"T_fcec8_row7_col8\" class=\"data row7 col8\" >0.000000</td>\n",
       "      <td id=\"T_fcec8_row7_col9\" class=\"data row7 col9\" >0.000000</td>\n",
       "      <td id=\"T_fcec8_row7_col10\" class=\"data row7 col10\" >0.250000</td>\n",
       "      <td id=\"T_fcec8_row7_col11\" class=\"data row7 col11\" >0.166700</td>\n",
       "      <td id=\"T_fcec8_row7_col12\" class=\"data row7 col12\" >0.000000</td>\n",
       "      <td id=\"T_fcec8_row7_col13\" class=\"data row7 col13\" >0.000000</td>\n",
       "      <td id=\"T_fcec8_row7_col14\" class=\"data row7 col14\" >0.000000</td>\n",
       "      <td id=\"T_fcec8_row7_col15\" class=\"data row7 col15\" >0.166700</td>\n",
       "      <td id=\"T_fcec8_row7_col16\" class=\"data row7 col16\" >0.001400</td>\n",
       "    </tr>\n",
       "    <tr>\n",
       "      <td id=\"T_fcec8_row8_col0\" class=\"data row8 col0\" >knn_minkowski_user_based</td>\n",
       "      <td id=\"T_fcec8_row8_col1\" class=\"data row8 col1\" >15.025600</td>\n",
       "      <td id=\"T_fcec8_row8_col2\" class=\"data row8 col2\" >3.876300</td>\n",
       "      <td id=\"T_fcec8_row8_col3\" class=\"data row8 col3\" >0.000000</td>\n",
       "      <td id=\"T_fcec8_row8_col4\" class=\"data row8 col4\" >0.000000</td>\n",
       "      <td id=\"T_fcec8_row8_col5\" class=\"data row8 col5\" >0.200000</td>\n",
       "      <td id=\"T_fcec8_row8_col6\" class=\"data row8 col6\" >0.000000</td>\n",
       "      <td id=\"T_fcec8_row8_col7\" class=\"data row8 col7\" >0.000000</td>\n",
       "      <td id=\"T_fcec8_row8_col8\" class=\"data row8 col8\" >0.000000</td>\n",
       "      <td id=\"T_fcec8_row8_col9\" class=\"data row8 col9\" >0.000000</td>\n",
       "      <td id=\"T_fcec8_row8_col10\" class=\"data row8 col10\" >0.000000</td>\n",
       "      <td id=\"T_fcec8_row8_col11\" class=\"data row8 col11\" >0.000000</td>\n",
       "      <td id=\"T_fcec8_row8_col12\" class=\"data row8 col12\" >0.000000</td>\n",
       "      <td id=\"T_fcec8_row8_col13\" class=\"data row8 col13\" >0.000000</td>\n",
       "      <td id=\"T_fcec8_row8_col14\" class=\"data row8 col14\" >0.000000</td>\n",
       "      <td id=\"T_fcec8_row8_col15\" class=\"data row8 col15\" >0.166700</td>\n",
       "      <td id=\"T_fcec8_row8_col16\" class=\"data row8 col16\" >0.001400</td>\n",
       "    </tr>\n",
       "    <tr>\n",
       "      <td id=\"T_fcec8_row9_col0\" class=\"data row9 col0\" >knn_minkowski_item_based</td>\n",
       "      <td id=\"T_fcec8_row9_col1\" class=\"data row9 col1\" >15.025600</td>\n",
       "      <td id=\"T_fcec8_row9_col2\" class=\"data row9 col2\" >3.876300</td>\n",
       "      <td id=\"T_fcec8_row9_col3\" class=\"data row9 col3\" >0.000000</td>\n",
       "      <td id=\"T_fcec8_row9_col4\" class=\"data row9 col4\" >0.000000</td>\n",
       "      <td id=\"T_fcec8_row9_col5\" class=\"data row9 col5\" >0.200000</td>\n",
       "      <td id=\"T_fcec8_row9_col6\" class=\"data row9 col6\" >0.000000</td>\n",
       "      <td id=\"T_fcec8_row9_col7\" class=\"data row9 col7\" >0.000000</td>\n",
       "      <td id=\"T_fcec8_row9_col8\" class=\"data row9 col8\" >0.166700</td>\n",
       "      <td id=\"T_fcec8_row9_col9\" class=\"data row9 col9\" >0.000000</td>\n",
       "      <td id=\"T_fcec8_row9_col10\" class=\"data row9 col10\" >0.000000</td>\n",
       "      <td id=\"T_fcec8_row9_col11\" class=\"data row9 col11\" >0.200000</td>\n",
       "      <td id=\"T_fcec8_row9_col12\" class=\"data row9 col12\" >0.000000</td>\n",
       "      <td id=\"T_fcec8_row9_col13\" class=\"data row9 col13\" >0.000000</td>\n",
       "      <td id=\"T_fcec8_row9_col14\" class=\"data row9 col14\" >0.000000</td>\n",
       "      <td id=\"T_fcec8_row9_col15\" class=\"data row9 col15\" >0.166700</td>\n",
       "      <td id=\"T_fcec8_row9_col16\" class=\"data row9 col16\" >0.001400</td>\n",
       "    </tr>\n",
       "    <tr>\n",
       "      <td id=\"T_fcec8_row10_col0\" class=\"data row10 col0\" >knn_mahalanobis_user_based</td>\n",
       "      <td id=\"T_fcec8_row10_col1\" class=\"data row10 col1\" >15.025600</td>\n",
       "      <td id=\"T_fcec8_row10_col2\" class=\"data row10 col2\" >3.876300</td>\n",
       "      <td id=\"T_fcec8_row10_col3\" class=\"data row10 col3\" >0.000000</td>\n",
       "      <td id=\"T_fcec8_row10_col4\" class=\"data row10 col4\" >0.000000</td>\n",
       "      <td id=\"T_fcec8_row10_col5\" class=\"data row10 col5\" >0.000000</td>\n",
       "      <td id=\"T_fcec8_row10_col6\" class=\"data row10 col6\" >0.250000</td>\n",
       "      <td id=\"T_fcec8_row10_col7\" class=\"data row10 col7\" >0.000000</td>\n",
       "      <td id=\"T_fcec8_row10_col8\" class=\"data row10 col8\" >0.000000</td>\n",
       "      <td id=\"T_fcec8_row10_col9\" class=\"data row10 col9\" >0.000000</td>\n",
       "      <td id=\"T_fcec8_row10_col10\" class=\"data row10 col10\" >0.000000</td>\n",
       "      <td id=\"T_fcec8_row10_col11\" class=\"data row10 col11\" >0.000000</td>\n",
       "      <td id=\"T_fcec8_row10_col12\" class=\"data row10 col12\" >0.000000</td>\n",
       "      <td id=\"T_fcec8_row10_col13\" class=\"data row10 col13\" >0.000000</td>\n",
       "      <td id=\"T_fcec8_row10_col14\" class=\"data row10 col14\" >0.000000</td>\n",
       "      <td id=\"T_fcec8_row10_col15\" class=\"data row10 col15\" >0.166700</td>\n",
       "      <td id=\"T_fcec8_row10_col16\" class=\"data row10 col16\" >0.001400</td>\n",
       "    </tr>\n",
       "    <tr>\n",
       "      <td id=\"T_fcec8_row11_col0\" class=\"data row11 col0\" >knn_mahalanobis_item_based</td>\n",
       "      <td id=\"T_fcec8_row11_col1\" class=\"data row11 col1\" >15.025600</td>\n",
       "      <td id=\"T_fcec8_row11_col2\" class=\"data row11 col2\" >3.876300</td>\n",
       "      <td id=\"T_fcec8_row11_col3\" class=\"data row11 col3\" >0.000000</td>\n",
       "      <td id=\"T_fcec8_row11_col4\" class=\"data row11 col4\" >0.000000</td>\n",
       "      <td id=\"T_fcec8_row11_col5\" class=\"data row11 col5\" >0.000000</td>\n",
       "      <td id=\"T_fcec8_row11_col6\" class=\"data row11 col6\" >0.000000</td>\n",
       "      <td id=\"T_fcec8_row11_col7\" class=\"data row11 col7\" >0.000000</td>\n",
       "      <td id=\"T_fcec8_row11_col8\" class=\"data row11 col8\" >0.000000</td>\n",
       "      <td id=\"T_fcec8_row11_col9\" class=\"data row11 col9\" >0.000000</td>\n",
       "      <td id=\"T_fcec8_row11_col10\" class=\"data row11 col10\" >0.000000</td>\n",
       "      <td id=\"T_fcec8_row11_col11\" class=\"data row11 col11\" >0.200000</td>\n",
       "      <td id=\"T_fcec8_row11_col12\" class=\"data row11 col12\" >0.000000</td>\n",
       "      <td id=\"T_fcec8_row11_col13\" class=\"data row11 col13\" >0.000000</td>\n",
       "      <td id=\"T_fcec8_row11_col14\" class=\"data row11 col14\" >0.000000</td>\n",
       "      <td id=\"T_fcec8_row11_col15\" class=\"data row11 col15\" >0.166700</td>\n",
       "      <td id=\"T_fcec8_row11_col16\" class=\"data row11 col16\" >0.001400</td>\n",
       "    </tr>\n",
       "    <tr>\n",
       "      <td id=\"T_fcec8_row12_col0\" class=\"data row12 col0\" >knn_chebyshev_user_based</td>\n",
       "      <td id=\"T_fcec8_row12_col1\" class=\"data row12 col1\" >15.025600</td>\n",
       "      <td id=\"T_fcec8_row12_col2\" class=\"data row12 col2\" >3.876300</td>\n",
       "      <td id=\"T_fcec8_row12_col3\" class=\"data row12 col3\" >0.000000</td>\n",
       "      <td id=\"T_fcec8_row12_col4\" class=\"data row12 col4\" >0.000000</td>\n",
       "      <td id=\"T_fcec8_row12_col5\" class=\"data row12 col5\" >0.200000</td>\n",
       "      <td id=\"T_fcec8_row12_col6\" class=\"data row12 col6\" >0.000000</td>\n",
       "      <td id=\"T_fcec8_row12_col7\" class=\"data row12 col7\" >0.000000</td>\n",
       "      <td id=\"T_fcec8_row12_col8\" class=\"data row12 col8\" >0.000000</td>\n",
       "      <td id=\"T_fcec8_row12_col9\" class=\"data row12 col9\" >0.333300</td>\n",
       "      <td id=\"T_fcec8_row12_col10\" class=\"data row12 col10\" >0.000000</td>\n",
       "      <td id=\"T_fcec8_row12_col11\" class=\"data row12 col11\" >0.000000</td>\n",
       "      <td id=\"T_fcec8_row12_col12\" class=\"data row12 col12\" >0.000000</td>\n",
       "      <td id=\"T_fcec8_row12_col13\" class=\"data row12 col13\" >0.000000</td>\n",
       "      <td id=\"T_fcec8_row12_col14\" class=\"data row12 col14\" >0.000000</td>\n",
       "      <td id=\"T_fcec8_row12_col15\" class=\"data row12 col15\" >0.166700</td>\n",
       "      <td id=\"T_fcec8_row12_col16\" class=\"data row12 col16\" >0.001400</td>\n",
       "    </tr>\n",
       "    <tr>\n",
       "      <td id=\"T_fcec8_row13_col0\" class=\"data row13 col0\" >knn_manhattan_user_based</td>\n",
       "      <td id=\"T_fcec8_row13_col1\" class=\"data row13 col1\" >15.025600</td>\n",
       "      <td id=\"T_fcec8_row13_col2\" class=\"data row13 col2\" >3.876300</td>\n",
       "      <td id=\"T_fcec8_row13_col3\" class=\"data row13 col3\" >0.000000</td>\n",
       "      <td id=\"T_fcec8_row13_col4\" class=\"data row13 col4\" >0.000000</td>\n",
       "      <td id=\"T_fcec8_row13_col5\" class=\"data row13 col5\" >0.166700</td>\n",
       "      <td id=\"T_fcec8_row13_col6\" class=\"data row13 col6\" >0.000000</td>\n",
       "      <td id=\"T_fcec8_row13_col7\" class=\"data row13 col7\" >0.000000</td>\n",
       "      <td id=\"T_fcec8_row13_col8\" class=\"data row13 col8\" >0.000000</td>\n",
       "      <td id=\"T_fcec8_row13_col9\" class=\"data row13 col9\" >0.000000</td>\n",
       "      <td id=\"T_fcec8_row13_col10\" class=\"data row13 col10\" >0.000000</td>\n",
       "      <td id=\"T_fcec8_row13_col11\" class=\"data row13 col11\" >0.000000</td>\n",
       "      <td id=\"T_fcec8_row13_col12\" class=\"data row13 col12\" >0.000000</td>\n",
       "      <td id=\"T_fcec8_row13_col13\" class=\"data row13 col13\" >0.000000</td>\n",
       "      <td id=\"T_fcec8_row13_col14\" class=\"data row13 col14\" >0.000000</td>\n",
       "      <td id=\"T_fcec8_row13_col15\" class=\"data row13 col15\" >0.166700</td>\n",
       "      <td id=\"T_fcec8_row13_col16\" class=\"data row13 col16\" >0.001400</td>\n",
       "    </tr>\n",
       "    <tr>\n",
       "      <td id=\"T_fcec8_row14_col0\" class=\"data row14 col0\" >knn_manhattan_item_based</td>\n",
       "      <td id=\"T_fcec8_row14_col1\" class=\"data row14 col1\" >15.025600</td>\n",
       "      <td id=\"T_fcec8_row14_col2\" class=\"data row14 col2\" >3.876300</td>\n",
       "      <td id=\"T_fcec8_row14_col3\" class=\"data row14 col3\" >0.000000</td>\n",
       "      <td id=\"T_fcec8_row14_col4\" class=\"data row14 col4\" >0.000000</td>\n",
       "      <td id=\"T_fcec8_row14_col5\" class=\"data row14 col5\" >0.000000</td>\n",
       "      <td id=\"T_fcec8_row14_col6\" class=\"data row14 col6\" >0.000000</td>\n",
       "      <td id=\"T_fcec8_row14_col7\" class=\"data row14 col7\" >0.000000</td>\n",
       "      <td id=\"T_fcec8_row14_col8\" class=\"data row14 col8\" >0.000000</td>\n",
       "      <td id=\"T_fcec8_row14_col9\" class=\"data row14 col9\" >0.333300</td>\n",
       "      <td id=\"T_fcec8_row14_col10\" class=\"data row14 col10\" >0.000000</td>\n",
       "      <td id=\"T_fcec8_row14_col11\" class=\"data row14 col11\" >0.000000</td>\n",
       "      <td id=\"T_fcec8_row14_col12\" class=\"data row14 col12\" >0.000000</td>\n",
       "      <td id=\"T_fcec8_row14_col13\" class=\"data row14 col13\" >0.000000</td>\n",
       "      <td id=\"T_fcec8_row14_col14\" class=\"data row14 col14\" >0.000000</td>\n",
       "      <td id=\"T_fcec8_row14_col15\" class=\"data row14 col15\" >0.166700</td>\n",
       "      <td id=\"T_fcec8_row14_col16\" class=\"data row14 col16\" >0.001400</td>\n",
       "    </tr>\n",
       "  </tbody>\n",
       "</table>\n"
      ],
      "text/plain": [
       "<pandas.io.formats.style.Styler at 0x7efff26e7010>"
      ]
     },
     "execution_count": 33,
     "metadata": {},
     "output_type": "execute_result"
    }
   ],
   "source": [
    "%%time\n",
    "evaluator.evaluate(predictors, rm) \\\n",
    "    .sort_values(by='Precision@5', ascending=False) \\\n",
    "    .style.hide(axis='index')"
   ]
  }
 ],
 "metadata": {
  "kernelspec": {
   "display_name": "Python 3 (ipykernel)",
   "language": "python",
   "name": "python3"
  },
  "language_info": {
   "codemirror_mode": {
    "name": "ipython",
    "version": 3
   },
   "file_extension": ".py",
   "mimetype": "text/x-python",
   "name": "python",
   "nbconvert_exporter": "python",
   "pygments_lexer": "ipython3",
   "version": "3.10.0"
  },
  "widgets": {
   "application/vnd.jupyter.widget-state+json": {
    "state": {},
    "version_major": 2,
    "version_minor": 0
   }
  }
 },
 "nbformat": 4,
 "nbformat_minor": 4
}
