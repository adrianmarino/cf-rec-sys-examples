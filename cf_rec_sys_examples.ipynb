{
 "cells": [
  {
   "cell_type": "code",
   "execution_count": 1,
   "metadata": {},
   "outputs": [],
   "source": [
    "%matplotlib inline\n",
    "%load_ext autoreload\n",
    "%autoreload 2"
   ]
  },
  {
   "cell_type": "markdown",
   "metadata": {},
   "source": [
    "* [Medium: Collaborative Filtering based Recommendation Systems exemplified..](https://towardsdatascience.com/collaborative-filtering-based-recommendation-systems-exemplified-ecbffe1c20b1)\n",
    "* This notebook is a fork of: [CF Recommendation System-Examples.ipynb](https://github.com/csaluja/JupyterNotebooks-Medium/blob/master/CF%20Recommendation%20System-Examples.ipynb)"
   ]
  },
  {
   "cell_type": "markdown",
   "metadata": {},
   "source": [
    "# Collaborative filtering based recommendation systems examples"
   ]
  },
  {
   "cell_type": "markdown",
   "metadata": {},
   "source": [
    "Make necesarry imports"
   ]
  },
  {
   "cell_type": "code",
   "execution_count": 2,
   "metadata": {},
   "outputs": [],
   "source": [
    "import sys\n",
    "sys.path.append('./src')\n",
    "\n",
    "from IPython.display import Image\n",
    "\n",
    "from scipy.spatial.distance import correlation, cosine\n",
    "\n",
    "from ratings_matrix import RatingsMatrix\n",
    "\n",
    "from similarity import cosine_sim, \\\n",
    "                       pearson_sim, \\\n",
    "                       adjusted_cosine_sim, \\\n",
    "                       spearman_sim, \\\n",
    "                       k_similar_rows, \\\n",
    "                       k_similar_rows_using_adjusted_cosine\n",
    "\n",
    "from recommendation import create_predictors, \\\n",
    "                           predict, \\\n",
    "                           evaluate, \\\n",
    "                           item_based_rating_predict, \\\n",
    "                           item_based_adjcos_rating_predict, \\\n",
    "                           user_based_rating_predict\n",
    "\n",
    "from show import show_similar_items, \\\n",
    "                 show_similar_users, \\\n",
    "                 show_prediction"
   ]
  },
  {
   "cell_type": "markdown",
   "metadata": {},
   "source": [
    "## Rating Matrix"
   ]
  },
  {
   "cell_type": "markdown",
   "metadata": {},
   "source": [
    "* Ratings matrix is user-item ratings matrix where ratings are integers from 1-10.\n",
    "* 6 users (rows) have rated 6 items (columns)."
   ]
  },
  {
   "cell_type": "code",
   "execution_count": 3,
   "metadata": {},
   "outputs": [
    {
     "data": {
      "text/html": [
       "<div>\n",
       "<style scoped>\n",
       "    .dataframe tbody tr th:only-of-type {\n",
       "        vertical-align: middle;\n",
       "    }\n",
       "\n",
       "    .dataframe tbody tr th {\n",
       "        vertical-align: top;\n",
       "    }\n",
       "\n",
       "    .dataframe thead th {\n",
       "        text-align: right;\n",
       "    }\n",
       "</style>\n",
       "<table border=\"1\" class=\"dataframe\">\n",
       "  <thead>\n",
       "    <tr style=\"text-align: right;\">\n",
       "      <th></th>\n",
       "      <th>0</th>\n",
       "      <th>1</th>\n",
       "      <th>2</th>\n",
       "      <th>3</th>\n",
       "      <th>4</th>\n",
       "      <th>5</th>\n",
       "    </tr>\n",
       "  </thead>\n",
       "  <tbody>\n",
       "    <tr>\n",
       "      <th>0</th>\n",
       "      <td>3</td>\n",
       "      <td>7</td>\n",
       "      <td>4</td>\n",
       "      <td>9</td>\n",
       "      <td>9</td>\n",
       "      <td>7</td>\n",
       "    </tr>\n",
       "    <tr>\n",
       "      <th>1</th>\n",
       "      <td>7</td>\n",
       "      <td>0</td>\n",
       "      <td>5</td>\n",
       "      <td>3</td>\n",
       "      <td>8</td>\n",
       "      <td>8</td>\n",
       "    </tr>\n",
       "    <tr>\n",
       "      <th>2</th>\n",
       "      <td>7</td>\n",
       "      <td>5</td>\n",
       "      <td>5</td>\n",
       "      <td>0</td>\n",
       "      <td>8</td>\n",
       "      <td>4</td>\n",
       "    </tr>\n",
       "    <tr>\n",
       "      <th>3</th>\n",
       "      <td>5</td>\n",
       "      <td>6</td>\n",
       "      <td>8</td>\n",
       "      <td>5</td>\n",
       "      <td>9</td>\n",
       "      <td>8</td>\n",
       "    </tr>\n",
       "    <tr>\n",
       "      <th>4</th>\n",
       "      <td>5</td>\n",
       "      <td>8</td>\n",
       "      <td>8</td>\n",
       "      <td>8</td>\n",
       "      <td>10</td>\n",
       "      <td>9</td>\n",
       "    </tr>\n",
       "    <tr>\n",
       "      <th>5</th>\n",
       "      <td>7</td>\n",
       "      <td>7</td>\n",
       "      <td>0</td>\n",
       "      <td>4</td>\n",
       "      <td>7</td>\n",
       "      <td>8</td>\n",
       "    </tr>\n",
       "  </tbody>\n",
       "</table>\n",
       "</div>"
      ],
      "text/plain": [
       "   0  1  2  3   4  5\n",
       "0  3  7  4  9   9  7\n",
       "1  7  0  5  3   8  8\n",
       "2  7  5  5  0   8  4\n",
       "3  5  6  8  5   9  8\n",
       "4  5  8  8  8  10  9\n",
       "5  7  7  0  4   7  8"
      ]
     },
     "metadata": {},
     "output_type": "display_data"
    },
    {
     "data": {
      "text/plain": []
     },
     "execution_count": 3,
     "metadata": {},
     "output_type": "execute_result"
    }
   ],
   "source": [
    "rm = RatingsMatrix([\n",
    "    [3, 7, 4, 9,  9, 7], \n",
    "    [7, 0, 5, 3,  8, 8],\n",
    "    [7, 5, 5, 0,  8, 4],\n",
    "    [5, 6, 8, 5,  9, 8],\n",
    "    [5, 8, 8, 8, 10, 9],\n",
    "    [7, 7, 0, 4,  7, 8]\n",
    "])\n",
    "rm"
   ]
  },
  {
   "cell_type": "markdown",
   "metadata": {},
   "source": [
    "User ratings / row values:"
   ]
  },
  {
   "cell_type": "code",
   "execution_count": 4,
   "metadata": {},
   "outputs": [
    {
     "data": {
      "text/plain": [
       "array([[3, 7, 4, 9, 9, 7]])"
      ]
     },
     "execution_count": 4,
     "metadata": {},
     "output_type": "execute_result"
    }
   ],
   "source": [
    "rm.row(1)"
   ]
  },
  {
   "cell_type": "markdown",
   "metadata": {},
   "source": [
    "Mean user rating / row mean:"
   ]
  },
  {
   "cell_type": "code",
   "execution_count": 5,
   "metadata": {},
   "outputs": [
    {
     "data": {
      "text/plain": [
       "6.5"
      ]
     },
     "execution_count": 5,
     "metadata": {},
     "output_type": "execute_result"
    }
   ],
   "source": [
    "rm.mean_row(1)"
   ]
  },
  {
   "cell_type": "markdown",
   "metadata": {},
   "source": [
    "User(row) rating deviation:"
   ]
  },
  {
   "cell_type": "code",
   "execution_count": 6,
   "metadata": {},
   "outputs": [
    {
     "data": {
      "text/plain": [
       "-3.5"
      ]
     },
     "execution_count": 6,
     "metadata": {},
     "output_type": "execute_result"
    }
   ],
   "source": [
    "rm.row_deviation(1, 1)"
   ]
  },
  {
   "cell_type": "markdown",
   "metadata": {},
   "source": [
    "User(Row)-item(Column) rating:"
   ]
  },
  {
   "cell_type": "code",
   "execution_count": 7,
   "metadata": {},
   "outputs": [
    {
     "data": {
      "text/plain": [
       "0"
      ]
     },
     "execution_count": 7,
     "metadata": {},
     "output_type": "execute_result"
    }
   ],
   "source": [
    "rm.cell(3, 4)"
   ]
  },
  {
   "cell_type": "markdown",
   "metadata": {},
   "source": [
    "Iterate each matrix value(rating):"
   ]
  },
  {
   "cell_type": "code",
   "execution_count": 8,
   "metadata": {},
   "outputs": [
    {
     "name": "stdout",
     "output_type": "stream",
     "text": [
      "rating: 3, user_id: 1, item_id: 1\n",
      "rating: 7, user_id: 1, item_id: 2\n",
      "rating: 4, user_id: 1, item_id: 3\n",
      "rating: 9, user_id: 1, item_id: 4\n",
      "rating: 9, user_id: 1, item_id: 5\n",
      "rating: 7, user_id: 1, item_id: 6\n",
      "rating: 7, user_id: 2, item_id: 1\n",
      "rating: 0, user_id: 2, item_id: 2\n",
      "rating: 5, user_id: 2, item_id: 3\n",
      "rating: 3, user_id: 2, item_id: 4\n",
      "rating: 8, user_id: 2, item_id: 5\n",
      "rating: 8, user_id: 2, item_id: 6\n",
      "rating: 7, user_id: 3, item_id: 1\n",
      "rating: 5, user_id: 3, item_id: 2\n",
      "rating: 5, user_id: 3, item_id: 3\n",
      "rating: 0, user_id: 3, item_id: 4\n",
      "rating: 8, user_id: 3, item_id: 5\n",
      "rating: 4, user_id: 3, item_id: 6\n",
      "rating: 5, user_id: 4, item_id: 1\n",
      "rating: 6, user_id: 4, item_id: 2\n",
      "rating: 8, user_id: 4, item_id: 3\n",
      "rating: 5, user_id: 4, item_id: 4\n",
      "rating: 9, user_id: 4, item_id: 5\n",
      "rating: 8, user_id: 4, item_id: 6\n",
      "rating: 5, user_id: 5, item_id: 1\n",
      "rating: 8, user_id: 5, item_id: 2\n",
      "rating: 8, user_id: 5, item_id: 3\n",
      "rating: 8, user_id: 5, item_id: 4\n",
      "rating: 10, user_id: 5, item_id: 5\n",
      "rating: 9, user_id: 5, item_id: 6\n",
      "rating: 7, user_id: 6, item_id: 1\n",
      "rating: 7, user_id: 6, item_id: 2\n",
      "rating: 0, user_id: 6, item_id: 3\n",
      "rating: 4, user_id: 6, item_id: 4\n",
      "rating: 7, user_id: 6, item_id: 5\n",
      "rating: 8, user_id: 6, item_id: 6\n"
     ]
    }
   ],
   "source": [
    "rm.for_each(lambda r, user_id, item_id: print(f'rating: {r}, user_id: {user_id}, item_id: {item_id}'))"
   ]
  },
  {
   "cell_type": "markdown",
   "metadata": {},
   "source": [
    "## See similarity values"
   ]
  },
  {
   "cell_type": "code",
   "execution_count": 9,
   "metadata": {},
   "outputs": [
    {
     "data": {
      "text/html": [
       "<div>\n",
       "<style scoped>\n",
       "    .dataframe tbody tr th:only-of-type {\n",
       "        vertical-align: middle;\n",
       "    }\n",
       "\n",
       "    .dataframe tbody tr th {\n",
       "        vertical-align: top;\n",
       "    }\n",
       "\n",
       "    .dataframe thead th {\n",
       "        text-align: right;\n",
       "    }\n",
       "</style>\n",
       "<table border=\"1\" class=\"dataframe\">\n",
       "  <thead>\n",
       "    <tr style=\"text-align: right;\">\n",
       "      <th></th>\n",
       "      <th>0</th>\n",
       "      <th>1</th>\n",
       "      <th>2</th>\n",
       "      <th>3</th>\n",
       "      <th>4</th>\n",
       "      <th>5</th>\n",
       "    </tr>\n",
       "  </thead>\n",
       "  <tbody>\n",
       "    <tr>\n",
       "      <th>0</th>\n",
       "      <td>1.000000</td>\n",
       "      <td>0.799268</td>\n",
       "      <td>0.779227</td>\n",
       "      <td>0.934622</td>\n",
       "      <td>0.973890</td>\n",
       "      <td>0.884600</td>\n",
       "    </tr>\n",
       "    <tr>\n",
       "      <th>1</th>\n",
       "      <td>0.799268</td>\n",
       "      <td>1.000000</td>\n",
       "      <td>0.874744</td>\n",
       "      <td>0.905850</td>\n",
       "      <td>0.866146</td>\n",
       "      <td>0.827036</td>\n",
       "    </tr>\n",
       "    <tr>\n",
       "      <th>2</th>\n",
       "      <td>0.779227</td>\n",
       "      <td>0.874744</td>\n",
       "      <td>1.000000</td>\n",
       "      <td>0.909513</td>\n",
       "      <td>0.865454</td>\n",
       "      <td>0.853275</td>\n",
       "    </tr>\n",
       "    <tr>\n",
       "      <th>3</th>\n",
       "      <td>0.934622</td>\n",
       "      <td>0.905850</td>\n",
       "      <td>0.909513</td>\n",
       "      <td>1.000000</td>\n",
       "      <td>0.989344</td>\n",
       "      <td>0.865614</td>\n",
       "    </tr>\n",
       "    <tr>\n",
       "      <th>4</th>\n",
       "      <td>0.973890</td>\n",
       "      <td>0.866146</td>\n",
       "      <td>0.865454</td>\n",
       "      <td>0.989344</td>\n",
       "      <td>1.000000</td>\n",
       "      <td>0.881640</td>\n",
       "    </tr>\n",
       "    <tr>\n",
       "      <th>5</th>\n",
       "      <td>0.884600</td>\n",
       "      <td>0.827036</td>\n",
       "      <td>0.853275</td>\n",
       "      <td>0.865614</td>\n",
       "      <td>0.881640</td>\n",
       "      <td>1.000000</td>\n",
       "    </tr>\n",
       "  </tbody>\n",
       "</table>\n",
       "</div>"
      ],
      "text/plain": [
       "          0         1         2         3         4         5\n",
       "0  1.000000  0.799268  0.779227  0.934622  0.973890  0.884600\n",
       "1  0.799268  1.000000  0.874744  0.905850  0.866146  0.827036\n",
       "2  0.779227  0.874744  1.000000  0.909513  0.865454  0.853275\n",
       "3  0.934622  0.905850  0.909513  1.000000  0.989344  0.865614\n",
       "4  0.973890  0.866146  0.865454  0.989344  1.000000  0.881640\n",
       "5  0.884600  0.827036  0.853275  0.865614  0.881640  1.000000"
      ]
     },
     "execution_count": 9,
     "metadata": {},
     "output_type": "execute_result"
    }
   ],
   "source": [
    "cosine_sim(rm)"
   ]
  },
  {
   "cell_type": "code",
   "execution_count": 10,
   "metadata": {},
   "outputs": [
    {
     "data": {
      "text/html": [
       "<div>\n",
       "<style scoped>\n",
       "    .dataframe tbody tr th:only-of-type {\n",
       "        vertical-align: middle;\n",
       "    }\n",
       "\n",
       "    .dataframe tbody tr th {\n",
       "        vertical-align: top;\n",
       "    }\n",
       "\n",
       "    .dataframe thead th {\n",
       "        text-align: right;\n",
       "    }\n",
       "</style>\n",
       "<table border=\"1\" class=\"dataframe\">\n",
       "  <thead>\n",
       "    <tr style=\"text-align: right;\">\n",
       "      <th></th>\n",
       "      <th>0</th>\n",
       "      <th>1</th>\n",
       "      <th>2</th>\n",
       "      <th>3</th>\n",
       "      <th>4</th>\n",
       "      <th>5</th>\n",
       "    </tr>\n",
       "  </thead>\n",
       "  <tbody>\n",
       "    <tr>\n",
       "      <th>0</th>\n",
       "      <td>1.000000</td>\n",
       "      <td>0.236908</td>\n",
       "      <td>0.421263</td>\n",
       "      <td>-0.519085</td>\n",
       "      <td>-0.125892</td>\n",
       "      <td>0.010090</td>\n",
       "    </tr>\n",
       "    <tr>\n",
       "      <th>1</th>\n",
       "      <td>0.236908</td>\n",
       "      <td>1.000000</td>\n",
       "      <td>-0.805243</td>\n",
       "      <td>0.085741</td>\n",
       "      <td>0.237273</td>\n",
       "      <td>0.520625</td>\n",
       "    </tr>\n",
       "    <tr>\n",
       "      <th>2</th>\n",
       "      <td>0.421263</td>\n",
       "      <td>-0.805243</td>\n",
       "      <td>1.000000</td>\n",
       "      <td>-0.767941</td>\n",
       "      <td>-0.230521</td>\n",
       "      <td>-0.053640</td>\n",
       "    </tr>\n",
       "    <tr>\n",
       "      <th>3</th>\n",
       "      <td>-0.519085</td>\n",
       "      <td>0.085741</td>\n",
       "      <td>-0.767941</td>\n",
       "      <td>1.000000</td>\n",
       "      <td>-0.299059</td>\n",
       "      <td>-0.644550</td>\n",
       "    </tr>\n",
       "    <tr>\n",
       "      <th>4</th>\n",
       "      <td>-0.125892</td>\n",
       "      <td>0.237273</td>\n",
       "      <td>-0.230521</td>\n",
       "      <td>-0.299059</td>\n",
       "      <td>1.000000</td>\n",
       "      <td>0.599158</td>\n",
       "    </tr>\n",
       "    <tr>\n",
       "      <th>5</th>\n",
       "      <td>0.010090</td>\n",
       "      <td>0.520625</td>\n",
       "      <td>-0.053640</td>\n",
       "      <td>-0.644550</td>\n",
       "      <td>0.599158</td>\n",
       "      <td>1.000000</td>\n",
       "    </tr>\n",
       "  </tbody>\n",
       "</table>\n",
       "</div>"
      ],
      "text/plain": [
       "          0         1         2         3         4         5\n",
       "0  1.000000  0.236908  0.421263 -0.519085 -0.125892  0.010090\n",
       "1  0.236908  1.000000 -0.805243  0.085741  0.237273  0.520625\n",
       "2  0.421263 -0.805243  1.000000 -0.767941 -0.230521 -0.053640\n",
       "3 -0.519085  0.085741 -0.767941  1.000000 -0.299059 -0.644550\n",
       "4 -0.125892  0.237273 -0.230521 -0.299059  1.000000  0.599158\n",
       "5  0.010090  0.520625 -0.053640 -0.644550  0.599158  1.000000"
      ]
     },
     "execution_count": 10,
     "metadata": {},
     "output_type": "execute_result"
    }
   ],
   "source": [
    "adjusted_cosine_sim(rm)"
   ]
  },
  {
   "cell_type": "code",
   "execution_count": 11,
   "metadata": {},
   "outputs": [
    {
     "data": {
      "text/html": [
       "<div>\n",
       "<style scoped>\n",
       "    .dataframe tbody tr th:only-of-type {\n",
       "        vertical-align: middle;\n",
       "    }\n",
       "\n",
       "    .dataframe tbody tr th {\n",
       "        vertical-align: top;\n",
       "    }\n",
       "\n",
       "    .dataframe thead th {\n",
       "        text-align: right;\n",
       "    }\n",
       "</style>\n",
       "<table border=\"1\" class=\"dataframe\">\n",
       "  <thead>\n",
       "    <tr style=\"text-align: right;\">\n",
       "      <th></th>\n",
       "      <th>0</th>\n",
       "      <th>1</th>\n",
       "      <th>2</th>\n",
       "      <th>3</th>\n",
       "      <th>4</th>\n",
       "      <th>5</th>\n",
       "    </tr>\n",
       "  </thead>\n",
       "  <tbody>\n",
       "    <tr>\n",
       "      <th>0</th>\n",
       "      <td>1.000000</td>\n",
       "      <td>-0.137446</td>\n",
       "      <td>-0.357398</td>\n",
       "      <td>0.208179</td>\n",
       "      <td>0.761905</td>\n",
       "      <td>0.277350</td>\n",
       "    </tr>\n",
       "    <tr>\n",
       "      <th>1</th>\n",
       "      <td>-0.137446</td>\n",
       "      <td>1.000000</td>\n",
       "      <td>0.453897</td>\n",
       "      <td>0.515910</td>\n",
       "      <td>0.112456</td>\n",
       "      <td>0.218328</td>\n",
       "    </tr>\n",
       "    <tr>\n",
       "      <th>2</th>\n",
       "      <td>-0.357398</td>\n",
       "      <td>0.453897</td>\n",
       "      <td>1.000000</td>\n",
       "      <td>0.451378</td>\n",
       "      <td>-0.042888</td>\n",
       "      <td>0.297373</td>\n",
       "    </tr>\n",
       "    <tr>\n",
       "      <th>3</th>\n",
       "      <td>0.208179</td>\n",
       "      <td>0.515910</td>\n",
       "      <td>0.451378</td>\n",
       "      <td>1.000000</td>\n",
       "      <td>0.763325</td>\n",
       "      <td>-0.057739</td>\n",
       "    </tr>\n",
       "    <tr>\n",
       "      <th>4</th>\n",
       "      <td>0.761905</td>\n",
       "      <td>0.112456</td>\n",
       "      <td>-0.042888</td>\n",
       "      <td>0.763325</td>\n",
       "      <td>1.000000</td>\n",
       "      <td>0.039621</td>\n",
       "    </tr>\n",
       "    <tr>\n",
       "      <th>5</th>\n",
       "      <td>0.277350</td>\n",
       "      <td>0.218328</td>\n",
       "      <td>0.297373</td>\n",
       "      <td>-0.057739</td>\n",
       "      <td>0.039621</td>\n",
       "      <td>1.000000</td>\n",
       "    </tr>\n",
       "  </tbody>\n",
       "</table>\n",
       "</div>"
      ],
      "text/plain": [
       "          0         1         2         3         4         5\n",
       "0  1.000000 -0.137446 -0.357398  0.208179  0.761905  0.277350\n",
       "1 -0.137446  1.000000  0.453897  0.515910  0.112456  0.218328\n",
       "2 -0.357398  0.453897  1.000000  0.451378 -0.042888  0.297373\n",
       "3  0.208179  0.515910  0.451378  1.000000  0.763325 -0.057739\n",
       "4  0.761905  0.112456 -0.042888  0.763325  1.000000  0.039621\n",
       "5  0.277350  0.218328  0.297373 -0.057739  0.039621  1.000000"
      ]
     },
     "execution_count": 11,
     "metadata": {},
     "output_type": "execute_result"
    }
   ],
   "source": [
    "pearson_sim(rm)"
   ]
  },
  {
   "cell_type": "code",
   "execution_count": 12,
   "metadata": {},
   "outputs": [
    {
     "data": {
      "text/html": [
       "<div>\n",
       "<style scoped>\n",
       "    .dataframe tbody tr th:only-of-type {\n",
       "        vertical-align: middle;\n",
       "    }\n",
       "\n",
       "    .dataframe tbody tr th {\n",
       "        vertical-align: top;\n",
       "    }\n",
       "\n",
       "    .dataframe thead th {\n",
       "        text-align: right;\n",
       "    }\n",
       "</style>\n",
       "<table border=\"1\" class=\"dataframe\">\n",
       "  <thead>\n",
       "    <tr style=\"text-align: right;\">\n",
       "      <th></th>\n",
       "      <th>0</th>\n",
       "      <th>1</th>\n",
       "      <th>2</th>\n",
       "      <th>3</th>\n",
       "      <th>4</th>\n",
       "      <th>5</th>\n",
       "    </tr>\n",
       "  </thead>\n",
       "  <tbody>\n",
       "    <tr>\n",
       "      <th>0</th>\n",
       "      <td>2.000000</td>\n",
       "      <td>1.029854</td>\n",
       "      <td>0.776094</td>\n",
       "      <td>1.272727</td>\n",
       "      <td>1.687836</td>\n",
       "      <td>1.031265</td>\n",
       "    </tr>\n",
       "    <tr>\n",
       "      <th>1</th>\n",
       "      <td>1.029854</td>\n",
       "      <td>2.000000</td>\n",
       "      <td>1.382353</td>\n",
       "      <td>1.582154</td>\n",
       "      <td>1.554437</td>\n",
       "      <td>1.523635</td>\n",
       "    </tr>\n",
       "    <tr>\n",
       "      <th>2</th>\n",
       "      <td>0.776094</td>\n",
       "      <td>1.382353</td>\n",
       "      <td>2.000000</td>\n",
       "      <td>1.403030</td>\n",
       "      <td>1.092406</td>\n",
       "      <td>1.123208</td>\n",
       "    </tr>\n",
       "    <tr>\n",
       "      <th>3</th>\n",
       "      <td>1.272727</td>\n",
       "      <td>1.582154</td>\n",
       "      <td>1.403030</td>\n",
       "      <td>2.000000</td>\n",
       "      <td>1.844162</td>\n",
       "      <td>1.187592</td>\n",
       "    </tr>\n",
       "    <tr>\n",
       "      <th>4</th>\n",
       "      <td>1.687836</td>\n",
       "      <td>1.554437</td>\n",
       "      <td>1.092406</td>\n",
       "      <td>1.844162</td>\n",
       "      <td>2.000000</td>\n",
       "      <td>1.354839</td>\n",
       "    </tr>\n",
       "    <tr>\n",
       "      <th>5</th>\n",
       "      <td>1.031265</td>\n",
       "      <td>1.523635</td>\n",
       "      <td>1.123208</td>\n",
       "      <td>1.187592</td>\n",
       "      <td>1.354839</td>\n",
       "      <td>2.000000</td>\n",
       "    </tr>\n",
       "  </tbody>\n",
       "</table>\n",
       "</div>"
      ],
      "text/plain": [
       "          0         1         2         3         4         5\n",
       "0  2.000000  1.029854  0.776094  1.272727  1.687836  1.031265\n",
       "1  1.029854  2.000000  1.382353  1.582154  1.554437  1.523635\n",
       "2  0.776094  1.382353  2.000000  1.403030  1.092406  1.123208\n",
       "3  1.272727  1.582154  1.403030  2.000000  1.844162  1.187592\n",
       "4  1.687836  1.554437  1.092406  1.844162  2.000000  1.354839\n",
       "5  1.031265  1.523635  1.123208  1.187592  1.354839  2.000000"
      ]
     },
     "execution_count": 12,
     "metadata": {},
     "output_type": "execute_result"
    }
   ],
   "source": [
    "spearman_sim(rm)"
   ]
  },
  {
   "cell_type": "markdown",
   "metadata": {},
   "source": [
    "**Note**: spearman is the robust alternative to pearson."
   ]
  },
  {
   "cell_type": "markdown",
   "metadata": {},
   "source": [
    "## User-based"
   ]
  },
  {
   "cell_type": "code",
   "execution_count": 13,
   "metadata": {},
   "outputs": [],
   "source": [
    "n_neighbors = 4"
   ]
  },
  {
   "cell_type": "markdown",
   "metadata": {},
   "source": [
    "### Similar users\n",
    "\n",
    "**k_similar_rows** function finds k similar users given the user_id and ratings matrix."
   ]
  },
  {
   "cell_type": "markdown",
   "metadata": {},
   "source": [
    "Using cosine similarity:"
   ]
  },
  {
   "cell_type": "code",
   "execution_count": 14,
   "metadata": {},
   "outputs": [
    {
     "name": "stdout",
     "output_type": "stream",
     "text": [
      "4 most similar users to user 1:\n",
      "\n",
      "- User ID 5, with similarity of 0.026110064598160565.\n",
      "- User ID 4, with similarity of 0.06537831582162312.\n",
      "- User ID 6, with similarity of 0.11539954277021858.\n",
      "- User ID 2, with similarity of 0.20073202194758122.\n"
     ]
    }
   ],
   "source": [
    "user_id = 1\n",
    "\n",
    "similarities, indices = k_similar_rows(rm, user_id, cosine, n_neighbors)\n",
    "\n",
    "show_similar_users(indices, similarities, user_id, n_neighbors)"
   ]
  },
  {
   "cell_type": "markdown",
   "metadata": {},
   "source": [
    "Using pearson similarity:"
   ]
  },
  {
   "cell_type": "code",
   "execution_count": 15,
   "metadata": {
    "scrolled": true
   },
   "outputs": [
    {
     "name": "stdout",
     "output_type": "stream",
     "text": [
      "4 most similar users to user 1:\n",
      "\n",
      "- User ID 5, with similarity of 0.23809523809523814.\n",
      "- User ID 6, with similarity of 0.7226499018873854.\n",
      "- User ID 4, with similarity of 0.7918205490733486.\n",
      "- User ID 2, with similarity of 1.1374463205132774.\n"
     ]
    }
   ],
   "source": [
    "similarities, indices = k_similar_rows(rm, user_id, correlation, n_neighbors)\n",
    "\n",
    "show_similar_users(indices, similarities, user_id, n_neighbors)"
   ]
  },
  {
   "cell_type": "markdown",
   "metadata": {},
   "source": [
    "### user_based_rating_predict"
   ]
  },
  {
   "cell_type": "markdown",
   "metadata": {},
   "source": [
    "This function predicts rating for specified user-item combination based on user-based approach:"
   ]
  },
  {
   "cell_type": "code",
   "execution_count": 16,
   "metadata": {},
   "outputs": [
    {
     "data": {
      "image/png": "[encoded data removed]",
      "text/plain": [
       "<IPython.core.display.Image object>"
      ]
     },
     "execution_count": 16,
     "metadata": {},
     "output_type": "execute_result"
    }
   ],
   "source": [
    "Image(filename='./images/user-based-similarity.png')"
   ]
  },
  {
   "cell_type": "code",
   "execution_count": 17,
   "metadata": {},
   "outputs": [
    {
     "name": "stdout",
     "output_type": "stream",
     "text": [
      "Item base rating prediction:\n",
      "- User ID: 3.\n",
      "- Item ID: 4.\n",
      "- Predicted rating: 3.51.\n",
      "- Real rating: 0 (0 == unrated item).\n"
     ]
    }
   ],
   "source": [
    "user_id = 3\n",
    "item_id = 4\n",
    "\n",
    "prediction = user_based_rating_predict(rm, user_id, item_id, cosine, n_neighbors)\n",
    "\n",
    "show_prediction(rm, user_id, item_id, prediction)"
   ]
  },
  {
   "cell_type": "markdown",
   "metadata": {},
   "source": [
    "## Item-based"
   ]
  },
  {
   "cell_type": "markdown",
   "metadata": {},
   "source": [
    "### Similar items (Cosine sim)\n",
    "\n",
    "**k_similar_rows** function finds k similar items given the item_id and a transposed version of ratings matrix."
   ]
  },
  {
   "cell_type": "code",
   "execution_count": 18,
   "metadata": {},
   "outputs": [
    {
     "name": "stdout",
     "output_type": "stream",
     "text": [
      "4 most similar items to item 3:\n",
      "\n",
      "- Item ID 5, with similarity of 0.08166387446547818.\n",
      "- Item ID 6, with similarity of 0.12524022696180503.\n",
      "- Item ID 1, with similarity of 0.18963525377782653.\n",
      "- Item ID 4, with similarity of 0.20308219969760688.\n"
     ]
    }
   ],
   "source": [
    "item_id = 3\n",
    "\n",
    "similarities, indices = k_similar_rows(rm.T(), item_id, cosine, n_neighbors)\n",
    "\n",
    "show_similar_items(indices, similarities, item_id, n_neighbors)"
   ]
  },
  {
   "cell_type": "markdown",
   "metadata": {},
   "source": [
    "### Item based predict"
   ]
  },
  {
   "cell_type": "markdown",
   "metadata": {},
   "source": [
    "**item_based_rating_predict** function predicts the rating for specified user-item combination based on item-based approach:"
   ]
  },
  {
   "cell_type": "code",
   "execution_count": 19,
   "metadata": {},
   "outputs": [
    {
     "data": {
      "image/png": "[encoded data removed]",
      "text/plain": [
       "<IPython.core.display.Image object>"
      ]
     },
     "execution_count": 19,
     "metadata": {},
     "output_type": "execute_result"
    }
   ],
   "source": [
    "Image(filename='./images/item-based-similarity.png') "
   ]
  },
  {
   "cell_type": "code",
   "execution_count": 20,
   "metadata": {},
   "outputs": [
    {
     "name": "stdout",
     "output_type": "stream",
     "text": [
      "Item base rating prediction:\n",
      "- User ID: 1.\n",
      "- Item ID: 3.\n",
      "- Predicted rating: 6.68.\n",
      "- Real rating: 4 (0 == unrated item).\n"
     ]
    }
   ],
   "source": [
    "user_id = 1\n",
    "item_id = 3\n",
    "\n",
    "prediction = item_based_rating_predict(rm, user_id, item_id, cosine, n_neighbors)\n",
    "\n",
    "show_prediction(rm, user_id, item_id, prediction)"
   ]
  },
  {
   "cell_type": "markdown",
   "metadata": {},
   "source": [
    "### Similar items (Adjusted cosine sim)"
   ]
  },
  {
   "cell_type": "markdown",
   "metadata": {},
   "source": [
    "**k_similar_row_adjcos** function finds k similar items given the item_id and ratings matrix."
   ]
  },
  {
   "cell_type": "code",
   "execution_count": 21,
   "metadata": {},
   "outputs": [
    {
     "name": "stdout",
     "output_type": "stream",
     "text": [
      "[ 0.42126273 -0.05363989 -0.23052136 -0.76794105]\n",
      "Int64Index([0, 5, 4, 3], dtype='int64')\n"
     ]
    }
   ],
   "source": [
    "similarities, indices = k_similar_rows_using_adjusted_cosine(rm, 3, n_neighbors)\n",
    "\n",
    "print(similarities)\n",
    "print(indices)"
   ]
  },
  {
   "cell_type": "markdown",
   "metadata": {},
   "source": [
    "### Item based prediction using adjusted cosine similarity"
   ]
  },
  {
   "cell_type": "markdown",
   "metadata": {},
   "source": [
    "**item_based_adjcos_rating_predict** function predicts the rating for specified user-item combination for adjusted cosine item-based approach. As the adjusted cosine similarities range from -1,+1, sometimes the predicted rating can be negative or greater than max value. Hack to deal with this: Rating is set to min if prediction is negative, Rating is set to max if prediction is above max."
   ]
  },
  {
   "cell_type": "code",
   "execution_count": 22,
   "metadata": {},
   "outputs": [
    {
     "data": {
      "image/png": "[encoded data removed]",
      "text/plain": [
       "<IPython.core.display.Image object>"
      ]
     },
     "execution_count": 22,
     "metadata": {},
     "output_type": "execute_result"
    }
   ],
   "source": [
    "Image(filename='./images/adj-cos-sim.png')"
   ]
  },
  {
   "cell_type": "code",
   "execution_count": 23,
   "metadata": {},
   "outputs": [
    {
     "name": "stdout",
     "output_type": "stream",
     "text": [
      "Item base rating prediction:\n",
      "- User ID: 3.\n",
      "- Item ID: 4.\n",
      "- Predicted rating: 5.94.\n",
      "- Real rating: 0 (0 == unrated item).\n"
     ]
    }
   ],
   "source": [
    "user_id = 3\n",
    "item_id = 4\n",
    "\n",
    "prediction = item_based_adjcos_rating_predict(rm, user_id, item_id, n_neighbors)\n",
    "\n",
    "show_prediction(rm, user_id, item_id, prediction)"
   ]
  },
  {
   "cell_type": "markdown",
   "metadata": {},
   "source": [
    "## Predict and evaluate"
   ]
  },
  {
   "cell_type": "code",
   "execution_count": 24,
   "metadata": {},
   "outputs": [
    {
     "data": {
      "text/plain": [
       "{'user_based_with_minkowski': 4.4,\n",
       " 'user_based_with_euclidean': 4.4,\n",
       " 'user_based_with_cosine': 3.51,\n",
       " 'user_based_with_pearson': 3.69,\n",
       " 'user_based_with_spearman': 3.08,\n",
       " 'user_based_with_manhattan': 4.38,\n",
       " 'item_based_with_minkowski': 5.69,\n",
       " 'item_based_with_euclidean': 5.69,\n",
       " 'item_based_with_manhattan': 5.64,\n",
       " 'item_based_with_cosine': 5.48,\n",
       " 'item_based_with_adj_cosine': 5.94,\n",
       " 'item_based_with_pearson': 5.33,\n",
       " 'item_based_with_spearman': 5.95}"
      ]
     },
     "execution_count": 24,
     "metadata": {},
     "output_type": "execute_result"
    }
   ],
   "source": [
    "predictors = create_predictors(rm, n_neighbors)\n",
    "\n",
    "predict(predictors, user_id=3,  item_id=4)"
   ]
  },
  {
   "cell_type": "code",
   "execution_count": 25,
   "metadata": {},
   "outputs": [
    {
     "data": {
      "text/plain": [
       "0"
      ]
     },
     "execution_count": 25,
     "metadata": {},
     "output_type": "execute_result"
    }
   ],
   "source": [
    "rm.cell(3, 4)"
   ]
  },
  {
   "cell_type": "markdown",
   "metadata": {},
   "source": [
    "if the item is already rated, it is not recommended:"
   ]
  },
  {
   "cell_type": "code",
   "execution_count": 26,
   "metadata": {},
   "outputs": [
    {
     "data": {
      "text/plain": [
       "{'user_based_with_minkowski': 4.54,\n",
       " 'user_based_with_euclidean': 4.54,\n",
       " 'user_based_with_cosine': 5.08,\n",
       " 'user_based_with_pearson': 4.72,\n",
       " 'user_based_with_spearman': 4.62,\n",
       " 'user_based_with_manhattan': 4.36,\n",
       " 'item_based_with_minkowski': 5.11,\n",
       " 'item_based_with_euclidean': 5.11,\n",
       " 'item_based_with_manhattan': 5.21,\n",
       " 'item_based_with_cosine': 3.92,\n",
       " 'item_based_with_adj_cosine': 2.18,\n",
       " 'item_based_with_pearson': 5.22,\n",
       " 'item_based_with_spearman': 4.95}"
      ]
     },
     "execution_count": 26,
     "metadata": {},
     "output_type": "execute_result"
    }
   ],
   "source": [
    "predict(predictors, user_id=2,  item_id=1)"
   ]
  },
  {
   "cell_type": "code",
   "execution_count": 27,
   "metadata": {},
   "outputs": [
    {
     "data": {
      "text/plain": [
       "7"
      ]
     },
     "execution_count": 27,
     "metadata": {},
     "output_type": "execute_result"
    }
   ],
   "source": [
    "rm.cell(2, 1)"
   ]
  },
  {
   "cell_type": "markdown",
   "metadata": {},
   "source": [
    "Evaluate predictions using RMSE and MAE error metrics:"
   ]
  },
  {
   "cell_type": "code",
   "execution_count": 28,
   "metadata": {},
   "outputs": [
    {
     "data": {
      "text/plain": [
       "{'user_based_with_minkowski': {'rmse': 2.734, 'mse': 7.476},\n",
       " 'user_based_with_euclidean': {'rmse': 2.734, 'mse': 7.476},\n",
       " 'user_based_with_cosine': {'rmse': 2.843, 'mse': 8.085},\n",
       " 'user_based_with_pearson': {'rmse': 2.774, 'mse': 7.693},\n",
       " 'user_based_with_spearman': {'rmse': 2.763, 'mse': 7.636},\n",
       " 'user_based_with_manhattan': {'rmse': 2.689, 'mse': 7.232},\n",
       " 'item_based_with_minkowski': {'rmse': 2.554, 'mse': 6.52},\n",
       " 'item_based_with_euclidean': {'rmse': 2.554, 'mse': 6.52},\n",
       " 'item_based_with_manhattan': {'rmse': 2.672, 'mse': 7.141},\n",
       " 'item_based_with_cosine': {'rmse': 2.618, 'mse': 6.852},\n",
       " 'item_based_with_adj_cosine': {'rmse': 3.124, 'mse': 9.762},\n",
       " 'item_based_with_pearson': {'rmse': 2.858, 'mse': 8.166},\n",
       " 'item_based_with_spearman': {'rmse': 3.034, 'mse': 9.205}}"
      ]
     },
     "execution_count": 28,
     "metadata": {},
     "output_type": "execute_result"
    }
   ],
   "source": [
    "evaluate(predictors, rm)"
   ]
  }
 ],
 "metadata": {
  "kernelspec": {
   "display_name": "Python 3",
   "language": "python",
   "name": "python3"
  },
  "language_info": {
   "codemirror_mode": {
    "name": "ipython",
    "version": 3
   },
   "file_extension": ".py",
   "mimetype": "text/x-python",
   "name": "python",
   "nbconvert_exporter": "python",
   "pygments_lexer": "ipython3",
   "version": "3.8.5"
  },
  "widgets": {
   "application/vnd.jupyter.widget-state+json": {
    "state": {},
    "version_major": 2,
    "version_minor": 0
   }
  }
 },
 "nbformat": 4,
 "nbformat_minor": 4
}
